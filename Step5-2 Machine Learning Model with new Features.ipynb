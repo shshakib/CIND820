{
 "cells": [
  {
   "cell_type": "markdown",
   "source": [
    "# Setep 5: Machine Learning Model\r\n",
    "\r\n",
    "<br>\r\n",
    "In this step our Machine learning model will be created and its performance and accuracy will be evaluated using different parameters. Random Forest and Gradient-boosting were chosen to be used in the project"
   ],
   "metadata": {}
  },
  {
   "cell_type": "code",
   "execution_count": 14,
   "source": [
    "#Clean up any values left from any previous steps\r\n",
    "def cleanup():\r\n",
    "    for name in dir():\r\n",
    "        if not name.startswith('_'):\r\n",
    "            del globals()[name]\r\n",
    "cleanup()"
   ],
   "outputs": [],
   "metadata": {}
  },
  {
   "cell_type": "code",
   "execution_count": 1,
   "source": [
    "#Load Lemmatized Dataset from prevous steps\r\n",
    "import pandas as pd\r\n",
    "\r\n",
    "pd.set_option('display.max_rows', None, 'display.max_colwidth', 50)\r\n",
    "\r\n",
    "fields = ['Type', 'IE', 'NS', 'FT', 'PJ', 'Posts_Lemmatized', 'No_Characters', 'No_Words', 'No_Char-Capital', 'No_Words-Capital-tr', 'No_Punctuations', 'No_WordsInQuotes',\r\n",
    "                 'No_Sentences', 'No_UniqueWords', 'No_Stopwords', 'Avg_WordLength', 'Avg_SentLength-tr', 'UniqueWrd_vs_NoWrd', 'Stopwords_vs_NoWrd']\r\n",
    "mbti_Dataset = pd.read_pickle('mbti_FE.pkl')\r\n",
    "mbti_Dataset = mbti_Dataset.filter(fields)\r\n",
    "mbti_Dataset.head()"
   ],
   "outputs": [
    {
     "output_type": "execute_result",
     "data": {
      "text/plain": [
       "   Type IE NS FT PJ                                   Posts_Lemmatized  \\\n",
       "0  INFJ  I  N  F  J  [, moment, sportscenter, top, ten, play, prank...   \n",
       "1  ENTP  E  N  T  P  [finding, lack, post, alarming, sex, boring, p...   \n",
       "2  INTP  I  N  T  P  [good, one, course, say, know, blessing, curse...   \n",
       "3  INTJ  I  N  T  J  [dear, enjoyed, conversation, day, esoteric, g...   \n",
       "4  ENTJ  E  N  T  J  [fired, another, silly, misconception, approac...   \n",
       "\n",
       "   No_Characters  No_Words  No_Char-Capital  No_Words-Capital-tr  \\\n",
       "0           2760       548               73             0.000000   \n",
       "1           5241      1166              312             1.000000   \n",
       "2           4168       833              151             1.122462   \n",
       "3           5071      1062              245             1.200937   \n",
       "4           4717       965              201             1.307660   \n",
       "\n",
       "   No_Punctuations  No_WordsInQuotes  No_Sentences  No_UniqueWords  \\\n",
       "0              141                 9            24             355   \n",
       "1              287                26            81             545   \n",
       "2              227                15            41             463   \n",
       "3              294                28            67             518   \n",
       "4              232                14            65             500   \n",
       "\n",
       "   No_Stopwords  Avg_WordLength  Avg_SentLength-tr  UniqueWrd_vs_NoWrd  \\\n",
       "0           238        5.036496           1.684334            0.647810   \n",
       "1           484        4.494854           1.559680            0.467410   \n",
       "2           338        5.003601           1.651874            0.555822   \n",
       "3           469        4.774953           1.584923            0.487759   \n",
       "4           436        4.888083           1.567722            0.518135   \n",
       "\n",
       "   Stopwords_vs_NoWrd  \n",
       "0            0.434307  \n",
       "1            0.415094  \n",
       "2            0.405762  \n",
       "3            0.441620  \n",
       "4            0.451813  "
      ],
      "text/html": [
       "<div>\n",
       "<style scoped>\n",
       "    .dataframe tbody tr th:only-of-type {\n",
       "        vertical-align: middle;\n",
       "    }\n",
       "\n",
       "    .dataframe tbody tr th {\n",
       "        vertical-align: top;\n",
       "    }\n",
       "\n",
       "    .dataframe thead th {\n",
       "        text-align: right;\n",
       "    }\n",
       "</style>\n",
       "<table border=\"1\" class=\"dataframe\">\n",
       "  <thead>\n",
       "    <tr style=\"text-align: right;\">\n",
       "      <th></th>\n",
       "      <th>Type</th>\n",
       "      <th>IE</th>\n",
       "      <th>NS</th>\n",
       "      <th>FT</th>\n",
       "      <th>PJ</th>\n",
       "      <th>Posts_Lemmatized</th>\n",
       "      <th>No_Characters</th>\n",
       "      <th>No_Words</th>\n",
       "      <th>No_Char-Capital</th>\n",
       "      <th>No_Words-Capital-tr</th>\n",
       "      <th>No_Punctuations</th>\n",
       "      <th>No_WordsInQuotes</th>\n",
       "      <th>No_Sentences</th>\n",
       "      <th>No_UniqueWords</th>\n",
       "      <th>No_Stopwords</th>\n",
       "      <th>Avg_WordLength</th>\n",
       "      <th>Avg_SentLength-tr</th>\n",
       "      <th>UniqueWrd_vs_NoWrd</th>\n",
       "      <th>Stopwords_vs_NoWrd</th>\n",
       "    </tr>\n",
       "  </thead>\n",
       "  <tbody>\n",
       "    <tr>\n",
       "      <th>0</th>\n",
       "      <td>INFJ</td>\n",
       "      <td>I</td>\n",
       "      <td>N</td>\n",
       "      <td>F</td>\n",
       "      <td>J</td>\n",
       "      <td>[, moment, sportscenter, top, ten, play, prank...</td>\n",
       "      <td>2760</td>\n",
       "      <td>548</td>\n",
       "      <td>73</td>\n",
       "      <td>0.000000</td>\n",
       "      <td>141</td>\n",
       "      <td>9</td>\n",
       "      <td>24</td>\n",
       "      <td>355</td>\n",
       "      <td>238</td>\n",
       "      <td>5.036496</td>\n",
       "      <td>1.684334</td>\n",
       "      <td>0.647810</td>\n",
       "      <td>0.434307</td>\n",
       "    </tr>\n",
       "    <tr>\n",
       "      <th>1</th>\n",
       "      <td>ENTP</td>\n",
       "      <td>E</td>\n",
       "      <td>N</td>\n",
       "      <td>T</td>\n",
       "      <td>P</td>\n",
       "      <td>[finding, lack, post, alarming, sex, boring, p...</td>\n",
       "      <td>5241</td>\n",
       "      <td>1166</td>\n",
       "      <td>312</td>\n",
       "      <td>1.000000</td>\n",
       "      <td>287</td>\n",
       "      <td>26</td>\n",
       "      <td>81</td>\n",
       "      <td>545</td>\n",
       "      <td>484</td>\n",
       "      <td>4.494854</td>\n",
       "      <td>1.559680</td>\n",
       "      <td>0.467410</td>\n",
       "      <td>0.415094</td>\n",
       "    </tr>\n",
       "    <tr>\n",
       "      <th>2</th>\n",
       "      <td>INTP</td>\n",
       "      <td>I</td>\n",
       "      <td>N</td>\n",
       "      <td>T</td>\n",
       "      <td>P</td>\n",
       "      <td>[good, one, course, say, know, blessing, curse...</td>\n",
       "      <td>4168</td>\n",
       "      <td>833</td>\n",
       "      <td>151</td>\n",
       "      <td>1.122462</td>\n",
       "      <td>227</td>\n",
       "      <td>15</td>\n",
       "      <td>41</td>\n",
       "      <td>463</td>\n",
       "      <td>338</td>\n",
       "      <td>5.003601</td>\n",
       "      <td>1.651874</td>\n",
       "      <td>0.555822</td>\n",
       "      <td>0.405762</td>\n",
       "    </tr>\n",
       "    <tr>\n",
       "      <th>3</th>\n",
       "      <td>INTJ</td>\n",
       "      <td>I</td>\n",
       "      <td>N</td>\n",
       "      <td>T</td>\n",
       "      <td>J</td>\n",
       "      <td>[dear, enjoyed, conversation, day, esoteric, g...</td>\n",
       "      <td>5071</td>\n",
       "      <td>1062</td>\n",
       "      <td>245</td>\n",
       "      <td>1.200937</td>\n",
       "      <td>294</td>\n",
       "      <td>28</td>\n",
       "      <td>67</td>\n",
       "      <td>518</td>\n",
       "      <td>469</td>\n",
       "      <td>4.774953</td>\n",
       "      <td>1.584923</td>\n",
       "      <td>0.487759</td>\n",
       "      <td>0.441620</td>\n",
       "    </tr>\n",
       "    <tr>\n",
       "      <th>4</th>\n",
       "      <td>ENTJ</td>\n",
       "      <td>E</td>\n",
       "      <td>N</td>\n",
       "      <td>T</td>\n",
       "      <td>J</td>\n",
       "      <td>[fired, another, silly, misconception, approac...</td>\n",
       "      <td>4717</td>\n",
       "      <td>965</td>\n",
       "      <td>201</td>\n",
       "      <td>1.307660</td>\n",
       "      <td>232</td>\n",
       "      <td>14</td>\n",
       "      <td>65</td>\n",
       "      <td>500</td>\n",
       "      <td>436</td>\n",
       "      <td>4.888083</td>\n",
       "      <td>1.567722</td>\n",
       "      <td>0.518135</td>\n",
       "      <td>0.451813</td>\n",
       "    </tr>\n",
       "  </tbody>\n",
       "</table>\n",
       "</div>"
      ]
     },
     "metadata": {},
     "execution_count": 1
    }
   ],
   "metadata": {}
  },
  {
   "cell_type": "markdown",
   "source": [
    "## 5-1: Split our data into training and test\r\n",
    "\r\n",
    "In this part we are splitting our Dataset into Training and Test dataset. Test size is 20%."
   ],
   "metadata": {}
  },
  {
   "cell_type": "code",
   "execution_count": 2,
   "source": [
    "from sklearn.model_selection import train_test_split\r\n",
    "\r\n",
    "field = ['Posts_Lemmatized', 'No_Characters', 'No_Words', 'No_Char-Capital', 'No_Words-Capital-tr', 'No_Punctuations', 'No_WordsInQuotes',\r\n",
    "                 'No_Sentences', 'No_UniqueWords', 'No_Stopwords', 'Avg_WordLength', 'Avg_SentLength-tr', 'UniqueWrd_vs_NoWrd', 'Stopwords_vs_NoWrd']\r\n",
    "X_train, X_test, Y_train, Y_test = train_test_split(mbti_Dataset[field], mbti_Dataset[['IE' , 'NS', 'FT', 'PJ']], test_size=0.2)#20% of dataset is test set    \r\n",
    "\r\n",
    "#Save Training and Test dataset in Picklet format.\r\n",
    "X_train.to_pickle('X_train_fe.pkl')\r\n",
    "X_test.to_pickle('X_test_fe.pkl')\r\n",
    "Y_train.to_pickle('Y_train_fe.pkl')\r\n",
    "Y_test.to_pickle('Y_test_fe.pkl')"
   ],
   "outputs": [],
   "metadata": {}
  },
  {
   "cell_type": "markdown",
   "source": [
    "Now training and test dataset will be converted to TFIDF, CountVectorizer and N-Grams(Same approad as step3 was used here). The result will be saved so it can be used in later steps. "
   ],
   "metadata": {}
  },
  {
   "cell_type": "code",
   "execution_count": 3,
   "source": [
    "#Converting data to TFIDF, CountVectorizer and N-Grams. The result will be saved so it can be used in later steps. \r\n",
    "import nltk\r\n",
    "from sklearn.feature_extraction.text import TfidfVectorizer\r\n",
    "from sklearn.feature_extraction.text import CountVectorizer\r\n",
    "import numpy as np\r\n",
    "from scipy import sparse\r\n",
    "import pandas as pd\r\n",
    "\r\n",
    "\r\n",
    "field = ['No_Characters', 'No_Words', 'No_Char-Capital', 'No_Words-Capital-tr', 'No_Punctuations', 'No_WordsInQuotes',\r\n",
    "         'No_Sentences', 'No_UniqueWords', 'No_Stopwords', 'Avg_WordLength', 'Avg_SentLength-tr', 'UniqueWrd_vs_NoWrd', \r\n",
    "         'Stopwords_vs_NoWrd']\r\n",
    "\r\n",
    "def lemmatizing(text):\r\n",
    "    \"\"\"Lemmatizing the input text using WordNet and NLTK package\"\"\"\r\n",
    "    NLTK_WNL = nltk.WordNetLemmatizer()\r\n",
    "    text_Lem = [NLTK_WNL.lemmatize(word) for word in text]\r\n",
    "    return(text_Lem)\r\n",
    "\r\n",
    "\r\n",
    "def clean_and_load():\r\n",
    "    \"\"\"Delete all variables inside memory and load training and test dataset\"\"\"\r\n",
    "    for name in dir():\r\n",
    "        if not name.startswith('_'):\r\n",
    "            del globals()[name]\r\n",
    "    global X_train, X_test, Y_train, Y_test\r\n",
    "    X_train = pd.read_pickle('X_train_fe.pkl')\r\n",
    "    X_test = pd.read_pickle('X_test_fe.pkl')\r\n",
    "    Y_train = pd.read_pickle('Y_train_fe.pkl')\r\n",
    "    Y_test = pd.read_pickle('Y_test_fe.pkl')\r\n",
    "\r\n",
    "\r\n",
    "#TFIDF\r\n",
    "clean_and_load()\r\n",
    "tfidf_vect = TfidfVectorizer(analyzer=lemmatizing)\r\n",
    "tfidf_vect_fit = tfidf_vect.fit(X_train['Posts_Lemmatized'])\r\n",
    "\r\n",
    "tfidf_train = tfidf_vect_fit.transform(X_train['Posts_Lemmatized'])\r\n",
    "tfidf_test = tfidf_vect_fit.transform(X_test['Posts_Lemmatized'])\r\n",
    "\r\n",
    "X_train_tfidf = pd.concat([X_train[field].reset_index(drop=True), \r\n",
    "                          pd.DataFrame(tfidf_train.toarray())], axis = 1)\r\n",
    "\r\n",
    "X_test_tfidf = pd.concat([X_test[field].reset_index(drop=True),\r\n",
    "                         pd.DataFrame(tfidf_test.toarray())], axis = 1)\r\n",
    "\r\n",
    "np.save('X_train_tfidf_fe.npy', X_train_tfidf)#Saving results\r\n",
    "np.save('X_test_tfidf_fe.npy', X_test_tfidf)#Saving results\r\n",
    "\r\n",
    "\r\n",
    "\r\n",
    "#CountVectorizer\r\n",
    "clean_and_load()\r\n",
    "count_vect = CountVectorizer(analyzer=lemmatizing)\r\n",
    "count_vect_fit = count_vect.fit(X_train['Posts_Lemmatized'])\r\n",
    "\r\n",
    "count_train = count_vect_fit.transform(X_train['Posts_Lemmatized'])\r\n",
    "count_test = count_vect_fit.transform(X_test['Posts_Lemmatized'])\r\n",
    "\r\n",
    "X_train_count = pd.concat([X_train[field].reset_index(drop=True), \r\n",
    "                          pd.DataFrame(count_train.toarray())], axis = 1)\r\n",
    "\r\n",
    "X_test_count = pd.concat([X_test[field].reset_index(drop=True), \r\n",
    "                          pd.DataFrame(count_test.toarray())], axis = 1)\r\n",
    "\r\n",
    "np.save('X_train_count_fe.npy', X_train_count)#Saving results\r\n",
    "np.save('X_test_count_fe.npy', X_test_count)#Saving results\r\n"
   ],
   "outputs": [],
   "metadata": {}
  },
  {
   "cell_type": "markdown",
   "source": [
    "Since the result for N-Grams(3-Grams) was over 300GB, we are tuning our parameters on CountVectorizer and TFIDF."
   ],
   "metadata": {}
  },
  {
   "cell_type": "markdown",
   "source": [
    "## 5-1: Random Forest Model\r\n",
    "### 5-1-1: Explorering Random Forest with Holdout test set + grid-search\r\n",
    "In this step, various parameters are being used on our train dataset to find the best parameter for our Random Forest model. (Number of estimator, Maximum depth)"
   ],
   "metadata": {}
  },
  {
   "cell_type": "code",
   "execution_count": 4,
   "source": [
    "from sklearn.metrics import precision_recall_fscore_support as score\r\n",
    "from sklearn.ensemble import RandomForestClassifier\r\n",
    "import pandas as pd\r\n",
    "import numpy as np\r\n",
    "\r\n",
    "pd.set_option('display.max_rows', None, 'display.max_colwidth', 500)\r\n",
    "\r\n",
    "\r\n",
    "def rfClassifier_GridSearch(X_test_set, X_train_set, Lable, n_est, depth, feature_type, is_print = True):\r\n",
    "    \"\"\"This function will get number of estimators and depth as input return  Precision, recall and Accuracy for a given dataset and lable\"\"\"\r\n",
    "    if Lable == 'IE':\r\n",
    "        s_Lable = 'I'\r\n",
    "        predict_Lable = 'Introverts'\r\n",
    "    elif Lable == 'NS':\r\n",
    "        s_Lable = 'N'\r\n",
    "        predict_Lable = 'Intuitives'\r\n",
    "    elif Lable == 'FT':\r\n",
    "        s_Lable = 'F'\r\n",
    "        predict_Lable = 'Feelers'\r\n",
    "    elif Lable == 'PJ':\r\n",
    "        s_Lable = 'P'\r\n",
    "        predict_Lable = 'Perceivers'\r\n",
    "\r\n",
    "    rf = RandomForestClassifier(n_estimators=n_est, max_depth=depth ,n_jobs=-1)#Max depth of tree is 20\r\n",
    "    rf_model = rf.fit(X_train_set, Y_train[Lable])\r\n",
    "    Y_pred = rf_model.predict(X_test_set)\r\n",
    "\r\n",
    "    precision, recall, fscore, support = score(Y_test[Lable], Y_pred, pos_label=s_Lable, average='binary')\r\n",
    "    if is_print:\r\n",
    "        print('Being ' + predict_Lable + ' using ' + feature_type + ':'  ,\r\n",
    "        'Estimators: {} / Max_Depth: {} --> Precision: {} / Recall: {} / Accuracy: {}'.format(\r\n",
    "                                                        n_est,\r\n",
    "                                                        depth,\r\n",
    "                                                        round(precision, 3),\r\n",
    "                                                        round(recall, 3), \r\n",
    "                                                        round((Y_pred==Y_test[Lable]).sum() / len(Y_pred),3)))\r\n",
    "    return([predict_Lable, feature_type, n_est, depth, precision, recall, round((Y_pred==Y_test[Lable]).sum() / len(Y_pred),3)])\r\n",
    "\r\n",
    "\r\n",
    "classes = ['IE' , 'NS', 'FT', 'PJ']\r\n",
    "rf_result = []\r\n",
    "\r\n",
    "Y_train = pd.read_pickle('Y_train_fe.pkl')\r\n",
    "Y_test = pd.read_pickle('Y_test_fe.pkl')\r\n",
    "\r\n",
    "#Nested loop to check different values on different features/classes to find the best parameters\r\n",
    "for feature_type in ['TFIDF', 'CountVectorizer']:\r\n",
    "    if feature_type == 'TFIDF':\r\n",
    "        X_test_set = np.load('X_test_tfidf_fe.npy')\r\n",
    "        X_train_set = np.load('X_train_tfidf_fe.npy')\r\n",
    "    elif feature_type == 'CountVectorizer':\r\n",
    "        X_test_set = np.load('X_test_count_fe.npy')\r\n",
    "        X_train_set = np.load('X_train_count_fe.npy')\r\n",
    "    #elif feature_type == 'N-gram':\r\n",
    "        #X_test_set = np.load('X_test_ngram.npy')\r\n",
    "        #X_train_set = np.load('X_train_ngram.npy')\r\n",
    "    for item in classes:\r\n",
    "        for n_est in [10, 50, 100, 200, 500]:\r\n",
    "            for depth in [5, 10, 20, 30, None]:\r\n",
    "                rf_result.append(rfClassifier_GridSearch(X_test_set = X_test_set, X_train_set = X_train_set, Lable = item, n_est=n_est, depth=depth, feature_type=feature_type,is_print = False))\r\n",
    "\r\n",
    "\r\n",
    "pd.DataFrame(rf_result, columns= ['Type', 'Method', 'Estimators', 'Max_Depth', 'Precision', 'Recall', 'Accuracy']).to_csv('RF_Holdout_Result_fe.csv')"
   ],
   "outputs": [],
   "metadata": {}
  },
  {
   "cell_type": "code",
   "execution_count": 12,
   "source": [
    "pd.DataFrame(rf_result, columns= ['Type', 'Method', 'Estimators', 'Max_Depth', 'Precision', 'Recall', 'Accuracy']).sort_values(['Accuracy'], ascending=False).groupby(['Method', 'Type']).head(1)"
   ],
   "outputs": [
    {
     "output_type": "execute_result",
     "data": {
      "text/plain": [
       "           Type           Method  Estimators  Max_Depth  Precision    Recall  \\\n",
       "29   Intuitives            TFIDF          10        NaN   0.864740  0.999332   \n",
       "129  Intuitives  CountVectorizer          10        NaN   0.863820  1.000000   \n",
       "103  Introverts  CountVectorizer          10       30.0   0.771147  0.999249   \n",
       "0    Introverts            TFIDF          10        5.0   0.767723  1.000000   \n",
       "74      Feelers            TFIDF         500        NaN   0.709409  0.914163   \n",
       "174     Feelers  CountVectorizer         500        NaN   0.705491  0.909871   \n",
       "184  Perceivers  CountVectorizer          50        NaN   0.633375  0.953378   \n",
       "89   Perceivers            TFIDF         100        NaN   0.629262  0.965747   \n",
       "\n",
       "     Accuracy  \n",
       "29      0.865  \n",
       "129     0.864  \n",
       "103     0.772  \n",
       "0       0.768  \n",
       "74      0.753  \n",
       "174     0.748  \n",
       "184     0.637  \n",
       "89      0.635  "
      ],
      "text/html": [
       "<div>\n",
       "<style scoped>\n",
       "    .dataframe tbody tr th:only-of-type {\n",
       "        vertical-align: middle;\n",
       "    }\n",
       "\n",
       "    .dataframe tbody tr th {\n",
       "        vertical-align: top;\n",
       "    }\n",
       "\n",
       "    .dataframe thead th {\n",
       "        text-align: right;\n",
       "    }\n",
       "</style>\n",
       "<table border=\"1\" class=\"dataframe\">\n",
       "  <thead>\n",
       "    <tr style=\"text-align: right;\">\n",
       "      <th></th>\n",
       "      <th>Type</th>\n",
       "      <th>Method</th>\n",
       "      <th>Estimators</th>\n",
       "      <th>Max_Depth</th>\n",
       "      <th>Precision</th>\n",
       "      <th>Recall</th>\n",
       "      <th>Accuracy</th>\n",
       "    </tr>\n",
       "  </thead>\n",
       "  <tbody>\n",
       "    <tr>\n",
       "      <th>29</th>\n",
       "      <td>Intuitives</td>\n",
       "      <td>TFIDF</td>\n",
       "      <td>10</td>\n",
       "      <td>NaN</td>\n",
       "      <td>0.864740</td>\n",
       "      <td>0.999332</td>\n",
       "      <td>0.865</td>\n",
       "    </tr>\n",
       "    <tr>\n",
       "      <th>129</th>\n",
       "      <td>Intuitives</td>\n",
       "      <td>CountVectorizer</td>\n",
       "      <td>10</td>\n",
       "      <td>NaN</td>\n",
       "      <td>0.863820</td>\n",
       "      <td>1.000000</td>\n",
       "      <td>0.864</td>\n",
       "    </tr>\n",
       "    <tr>\n",
       "      <th>103</th>\n",
       "      <td>Introverts</td>\n",
       "      <td>CountVectorizer</td>\n",
       "      <td>10</td>\n",
       "      <td>30.0</td>\n",
       "      <td>0.771147</td>\n",
       "      <td>0.999249</td>\n",
       "      <td>0.772</td>\n",
       "    </tr>\n",
       "    <tr>\n",
       "      <th>0</th>\n",
       "      <td>Introverts</td>\n",
       "      <td>TFIDF</td>\n",
       "      <td>10</td>\n",
       "      <td>5.0</td>\n",
       "      <td>0.767723</td>\n",
       "      <td>1.000000</td>\n",
       "      <td>0.768</td>\n",
       "    </tr>\n",
       "    <tr>\n",
       "      <th>74</th>\n",
       "      <td>Feelers</td>\n",
       "      <td>TFIDF</td>\n",
       "      <td>500</td>\n",
       "      <td>NaN</td>\n",
       "      <td>0.709409</td>\n",
       "      <td>0.914163</td>\n",
       "      <td>0.753</td>\n",
       "    </tr>\n",
       "    <tr>\n",
       "      <th>174</th>\n",
       "      <td>Feelers</td>\n",
       "      <td>CountVectorizer</td>\n",
       "      <td>500</td>\n",
       "      <td>NaN</td>\n",
       "      <td>0.705491</td>\n",
       "      <td>0.909871</td>\n",
       "      <td>0.748</td>\n",
       "    </tr>\n",
       "    <tr>\n",
       "      <th>184</th>\n",
       "      <td>Perceivers</td>\n",
       "      <td>CountVectorizer</td>\n",
       "      <td>50</td>\n",
       "      <td>NaN</td>\n",
       "      <td>0.633375</td>\n",
       "      <td>0.953378</td>\n",
       "      <td>0.637</td>\n",
       "    </tr>\n",
       "    <tr>\n",
       "      <th>89</th>\n",
       "      <td>Perceivers</td>\n",
       "      <td>TFIDF</td>\n",
       "      <td>100</td>\n",
       "      <td>NaN</td>\n",
       "      <td>0.629262</td>\n",
       "      <td>0.965747</td>\n",
       "      <td>0.635</td>\n",
       "    </tr>\n",
       "  </tbody>\n",
       "</table>\n",
       "</div>"
      ]
     },
     "metadata": {},
     "execution_count": 12
    }
   ],
   "metadata": {}
  },
  {
   "cell_type": "markdown",
   "source": [
    "Checking the result to find best parameters for our Grid Search:"
   ],
   "metadata": {}
  },
  {
   "cell_type": "code",
   "execution_count": 13,
   "source": [
    "from tabulate import tabulate\r\n",
    "\r\n",
    "df = pd.read_csv('RF_Holdout_Result_fe.csv')[['Type', 'Method', 'Estimators', 'Max_Depth', 'Precision', 'Recall', 'Accuracy']]\r\n",
    "print(df[df['Method'] == 'TFIDF'].sort_values(['Accuracy', 'Type'], ascending = False).groupby(['Type']).head(1).to_markdown(), '\\n')\r\n",
    "print(df[df['Method'] == 'CountVectorizer'].sort_values(['Accuracy', 'Type'], ascending = False).groupby(['Type']).head(1).to_markdown())"
   ],
   "outputs": [
    {
     "output_type": "stream",
     "name": "stdout",
     "text": [
      "|    | Type       | Method   |   Estimators |   Max_Depth |   Precision |   Recall |   Accuracy |\n",
      "|---:|:-----------|:---------|-------------:|------------:|------------:|---------:|-----------:|\n",
      "| 29 | Intuitives | TFIDF    |           10 |         nan |    0.86474  | 0.999332 |      0.865 |\n",
      "|  0 | Introverts | TFIDF    |           10 |           5 |    0.767723 | 1        |      0.768 |\n",
      "| 74 | Feelers    | TFIDF    |          500 |         nan |    0.709409 | 0.914163 |      0.753 |\n",
      "| 89 | Perceivers | TFIDF    |          100 |         nan |    0.629262 | 0.965747 |      0.635 | \n",
      "\n",
      "|     | Type       | Method          |   Estimators |   Max_Depth |   Precision |   Recall |   Accuracy |\n",
      "|----:|:-----------|:----------------|-------------:|------------:|------------:|---------:|-----------:|\n",
      "| 129 | Intuitives | CountVectorizer |           10 |         nan |    0.86382  | 1        |      0.864 |\n",
      "| 103 | Introverts | CountVectorizer |           10 |          30 |    0.771147 | 0.999249 |      0.772 |\n",
      "| 174 | Feelers    | CountVectorizer |          500 |         nan |    0.705491 | 0.909871 |      0.748 |\n",
      "| 184 | Perceivers | CountVectorizer |           50 |         nan |    0.633375 | 0.953378 |      0.637 |\n"
     ]
    }
   ],
   "metadata": {}
  },
  {
   "cell_type": "code",
   "execution_count": 14,
   "source": [
    "import seaborn as sns\r\n",
    "from pandas import DataFrame\r\n",
    "\r\n",
    "df = pd.read_csv('RF_Holdout_Result_fe.csv')\r\n",
    "\r\n",
    "sns.lmplot(x='Estimators', y='Accuracy', data=df, hue='Type', fit_reg=False, aspect=1.2, height = 8, scatter_kws={\"s\": 100}, col = 'Method')\r\n",
    "sns.lmplot(x='Max_Depth', y='Accuracy', data=df, hue='Type', fit_reg=False, aspect=1.2, height = 8, scatter_kws={\"s\": 100}, col = 'Method')"
   ],
   "outputs": [
    {
     "output_type": "execute_result",
     "data": {
      "text/plain": [
       "<seaborn.axisgrid.FacetGrid at 0x184af3460d0>"
      ]
     },
     "metadata": {},
     "execution_count": 14
    },
    {
     "output_type": "display_data",
     "data": {
      "text/plain": [
       "<Figure size 1469.9x576 with 2 Axes>"
      ],
      "image/png": "[encoded data removed]"
     },
     "metadata": {
      "needs_background": "light"
     }
    },
    {
     "output_type": "display_data",
     "data": {
      "text/plain": [
       "<Figure size 1469.9x576 with 2 Axes>"
      ],
      "image/png": "[encoded data removed]"
     },
     "metadata": {
      "needs_background": "light"
     }
    }
   ],
   "metadata": {}
  },
  {
   "cell_type": "markdown",
   "source": [
    "#### Based on the results , Max_Depth increases accuracy specially for Feelers and Perceivers groups. In general TFID is slightly bettrer. Therefor evaluation Random forest model using TFIDF and  Max_Depth as 5 and 30 and Non and also Number of estimators 500, 100 and 10."
   ],
   "metadata": {}
  },
  {
   "cell_type": "markdown",
   "source": [
    "### 5-1-2 : Train vectorizes on training set and use that to transform test set.\r\n",
    "\r\n",
    "5 fold validation is being used here:"
   ],
   "metadata": {}
  },
  {
   "cell_type": "code",
   "execution_count": 1,
   "source": [
    "from sklearn.ensemble import RandomForestClassifier\r\n",
    "from sklearn.model_selection import GridSearchCV\r\n",
    "import pandas as pd\r\n",
    "#from scipy import sparse\r\n",
    "import numpy as np\r\n",
    "\r\n",
    "pd.set_option('display.max_colwidth', 500)\r\n",
    "\r\n",
    "\r\n",
    "def RF_Evaluation(param, Lable, is_print = True):\r\n",
    "    rf = RandomForestClassifier()\r\n",
    "    gs = GridSearchCV(rf, param, cv=5, n_jobs = -1)#cv=5 means 5 folde validation\r\n",
    "    gs_fit = gs.fit(X_train_set, Y_train[Lable])\r\n",
    "    \r\n",
    "    if is_print:\r\n",
    "        print(pd.DataFrame(gs_fit.cv_results_).sort_values('mean_test_score', ascending = False)[['param_max_depth',\r\n",
    "        'param_n_estimators', 'std_test_score', 'mean_test_score', 'rank_test_score']][0:5])\r\n",
    "\r\n",
    "    return(pd.DataFrame(gs_fit.cv_results_))\r\n",
    "\r\n",
    "\r\n",
    "\r\n",
    "#Base on the results from previous steps\r\n",
    "param = {'n_estimators' : [10, 100, 500],\r\n",
    "        'max_depth' : [30, None]}\r\n",
    "\r\n",
    "classes = ['IE' , 'NS', 'FT', 'PJ']\r\n",
    "Y_train = pd.read_pickle('Y_train_fe.pkl')\r\n",
    "rf_parm_result = []\r\n",
    "\r\n",
    "\r\n",
    "for feature_type in ['TFIDF']:#Only using TFID based on the result from previous steps\r\n",
    "    #if feature_type == 'TFIDF':\r\n",
    "    X_train_set = np.load('X_train_tfidf_fe.npy')\r\n",
    "    #elif feature_type == 'CountVectorizer':\r\n",
    "    #    X_train_set = np.load('X_train_count_fe.npy')\r\n",
    "    #elif feature_type == 'N-gram':\r\n",
    "    #    X_train_set = np.load('X_train_ngram_Fe.npy')\r\n",
    "    for item in classes:\r\n",
    "        temp_DF = RF_Evaluation(param, Lable = item, is_print = False)\r\n",
    "        temp_DF.insert(0, 'Feature', feature_type)\r\n",
    "        temp_DF.insert(1, 'Class', item)\r\n",
    "        rf_parm_result.append(temp_DF)\r\n",
    "        pd.concat(rf_parm_result).to_csv('RF_Parm_Result_fe.csv')\r\n",
    "\r\n",
    "pd.concat(rf_parm_result).to_csv('RF_Parm_Result_fe.csv')\r\n"
   ],
   "outputs": [],
   "metadata": {}
  },
  {
   "cell_type": "code",
   "execution_count": 2,
   "source": [
    "df = pd.read_csv('RF_Parm_Result_fe.csv')\r\n",
    "print(df[['Feature', 'Class', 'param_max_depth', 'param_n_estimators', 'mean_test_score', 'rank_test_score']].sort_values(['rank_test_score'], ascending = True).groupby(['Class']).head(1).to_markdown(), '\\n')"
   ],
   "outputs": [
    {
     "output_type": "stream",
     "name": "stdout",
     "text": [
      "|    | Feature   | Class   |   param_max_depth |   param_n_estimators |   mean_test_score |   rank_test_score |\n",
      "|---:|:----------|:--------|------------------:|---------------------:|------------------:|------------------:|\n",
      "|  4 | TFIDF     | IE      |               nan |                  100 |          0.770317 |                 1 |\n",
      "|  9 | TFIDF     | NS      |               nan |                   10 |          0.862392 |                 1 |\n",
      "| 17 | TFIDF     | FT      |               nan |                  500 |          0.742507 |                 1 |\n",
      "| 22 | TFIDF     | PJ      |               nan |                  100 |          0.626945 |                 1 | \n",
      "\n"
     ]
    }
   ],
   "metadata": {}
  },
  {
   "cell_type": "markdown",
   "source": [
    "## 5-2: Gradient Boosting Model\n",
    "### 5-2-1: Gradient Boosting with Holdout test set"
   ],
   "metadata": {}
  },
  {
   "cell_type": "code",
   "execution_count": null,
   "source": [
    "from sklearn.metrics import precision_recall_fscore_support as score\r\n",
    "#from sklearn.model_selection import train_test_split\r\n",
    "from sklearn.ensemble import GradientBoostingClassifier\r\n",
    "import pandas as pd\r\n",
    "import numpy as np\r\n",
    "from datetime import datetime\r\n",
    "\r\n",
    "\r\n",
    "pd.set_option('display.max_rows', None, 'display.max_colwidth', 500)\r\n",
    "\r\n",
    "\r\n",
    "def GBoosting_GridSearch(Lable, n_est, depth, lr, feature_type, is_print = True):\r\n",
    "    if Lable == 'IE':\r\n",
    "        s_Lable = 'I'\r\n",
    "        predict_Lable = 'Introverts'\r\n",
    "    elif Lable == 'NS':\r\n",
    "        s_Lable = 'N'\r\n",
    "        predict_Lable = 'Intuitives'\r\n",
    "    elif Lable == 'FT':\r\n",
    "        s_Lable = 'F'\r\n",
    "        predict_Lable = 'Feelers'\r\n",
    "    elif Lable == 'PJ':\r\n",
    "        s_Lable = 'P'\r\n",
    "        predict_Lable = 'Perceivers'\r\n",
    "\r\n",
    "    gb = GradientBoostingClassifier(n_estimators=n_est, max_depth=depth , learning_rate=lr)\r\n",
    "    gb_model = gb.fit(X_train_set, Y_train[Lable])\r\n",
    "    Y_pred = gb_model.predict(X_test_set)\r\n",
    "\r\n",
    "    precision, recall, fscore, support = score(Y_test[Lable], Y_pred, pos_label=s_Lable, average='binary')\r\n",
    "    if is_print:\r\n",
    "        print('Being ' + predict_Lable + ' using ' + feature_type + ': '  ,'Estimators: {} / Max_Depth: {} / Learning_Rate: {} --> Precision: {} / Recall: {} / Accuracy: {}'.format(\r\n",
    "                                                        n_est,\r\n",
    "                                                        depth,\r\n",
    "                                                        lr,\r\n",
    "                                                        round(precision, 3),\r\n",
    "                                                        round(recall, 3), \r\n",
    "                                                        round((Y_pred==Y_test[Lable]).sum() / len(Y_pred),3)))\r\n",
    "    return([predict_Lable, feature_type, n_est, depth, lr, precision, recall, round((Y_pred==Y_test[Lable]).sum() / len(Y_pred),3)])\r\n",
    "\r\n",
    "\r\n",
    "\r\n",
    "classes = ['IE' , 'NS', 'FT', 'PJ']\r\n",
    "gb_result = []\r\n",
    "\r\n",
    "Y_train = pd.read_pickle('Y_train_fe.pkl')\r\n",
    "Y_test = pd.read_pickle('Y_test_fe.pkl')\r\n",
    "\r\n",
    "\r\n",
    "\r\n",
    "#for feature_type in ['TFIDF', 'CountVectorizer']:\r\n",
    "for feature_type in ['TFIDF']:\r\n",
    "    if feature_type == 'TFIDF':\r\n",
    "        X_test_set = np.load('X_test_tfidf_fe.npy')\r\n",
    "        X_train_set = np.load('X_train_tfidf_fe.npy')\r\n",
    "    elif feature_type == 'CountVectorizer':\r\n",
    "        X_test_set = np.load('X_test_count_fe.npy')\r\n",
    "        X_train_set = np.load('X_train_count_fe.npy')\r\n",
    "    #elif feature_type == 'N-gram':\r\n",
    "        #X_test_set = np.load('X_test_ngram.npy')\r\n",
    "        #X_train_set = np.load('X_train_ngram.npy')\r\n",
    "        #print()\r\n",
    "    for item in classes:\r\n",
    "        for n_est in [100, 150]:\r\n",
    "            for depth in [3, 7]:\r\n",
    "                for lr in [0.10]:\r\n",
    "                    gb_result.append(GBoosting_GridSearch(Lable = item, n_est=n_est, depth=depth, lr = lr, feature_type=feature_type, is_print = False))\r\n",
    "                    pd.DataFrame(gb_result, columns= ['Type', 'Method', 'Estimators', 'Max_Depth', 'Learning_Rate','Precision', 'Recall', 'Accuracy']).to_csv('GB_Holdout_Result-fe.csv')\r\n",
    "\r\n",
    "#pd.DataFrame(gb_result, columns= ['Type', 'Method', 'Estimators', 'Max_Depth', 'Learning_Rate','Precision', 'Recall', 'Accuracy']).to_csv('GB_Holdout_Result-fe.csv')\r\n"
   ],
   "outputs": [],
   "metadata": {
    "tags": [
     "outputPrepend"
    ]
   }
  },
  {
   "cell_type": "code",
   "execution_count": 21,
   "source": [
    "from tabulate import tabulate\r\n",
    "\r\n",
    "df = pd.read_csv('GB_Holdout_Result-fe.csv')\r\n",
    "df = df.loc[:, ~df.columns.str.contains('^Unnamed')]\r\n",
    "print(df.sort_values(['Accuracy', 'Type'], ascending = False).groupby(['Type']).head(3).to_markdown(), '\\n')\r\n",
    "#print(df[df['Method'] == 'CountVectorizer'].sort_values(['Accuracy', 'Type'], ascending = False).groupby(['Type']).head(1).to_markdown())"
   ],
   "outputs": [
    {
     "output_type": "stream",
     "name": "stdout",
     "text": [
      "|    | Type       | Method   |   Estimators |   Max_Depth |   Learning_Rate |   Precision |   Recall |   Accuracy |\n",
      "|---:|:-----------|:---------|-------------:|------------:|----------------:|------------:|---------:|-----------:|\n",
      "|  4 | Intuitives | TFIDF    |          100 |           3 |             0.1 |    0.887493 | 0.990648 |      0.884 |\n",
      "|  7 | Intuitives | TFIDF    |          150 |           7 |             0.1 |    0.88963  | 0.97996  |      0.878 |\n",
      "|  5 | Intuitives | TFIDF    |          100 |           7 |             0.1 |    0.885817 | 0.984636 |      0.877 |\n",
      "|  1 | Introverts | TFIDF    |          100 |           7 |             0.1 |    0.833659 | 0.959459 |      0.822 |\n",
      "|  2 | Introverts | TFIDF    |          150 |           3 |             0.1 |    0.826171 | 0.966967 |      0.818 |\n",
      "|  3 | Introverts | TFIDF    |          150 |           7 |             0.1 |    0.835535 | 0.9497   |      0.818 |\n",
      "| 10 | Feelers    | TFIDF    |          150 |           3 |             0.1 |    0.804082 | 0.845494 |      0.806 |\n",
      "| 11 | Feelers    | TFIDF    |          150 |           7 |             0.1 |    0.791833 | 0.853004 |      0.801 |\n",
      "|  8 | Feelers    | TFIDF    |          100 |           3 |             0.1 |    0.790437 | 0.833691 |      0.792 |\n",
      "| 15 | Perceivers | TFIDF    |          150 |           7 |             0.1 |    0.765289 | 0.881066 |      0.764 |\n",
      "| 14 | Perceivers | TFIDF    |          150 |           3 |             0.1 |    0.748397 | 0.888677 |      0.752 |\n",
      "| 12 | Perceivers | TFIDF    |          100 |           3 |             0.1 |    0.741529 | 0.895338 |      0.748 | \n",
      "\n"
     ]
    }
   ],
   "metadata": {}
  },
  {
   "cell_type": "code",
   "execution_count": 14,
   "source": [
    "import seaborn as sns\r\n",
    "from pandas import DataFrame\r\n",
    "\r\n",
    "df = pd.read_csv('GB_Holdout_Result-fe.csv')\r\n",
    "\r\n",
    "sns.lmplot(x='Estimators', y='Accuracy', data=df, hue='Type', fit_reg=False, aspect=1.2, height = 5, scatter_kws={\"s\": 100}, col = 'Type')\r\n",
    "sns.lmplot(x='Max_Depth', y='Accuracy', data=df, hue='Type', fit_reg=False, aspect=1.2, height = 5, scatter_kws={\"s\": 100}, col = 'Type')\r\n",
    "sns.lmplot(x='Learning_Rate', y='Accuracy', data=df, hue='Type', fit_reg=False, aspect=1.2, height = 5, scatter_kws={\"s\": 100}, col = 'Type')"
   ],
   "outputs": [
    {
     "output_type": "execute_result",
     "data": {
      "text/plain": [
       "<seaborn.axisgrid.FacetGrid at 0x1fe6a3acd90>"
      ]
     },
     "metadata": {},
     "execution_count": 14
    },
    {
     "output_type": "display_data",
     "data": {
      "text/plain": [
       "<Figure size 1728x360 with 4 Axes>"
      ],
      "image/png": "[encoded data removed]"
     },
     "metadata": {
      "needs_background": "light"
     }
    },
    {
     "output_type": "display_data",
     "data": {
      "text/plain": [
       "<Figure size 1728x360 with 4 Axes>"
      ],
      "image/png": "[encoded data removed]"
     },
     "metadata": {
      "needs_background": "light"
     }
    },
    {
     "output_type": "display_data",
     "data": {
      "text/plain": [
       "<Figure size 1728x360 with 4 Axes>"
      ],
      "image/png": "[encoded data removed]"
     },
     "metadata": {
      "needs_background": "light"
     }
    }
   ],
   "metadata": {}
  },
  {
   "cell_type": "markdown",
   "source": [
    "### 5-2-2: Evaluation Gradient Boosting Model"
   ],
   "metadata": {}
  },
  {
   "cell_type": "code",
   "execution_count": 27,
   "source": [
    "from sklearn.ensemble import GradientBoostingClassifier\r\n",
    "from sklearn.model_selection import GridSearchCV\r\n",
    "import pandas as pd\r\n",
    "import numpy as np\r\n",
    "\r\n",
    "pd.set_option('display.max_colwidth', 500)\r\n",
    "\r\n",
    "\r\n",
    "def GB_Evaluation(param, Lable, is_print = True):\r\n",
    "    gb = GradientBoostingClassifier()\r\n",
    "    gs = GridSearchCV(gb, param, cv=5)#cv=5 meand 5 folde validation\r\n",
    "    gs_fit = gs.fit(X_train_set, Y_train[Lable])\r\n",
    "\r\n",
    "    if is_print:\r\n",
    "        print(pd.DataFrame(gs_fit.cv_results_).sort_values('mean_test_score', ascending = False)[['param_max_depth', \r\n",
    "        'param_n_estimators', 'param_learning_rate','std_test_score', 'mean_test_score', 'rank_test_score']][0:5])\r\n",
    "\r\n",
    "    return(pd.DataFrame(gs_fit.cv_results_))\r\n",
    "  \r\n",
    "param = {'n_estimators' : [100],\r\n",
    "                'max_depth' : [3],\r\n",
    "                'learning_rate' : [0.1]}\r\n",
    "\r\n",
    "#classes = ['IE' , 'NS', 'FT', 'PJ']\r\n",
    "classes = ['NS']\r\n",
    "Y_train = pd.read_pickle('Y_train_fe.pkl')\r\n",
    "gb_parm_result = []\r\n",
    "\r\n",
    "\r\n",
    "for feature_type in ['TFIDF']:#Only using TFID based on the result from previous steps\r\n",
    "    X_train_set = np.load('X_train_tfidf_fe.npy')\r\n",
    "    for item in classes:\r\n",
    "        temp_DF = GB_Evaluation(param, Lable = item, is_print = False)\r\n",
    "        temp_DF.insert(0, 'Feature', feature_type)\r\n",
    "        temp_DF.insert(1, 'Class', item)\r\n",
    "        gb_parm_result.append(temp_DF)\r\n",
    "        pd.concat(gb_parm_result).to_csv('GB_Parm_Result_fe.csv')\r\n",
    "\r\n",
    "pd.concat(gb_parm_result).to_csv('GB_Parm_Result_fe.csv')"
   ],
   "outputs": [],
   "metadata": {}
  },
  {
   "cell_type": "code",
   "execution_count": 2,
   "source": [
    "import pandas as pd\r\n",
    "\r\n",
    "df = pd.read_csv('GB_Parm_Result_fe.csv')\r\n",
    "print(df[['Feature', 'Class', 'param_max_depth', 'param_n_estimators', 'param_learning_rate', 'mean_test_score', 'rank_test_score']]\r\n",
    "    .sort_values(['rank_test_score'], ascending = True)\r\n",
    "    .groupby(['Class']).head(1).to_markdown(), '\\n')"
   ],
   "outputs": [
    {
     "output_type": "stream",
     "name": "stdout",
     "text": [
      "|    | Feature   | Class   |   param_max_depth |   param_n_estimators |   param_learning_rate |   mean_test_score |   rank_test_score |\n",
      "|---:|:----------|:--------|------------------:|---------------------:|----------------------:|------------------:|------------------:|\n",
      "|  0 | TFIDF     | IE      |                 3 |                  100 |                   0.1 |          0.813112 |                 1 |\n",
      "|  1 | TFIDF     | FT      |                 3 |                  100 |                   0.1 |          0.783141 |                 1 |\n",
      "|  2 | TFIDF     | PJ      |                 3 |                  100 |                   0.1 |          0.738905 |                 1 |\n",
      "|  3 | TFIDF     | NS      |                 3 |                  100 |                   0.1 |          0.874496 |                 1 | \n",
      "\n"
     ]
    }
   ],
   "metadata": {}
  },
  {
   "cell_type": "markdown",
   "source": [
    "## Final evaluation of models"
   ],
   "metadata": {}
  },
  {
   "cell_type": "code",
   "execution_count": 1,
   "source": [
    "import pandas as pd\r\n",
    "import numpy as np\r\n",
    "from sklearn.ensemble import RandomForestClassifier\r\n",
    "from sklearn.metrics import precision_recall_fscore_support as score\r\n",
    "import time\r\n",
    "import math\r\n",
    "\r\n",
    "Y_train = pd.read_pickle('Y_train_fe.pkl')\r\n",
    "Y_test = pd.read_pickle('Y_test_fe.pkl')\r\n",
    "X_train_tfidf = np.load('X_train_tfidf_fe.npy')\r\n",
    "X_test_tfidf = np.load('X_test_tfidf_fe.npy')\r\n",
    "\r\n",
    "df = pd.read_csv('RF_Parm_Result_fe.csv')\r\n",
    "df = df.sort_values(['rank_test_score'], ascending = True).groupby(['Class']).head(1)\r\n",
    "\r\n",
    "def RF_Final_Eval(item):\r\n",
    "    if item['Class'] == 'IE':\r\n",
    "        Lable, s_Lable, predict_Lable = 'IE', 'I', 'Introverts'\r\n",
    " \r\n",
    "    elif item['Class'] == 'NS':\r\n",
    "        Lable, s_Lable, predict_Lable = 'NS', 'N', 'Intuitives'\r\n",
    "\r\n",
    "    elif item['Class'] == 'FT':\r\n",
    "        Lable, s_Lable, predict_Lable = 'FT','F', 'Feelers'\r\n",
    "\r\n",
    "    elif item['Class'] == 'PJ':\r\n",
    "        Lable, s_Lable, predict_Lable = 'PJ','P', 'Perceivers'\r\n",
    "    \r\n",
    "    if math.isnan(item['param_max_depth']):\r\n",
    "        item['param_max_depth'] = None\r\n",
    "\r\n",
    "    rf = RandomForestClassifier(n_estimators=item['param_n_estimators'], max_depth=item['param_max_depth'], n_jobs=-1)\r\n",
    "\r\n",
    "    start = time.time()\r\n",
    "    rf_model = rf.fit(X_train_tfidf, Y_train[Lable])\r\n",
    "    end = time.time()\r\n",
    "    fit_time = (end - start)\r\n",
    "\r\n",
    "    start = time.time()\r\n",
    "    Y_pred = rf_model.predict(X_test_tfidf)\r\n",
    "    end = time.time()\r\n",
    "    pred_time = (end - start)\r\n",
    "\r\n",
    "    precision, recall, fscore, train_support = score(Y_test[Lable], Y_pred, pos_label=s_Lable, average='binary')\r\n",
    "\r\n",
    "    print('{} --> Fit time: {} / Predict time: {} --> Estimator {} / Max_Depth {} --> Precision: {} / Recall: {} / Accuracy: {}'.format(\r\n",
    "                                                    predict_Lable,\r\n",
    "                                                    round(fit_time, 3),\r\n",
    "                                                    round(pred_time, 3),\r\n",
    "                                                    item['param_n_estimators'],\r\n",
    "                                                    item['param_max_depth'],\r\n",
    "                                                    round(precision, 3),\r\n",
    "                                                    round(recall, 3), \r\n",
    "                                                    round((Y_pred==Y_test[Lable]).sum() / len(Y_pred),3)))\r\n",
    "\r\n",
    "\r\n",
    "for index, item in df.iterrows():\r\n",
    "    RF_Final_Eval(item)\r\n"
   ],
   "outputs": [
    {
     "output_type": "stream",
     "name": "stdout",
     "text": [
      "Introverts --> Fit time: 50.735 / Predict time: 0.769 --> Estimator 100 / Max_Depth None --> Precision: 0.768 / Recall: 1.0 / Accuracy: 0.768\n",
      "Intuitives --> Fit time: 8.119 / Predict time: 0.722 --> Estimator 10 / Max_Depth None --> Precision: 0.864 / Recall: 0.999 / Accuracy: 0.864\n",
      "Feelers --> Fit time: 124.555 / Predict time: 1.034 --> Estimator 500 / Max_Depth None --> Precision: 0.702 / Recall: 0.912 / Accuracy: 0.745\n",
      "Perceivers --> Fit time: 32.587 / Predict time: 0.821 --> Estimator 100 / Max_Depth None --> Precision: 0.633 / Recall: 0.962 / Accuracy: 0.639\n"
     ]
    }
   ],
   "metadata": {}
  },
  {
   "cell_type": "code",
   "execution_count": 2,
   "source": [
    "from sklearn.ensemble import GradientBoostingClassifier\r\n",
    "from sklearn.metrics import precision_recall_fscore_support as score\r\n",
    "import time\r\n",
    "import pandas as pd\r\n",
    "import numpy as np\r\n",
    "import math\r\n",
    "\r\n",
    "classes = ['IE' , 'NS', 'FT', 'PJ']\r\n",
    "Y_train = pd.read_pickle('Y_train_fe.pkl')\r\n",
    "Y_test = pd.read_pickle('Y_test_fe.pkl')\r\n",
    "X_train_tfidf = np.load('X_train_tfidf_fe.npy')\r\n",
    "X_test_tfidf = np.load('X_test_tfidf_fe.npy')\r\n",
    "\r\n",
    "df = pd.read_csv('GB_Parm_Result_fe.csv')\r\n",
    "df = df.sort_values(['rank_test_score'], ascending = True).groupby(['Class']).head(1)\r\n",
    "\r\n",
    "def GB_Final_Eval(item):\r\n",
    "    if item['Class'] == 'IE':\r\n",
    "        Lable, s_Lable, predict_Lable = 'IE', 'I', 'Introverts'\r\n",
    " \r\n",
    "    elif item['Class'] == 'NS':\r\n",
    "        Lable, s_Lable, predict_Lable = 'NS', 'N', 'Intuitives'\r\n",
    "\r\n",
    "    elif item['Class'] == 'FT':\r\n",
    "        Lable, s_Lable, predict_Lable = 'FT','F', 'Feelers'\r\n",
    "\r\n",
    "    elif item['Class'] == 'PJ':\r\n",
    "        Lable, s_Lable, predict_Lable = 'PJ','P', 'Perceivers'\r\n",
    "    \r\n",
    "    if math.isnan(item['param_max_depth']):\r\n",
    "        item['param_max_depth'] = None\r\n",
    "\r\n",
    "    gb = GradientBoostingClassifier(n_estimators=item['param_n_estimators'], max_depth=item['param_max_depth'], learning_rate=item['param_learning_rate'])\r\n",
    "\r\n",
    "    start = time.time()\r\n",
    "    gb_model = gb.fit(X_train_tfidf,Y_train[Lable])\r\n",
    "    end = time.time()\r\n",
    "    fit_time = (end - start)\r\n",
    "\r\n",
    "    start = time.time()\r\n",
    "    Y_pred = gb_model.predict(X_test_tfidf)\r\n",
    "    end = time.time()\r\n",
    "    pred_time = (end - start)\r\n",
    "\r\n",
    "\r\n",
    "    precision, recall, fscore, train_support = score(Y_test[Lable], Y_pred, pos_label=s_Lable, average='binary')\r\n",
    "\r\n",
    "    print('{} --> Fit time: {} / Predict time: {} --> Estimator {} / Max_Depth {} Learning_Rate {} --> Precision: {} / Recall: {} / Accuracy: {}'.format(\r\n",
    "                                                    predict_Lable,\r\n",
    "                                                    round(fit_time, 3),\r\n",
    "                                                    round(pred_time, 3),\r\n",
    "                                                    item['param_n_estimators'],\r\n",
    "                                                    item['param_max_depth'],\r\n",
    "                                                    item['param_learning_rate'],\r\n",
    "                                                    round(precision, 3),\r\n",
    "                                                    round(recall, 3), \r\n",
    "                                                    round((Y_pred==Y_test[Lable]).sum() / len(Y_pred),3)))\r\n",
    "    \r\n",
    "for index, item in df.iterrows():\r\n",
    "    GB_Final_Eval(item)\r\n",
    "                                                        "
   ],
   "outputs": [
    {
     "output_type": "stream",
     "name": "stdout",
     "text": [
      "Introverts --> Fit time: 1254.581 / Predict time: 3.395 --> Estimator 100 / Max_Depth 3 Learning_Rate 0.1 --> Precision: 0.824 / Recall: 0.967 / Accuracy: 0.816\n",
      "Feelers --> Fit time: 1235.667 / Predict time: 3.357 --> Estimator 100 / Max_Depth 3 Learning_Rate 0.1 --> Precision: 0.792 / Recall: 0.836 / Accuracy: 0.794\n",
      "Perceivers --> Fit time: 1252.101 / Predict time: 3.561 --> Estimator 100 / Max_Depth 3 Learning_Rate 0.1 --> Precision: 0.74 / Recall: 0.895 / Accuracy: 0.746\n",
      "Intuitives --> Fit time: 1248.405 / Predict time: 3.332 --> Estimator 100 / Max_Depth 3 Learning_Rate 0.1 --> Precision: 0.888 / Recall: 0.989 / Accuracy: 0.883\n"
     ]
    }
   ],
   "metadata": {}
  },
  {
   "cell_type": "markdown",
   "source": [
    "Results for each model and type without adding any new features from step 4 to our model.\r\n",
    "\r\n",
    "| Model             | Type         | Fit_Time | Predict_Time | Percision | Recall | Accuracy |\r\n",
    "|-------------------|--------------|----------|--------------|-----------|--------|----------|\r\n",
    "| decision_tree     | Introversion | 50.735   | 0.769        | 0.768     | 1.000  | 0.768    |\r\n",
    "| gradient_boosting | Introversion | 1254.581 | 3.395        | 0.824     | 0.967  | 0.816    |\r\n",
    "| decision_tree     | Feeling      | 124.555  | 1.034        | 0.702     | 0.912  | 0.745    |\r\n",
    "| gradient_boosting | Feeling      | 1235.667 | 3.357        | 0.792     | 0.836  | 0.794    |\r\n",
    "| decision_tree     | Intuition    | 8.119    | 0.722        | 0.864     | 0.999  | 0.864    |\r\n",
    "| gradient_boosting | Intuition    | 1248.405 | 1248.405     | 0.888     | 0.989  | 0.883    |\r\n",
    "| decision_tree     | Perceiving   | 32.587   | 0.821        | 0.633     | 0.962  | 0.639    |\r\n",
    "| gradient_boosting | Perceiving   | 1252.101 | 3.561        | 0.740     | 0.895  | 0.746    |\r\n",
    "\r\n",
    "\r\n",
    "\r\n",
    "GBoosting has a higher accuracy and significantly higher fitting time, whereas Decision Tree fitting time is lower.  Predicting time for GBoosting is slightly higher, but not significantly different."
   ],
   "metadata": {}
  },
  {
   "cell_type": "markdown",
   "source": [
    "## Compairing Models' accuracy with and without New features"
   ],
   "metadata": {}
  },
  {
   "cell_type": "markdown",
   "source": [
    "| New Feature | Type         | Percision | Recall | Accuracy |\r\n",
    "|-------------|--------------|-----------|--------|----------|\r\n",
    "| No          | Introversion | 0.811     | 0.963  | 0.803    |\r\n",
    "| Yes         | Introversion | 0.824     | 0.967  | 0.816    |\r\n"
   ],
   "metadata": {}
  },
  {
   "cell_type": "markdown",
   "source": [
    "| New Feature | Type         | Percision | Recall | Accuracy |\r\n",
    "|-------------|--------------|-----------|--------|----------|\r\n",
    "| No          | Feeling      | 0.802     | 0.796  | 0.779    |\r\n",
    "| Yes         | Feeling      | 0.792     | 0.836  | 0.794    |"
   ],
   "metadata": {}
  },
  {
   "cell_type": "markdown",
   "source": [
    "| New Feature | Type         | Percision | Recall | Accuracy |\r\n",
    "|-------------|--------------|-----------|--------|----------|\r\n",
    "| No          | Intuition    | 0.879     | 0.987  | 0.872    |\r\n",
    "| Yes         | Intuition    | 0.888     | 0.989  | 0.883    |"
   ],
   "metadata": {}
  },
  {
   "cell_type": "markdown",
   "source": [
    "| New Feature | Type         | Percision | Recall | Accuracy |\r\n",
    "|-------------|--------------|-----------|--------|----------|\r\n",
    "| No          | Perceiving   | 0.752     | 0.903  | 0.754    |\r\n",
    "| Yes         | Perceiving   | 0.740     | 0.895  | 0.746    |"
   ],
   "metadata": {}
  }
 ],
 "metadata": {
  "interpreter": {
   "hash": "b3ba2566441a7c06988d0923437866b63cedc61552a5af99d1f4fb67d367b25f"
  },
  "kernelspec": {
   "display_name": "Python 3.8.5 64-bit ('base': conda)",
   "name": "python3"
  },
  "language_info": {
   "name": "python",
   "version": ""
  },
  "metadata": {
   "interpreter": {
    "hash": "6bd3622f6f3f8bb6e8b4643a72dc4bf7a75a1467dea0f2ef918aabb1c737dfb1"
   }
  },
  "orig_nbformat": 2
 },
 "nbformat": 4,
 "nbformat_minor": 2
}