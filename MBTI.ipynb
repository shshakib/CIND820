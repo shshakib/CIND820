{
 "metadata": {
  "language_info": {
   "codemirror_mode": {
    "name": "ipython",
    "version": 3
   },
   "file_extension": ".py",
   "mimetype": "text/x-python",
   "name": "python",
   "nbconvert_exporter": "python",
   "pygments_lexer": "ipython3",
   "version": "3.8.5"
  },
  "orig_nbformat": 2,
  "kernelspec": {
   "name": "python385jvsc74a57bd0b3ba2566441a7c06988d0923437866b63cedc61552a5af99d1f4fb67d367b25f",
   "display_name": "Python 3.8.5 64-bit ('base': conda)"
  },
  "metadata": {
   "interpreter": {
    "hash": "6bd3622f6f3f8bb6e8b4643a72dc4bf7a75a1467dea0f2ef918aabb1c737dfb1"
   }
  }
 },
 "nbformat": 4,
 "nbformat_minor": 2,
 "cells": [
  {
   "cell_type": "code",
   "execution_count": 25,
   "metadata": {
    "tags": []
   },
   "outputs": [
    {
     "output_type": "execute_result",
     "data": {
      "text/plain": [
       "   Type  \\\n",
       "0  INFJ   \n",
       "1  ENTP   \n",
       "2  INTP   \n",
       "3  INTJ   \n",
       "4  ENTJ   \n",
       "\n",
       "                                                                                                                                                                                                                                                                                                                                                                                                                                                                                                                 Posts  \n",
       "0  'http://www.youtube.com/watch?v=qsXHcwe3krw|||http://41.media.tumblr.com/tumblr_lfouy03PMA1qa1rooo1_500.jpg|||enfp and intj moments  https://www.youtube.com/watch?v=iz7lE1g4XM4  sportscenter not top ten plays  https://www.youtube.com/watch?v=uCdfze1etec  pranks|||What has been the most life-changing experience in your life?|||http://www.youtube.com/watch?v=vXZeYwwRDw8   http://www.youtube.com/watch?v=u8ejam5DP3E  On repeat for most of today.|||May the PerC Experience immerse you.|||The last ...  \n",
       "1  'I'm finding the lack of me in these posts very alarming.|||Sex can be boring if it's in the same position often. For example me and my girlfriend are currently in an environment where we have to creatively use cowgirl and missionary. There isn't enough...|||Giving new meaning to 'Game' theory.|||Hello *ENTP Grin*  That's all it takes. Than we converse and they do most of the flirting while I acknowledge their presence and return their words with smooth wordplay and more cheeky grins.|||This...  \n",
       "2  'Good one  _____   https://www.youtube.com/watch?v=fHiGbolFFGw|||Of course, to which I say I know; that's my blessing and my curse.|||Does being absolutely positive that you and your best friend could be an amazing couple count? If so, than yes.   Or it's more I could be madly in love in case I reconciled my feelings (which at...|||No, I didn't; thank you for a link!|||So-called Ti-Si loop (and it can stem from any current topic/obsession) can be deadly. It's like when you're stuck in your o...  \n",
       "3  'Dear INTP,   I enjoyed our conversation the other day.  Esoteric gabbing about the nature of the universe and the idea that every rule and social code being arbitrary constructs created...|||Dear ENTJ sub,   Long time no see.  Sincerely, Alpha|||None of them. All other types hurt in deep existential ways that I want no part of.|||Probably a sliding scale that depends on individual preferences, like everything in humanity.|||Draco Malfoy also. I'd say he's either 358 or 368.|||I'm either 358...  \n",
       "4  'You're fired.|||That's another silly misconception. That approaching is logically is going to be the key to unlocking whatever it is you think you are entitled to.   Nobody wants to be approached with BS...|||But guys... he REALLY wants to go on a super-duper-long-ass vacation. C'mon guys. His boss just doesn't listen or get it. He even approached him logically and everything.|||Never mind. Just go on permanent vacation.|||Two months? I wouldn't be crazy about the idea. If you are really hi...  "
      ],
      "text/html": "<div>\n<style scoped>\n    .dataframe tbody tr th:only-of-type {\n        vertical-align: middle;\n    }\n\n    .dataframe tbody tr th {\n        vertical-align: top;\n    }\n\n    .dataframe thead th {\n        text-align: right;\n    }\n</style>\n<table border=\"1\" class=\"dataframe\">\n  <thead>\n    <tr style=\"text-align: right;\">\n      <th></th>\n      <th>Type</th>\n      <th>Posts</th>\n    </tr>\n  </thead>\n  <tbody>\n    <tr>\n      <th>0</th>\n      <td>INFJ</td>\n      <td>'http://www.youtube.com/watch?v=qsXHcwe3krw|||http://41.media.tumblr.com/tumblr_lfouy03PMA1qa1rooo1_500.jpg|||enfp and intj moments  https://www.youtube.com/watch?v=iz7lE1g4XM4  sportscenter not top ten plays  https://www.youtube.com/watch?v=uCdfze1etec  pranks|||What has been the most life-changing experience in your life?|||http://www.youtube.com/watch?v=vXZeYwwRDw8   http://www.youtube.com/watch?v=u8ejam5DP3E  On repeat for most of today.|||May the PerC Experience immerse you.|||The last ...</td>\n    </tr>\n    <tr>\n      <th>1</th>\n      <td>ENTP</td>\n      <td>'I'm finding the lack of me in these posts very alarming.|||Sex can be boring if it's in the same position often. For example me and my girlfriend are currently in an environment where we have to creatively use cowgirl and missionary. There isn't enough...|||Giving new meaning to 'Game' theory.|||Hello *ENTP Grin*  That's all it takes. Than we converse and they do most of the flirting while I acknowledge their presence and return their words with smooth wordplay and more cheeky grins.|||This...</td>\n    </tr>\n    <tr>\n      <th>2</th>\n      <td>INTP</td>\n      <td>'Good one  _____   https://www.youtube.com/watch?v=fHiGbolFFGw|||Of course, to which I say I know; that's my blessing and my curse.|||Does being absolutely positive that you and your best friend could be an amazing couple count? If so, than yes.   Or it's more I could be madly in love in case I reconciled my feelings (which at...|||No, I didn't; thank you for a link!|||So-called Ti-Si loop (and it can stem from any current topic/obsession) can be deadly. It's like when you're stuck in your o...</td>\n    </tr>\n    <tr>\n      <th>3</th>\n      <td>INTJ</td>\n      <td>'Dear INTP,   I enjoyed our conversation the other day.  Esoteric gabbing about the nature of the universe and the idea that every rule and social code being arbitrary constructs created...|||Dear ENTJ sub,   Long time no see.  Sincerely, Alpha|||None of them. All other types hurt in deep existential ways that I want no part of.|||Probably a sliding scale that depends on individual preferences, like everything in humanity.|||Draco Malfoy also. I'd say he's either 358 or 368.|||I'm either 358...</td>\n    </tr>\n    <tr>\n      <th>4</th>\n      <td>ENTJ</td>\n      <td>'You're fired.|||That's another silly misconception. That approaching is logically is going to be the key to unlocking whatever it is you think you are entitled to.   Nobody wants to be approached with BS...|||But guys... he REALLY wants to go on a super-duper-long-ass vacation. C'mon guys. His boss just doesn't listen or get it. He even approached him logically and everything.|||Never mind. Just go on permanent vacation.|||Two months? I wouldn't be crazy about the idea. If you are really hi...</td>\n    </tr>\n  </tbody>\n</table>\n</div>"
     },
     "metadata": {},
     "execution_count": 25
    }
   ],
   "source": [
    "import pandas as pd\n",
    "\n",
    "\n",
    "datastore_Path = \"C:/Users/Shaya/Desktop/Ryerson/Sync/CIND820/Dataset/(MBTI) Myers-Briggs Personality Type Dataset/mbti_1.csv\"\n",
    "\n",
    "pd.set_option('display.max_colwidth', 500)\n",
    "mbti_Dataset = pd.read_csv(datastore_Path,  sep=\",\", header = 0, encoding = 'unicode_escape')\n",
    "mbti_Dataset.columns = ['Type','Posts']\n",
    "mbti_Dataset.head()"
   ]
  },
  {
   "cell_type": "code",
   "execution_count": 26,
   "metadata": {},
   "outputs": [
    {
     "output_type": "stream",
     "name": "stdout",
     "text": [
      "No emoji on text\n"
     ]
    },
    {
     "output_type": "execute_result",
     "data": {
      "text/plain": [
       "   Type  \\\n",
       "0  INFJ   \n",
       "1  ENTP   \n",
       "2  INTP   \n",
       "3  INTJ   \n",
       "4  ENTJ   \n",
       "\n",
       "                                                                                                                                                                                                                                                                                                                                                                                                                                                                                                                 Posts  \\\n",
       "0  '  enfp and intj moments    sportscenter not top ten plays    pranks What has been the most life-changing experience in your life?      On repeat for most of today. May the PerC Experience immerse you. The last thing my INFJ friend posted on his facebook before committing suicide the next day. Rest in peace~    Hello ENFJ7. Sorry to hear of your distress. it is only natural for a relationship to not be perfection all the time in every moment of existence. Try to figure the hard times as time...   \n",
       "1  'I am finding the lack of me in these posts very alarming. Sex can be boring if it is in the same position often. For example me and my girlfriend are currently in an environment where we have to creatively use cowgirl and missionary. There is not enough... Giving new meaning to 'Game' theory. Hello *ENTP Grin*  that is all it takes. Than we converse and they do most of the flirting while I acknowledge their presence and return their words with smooth wordplay and more cheeky grins. This + L...   \n",
       "2  'Good one  _____    Of course, to which I say I know; that is my blessing and my curse. Does being absolutely positive that you and your best friend could be an amazing couple count? If so, than yes.   Or it is more I could be madly in love in case I reconciled my feelings (which at... No, I did not; thank you for a link! So-called Ti-Si loop (and it can stem from any current topic/obsession) can be deadly. it is like when you are stuck in your own thoughts, and your mind just wanders in cir...   \n",
       "3  'Dear INTP,   I enjoyed our conversation the other day.  Esoteric gabbing about the nature of the universe and the idea that every rule and social code being arbitrary constructs created... Dear ENTJ sub,   Long time no see.  Sincerely, Alpha None of them. All other types hurt in deep existential ways that I want no part of. Probably a sliding scale that depends on individual preferences, like everything in humanity. Draco Malfoy also. I would say he is either 358 or 368. I am either 358 or ...   \n",
       "4  'you are fired. that is another silly misconception. That approaching is logically is going to be the key to unlocking whatever it is you think you are entitled to.   Nobody wants to be approached with BS... But guys... he REALLY wants to go on a super-duper-long-ass vacation. C'mon guys. His boss just does not listen or get it. He even approached him logically and everything. Never mind. Just go on permanent vacation. Two months? I would not be crazy about the idea. If you are really his be...   \n",
       "\n",
       "                                                                                                                                                                                                                                                                                                                                                                                                                                                                                                      Posts_Punctuated  \n",
       "0    enfp and intj moments    sportscenter not top ten plays    pranks What has been the most lifechanging experience in your life      On repeat for most of today May the PerC Experience immerse you The last thing my INFJ friend posted on his facebook before committing suicide the next day Rest in peace    Hello ENFJ7 Sorry to hear of your distress it is only natural for a relationship to not be perfection all the time in every moment of existence Try to figure the hard times as times of growt...  \n",
       "1  I am finding the lack of me in these posts very alarming Sex can be boring if it is in the same position often For example me and my girlfriend are currently in an environment where we have to creatively use cowgirl and missionary There is not enough Giving new meaning to Game theory Hello ENTP Grin  that is all it takes Than we converse and they do most of the flirting while I acknowledge their presence and return their words with smooth wordplay and more cheeky grins This  Lack of Balance ...  \n",
       "2  Good one      Of course to which I say I know that is my blessing and my curse Does being absolutely positive that you and your best friend could be an amazing couple count If so than yes   Or it is more I could be madly in love in case I reconciled my feelings which at No I did not thank you for a link Socalled TiSi loop and it can stem from any current topicobsession can be deadly it is like when you are stuck in your own thoughts and your mind just wanders in circles Feels truly terrible ...  \n",
       "3  Dear INTP   I enjoyed our conversation the other day  Esoteric gabbing about the nature of the universe and the idea that every rule and social code being arbitrary constructs created Dear ENTJ sub   Long time no see  Sincerely Alpha None of them All other types hurt in deep existential ways that I want no part of Probably a sliding scale that depends on individual preferences like everything in humanity Draco Malfoy also I would say he is either 358 or 368 I am either 358 or 385 though in w...  \n",
       "4  you are fired that is another silly misconception That approaching is logically is going to be the key to unlocking whatever it is you think you are entitled to   Nobody wants to be approached with BS But guys he REALLY wants to go on a superduperlongass vacation Cmon guys His boss just does not listen or get it He even approached him logically and everything Never mind Just go on permanent vacation Two months I would not be crazy about the idea If you are really his best employee then that ...  "
      ],
      "text/html": "<div>\n<style scoped>\n    .dataframe tbody tr th:only-of-type {\n        vertical-align: middle;\n    }\n\n    .dataframe tbody tr th {\n        vertical-align: top;\n    }\n\n    .dataframe thead th {\n        text-align: right;\n    }\n</style>\n<table border=\"1\" class=\"dataframe\">\n  <thead>\n    <tr style=\"text-align: right;\">\n      <th></th>\n      <th>Type</th>\n      <th>Posts</th>\n      <th>Posts_Punctuated</th>\n    </tr>\n  </thead>\n  <tbody>\n    <tr>\n      <th>0</th>\n      <td>INFJ</td>\n      <td>'  enfp and intj moments    sportscenter not top ten plays    pranks What has been the most life-changing experience in your life?      On repeat for most of today. May the PerC Experience immerse you. The last thing my INFJ friend posted on his facebook before committing suicide the next day. Rest in peace~    Hello ENFJ7. Sorry to hear of your distress. it is only natural for a relationship to not be perfection all the time in every moment of existence. Try to figure the hard times as time...</td>\n      <td>enfp and intj moments    sportscenter not top ten plays    pranks What has been the most lifechanging experience in your life      On repeat for most of today May the PerC Experience immerse you The last thing my INFJ friend posted on his facebook before committing suicide the next day Rest in peace    Hello ENFJ7 Sorry to hear of your distress it is only natural for a relationship to not be perfection all the time in every moment of existence Try to figure the hard times as times of growt...</td>\n    </tr>\n    <tr>\n      <th>1</th>\n      <td>ENTP</td>\n      <td>'I am finding the lack of me in these posts very alarming. Sex can be boring if it is in the same position often. For example me and my girlfriend are currently in an environment where we have to creatively use cowgirl and missionary. There is not enough... Giving new meaning to 'Game' theory. Hello *ENTP Grin*  that is all it takes. Than we converse and they do most of the flirting while I acknowledge their presence and return their words with smooth wordplay and more cheeky grins. This + L...</td>\n      <td>I am finding the lack of me in these posts very alarming Sex can be boring if it is in the same position often For example me and my girlfriend are currently in an environment where we have to creatively use cowgirl and missionary There is not enough Giving new meaning to Game theory Hello ENTP Grin  that is all it takes Than we converse and they do most of the flirting while I acknowledge their presence and return their words with smooth wordplay and more cheeky grins This  Lack of Balance ...</td>\n    </tr>\n    <tr>\n      <th>2</th>\n      <td>INTP</td>\n      <td>'Good one  _____    Of course, to which I say I know; that is my blessing and my curse. Does being absolutely positive that you and your best friend could be an amazing couple count? If so, than yes.   Or it is more I could be madly in love in case I reconciled my feelings (which at... No, I did not; thank you for a link! So-called Ti-Si loop (and it can stem from any current topic/obsession) can be deadly. it is like when you are stuck in your own thoughts, and your mind just wanders in cir...</td>\n      <td>Good one      Of course to which I say I know that is my blessing and my curse Does being absolutely positive that you and your best friend could be an amazing couple count If so than yes   Or it is more I could be madly in love in case I reconciled my feelings which at No I did not thank you for a link Socalled TiSi loop and it can stem from any current topicobsession can be deadly it is like when you are stuck in your own thoughts and your mind just wanders in circles Feels truly terrible ...</td>\n    </tr>\n    <tr>\n      <th>3</th>\n      <td>INTJ</td>\n      <td>'Dear INTP,   I enjoyed our conversation the other day.  Esoteric gabbing about the nature of the universe and the idea that every rule and social code being arbitrary constructs created... Dear ENTJ sub,   Long time no see.  Sincerely, Alpha None of them. All other types hurt in deep existential ways that I want no part of. Probably a sliding scale that depends on individual preferences, like everything in humanity. Draco Malfoy also. I would say he is either 358 or 368. I am either 358 or ...</td>\n      <td>Dear INTP   I enjoyed our conversation the other day  Esoteric gabbing about the nature of the universe and the idea that every rule and social code being arbitrary constructs created Dear ENTJ sub   Long time no see  Sincerely Alpha None of them All other types hurt in deep existential ways that I want no part of Probably a sliding scale that depends on individual preferences like everything in humanity Draco Malfoy also I would say he is either 358 or 368 I am either 358 or 385 though in w...</td>\n    </tr>\n    <tr>\n      <th>4</th>\n      <td>ENTJ</td>\n      <td>'you are fired. that is another silly misconception. That approaching is logically is going to be the key to unlocking whatever it is you think you are entitled to.   Nobody wants to be approached with BS... But guys... he REALLY wants to go on a super-duper-long-ass vacation. C'mon guys. His boss just does not listen or get it. He even approached him logically and everything. Never mind. Just go on permanent vacation. Two months? I would not be crazy about the idea. If you are really his be...</td>\n      <td>you are fired that is another silly misconception That approaching is logically is going to be the key to unlocking whatever it is you think you are entitled to   Nobody wants to be approached with BS But guys he REALLY wants to go on a superduperlongass vacation Cmon guys His boss just does not listen or get it He even approached him logically and everything Never mind Just go on permanent vacation Two months I would not be crazy about the idea If you are really his best employee then that ...</td>\n    </tr>\n  </tbody>\n</table>\n</div>"
     },
     "metadata": {},
     "execution_count": 26
    }
   ],
   "source": [
    "import string\n",
    "import re\n",
    "import contractions\n",
    "from emoji import UNICODE_EMOJI\n",
    "string.punctuation\n",
    "\n",
    "def remove_URL(text):\n",
    "    \"\"\"Remove URL from the input Text\"\"\"\n",
    "    return re.sub(r\"http\\S+\", \"\", text)\n",
    "\n",
    "def remove_Contraction(text):\n",
    "    \"\"\"Remove Contraction from the input Text\"\"\"\n",
    "    return contractions.fix(text)\n",
    "\n",
    "def check_Emoji(text):\n",
    "    \"\"\"Check if text has Emoji\"\"\"\n",
    "    return text in UNICODE_EMOJI['en']\n",
    "\n",
    "\n",
    "def remove_punctuation(text):\n",
    "    \"\"\"Remove Punctuation from the input Text\"\"\"\n",
    "    text_punctuated = \"\".join([char for char in text if char not in string.punctuation])\n",
    "    return text_punctuated\n",
    "\n",
    "mbti_Dataset['Posts'] = mbti_Dataset['Posts'].str.replace('|||', ' ', regex = False)\n",
    "mbti_Dataset['Posts'] = mbti_Dataset['Posts'].apply(lambda x: remove_URL(x))\n",
    "mbti_Dataset['Posts'] = mbti_Dataset['Posts'].apply(lambda x: remove_Contraction(x))\n",
    "\n",
    "emoji_Result = mbti_Dataset['Posts'].apply(lambda x: check_Emoji(x))\n",
    "if emoji_Result.any():\n",
    "    print(\"We have emoji on the Dataset\")\n",
    "else:\n",
    "    print('No emoji on Dataset')\n",
    "\n",
    "mbti_Dataset['Posts_Punctuated'] = mbti_Dataset['Posts'].apply(lambda x: remove_punctuation(x))\n",
    "mbti_Dataset.head()"
   ]
  },
  {
   "cell_type": "code",
   "execution_count": 52,
   "metadata": {},
   "outputs": [
    {
     "output_type": "execute_result",
     "data": {
      "text/plain": [
       "   Type  \\\n",
       "0  INFJ   \n",
       "1  ENTP   \n",
       "2  INTP   \n",
       "3  INTJ   \n",
       "4  ENTJ   \n",
       "\n",
       "                                                                                                                                                                                                                                                                                                                                                                                                                                                                                                                 Posts  \\\n",
       "0  '  enfp and intj moments    sportscenter not top ten plays    pranks What has been the most life-changing experience in your life?      On repeat for most of today. May the PerC Experience immerse you. The last thing my INFJ friend posted on his facebook before committing suicide the next day. Rest in peace~    Hello ENFJ7. Sorry to hear of your distress. It's only natural for a relationship to not be perfection all the time in every moment of existence. Try to figure the hard times as times...   \n",
       "1  'I'm finding the lack of me in these posts very alarming. Sex can be boring if it's in the same position often. For example me and my girlfriend are currently in an environment where we have to creatively use cowgirl and missionary. There isn't enough... Giving new meaning to 'Game' theory. Hello *ENTP Grin*  That's all it takes. Than we converse and they do most of the flirting while I acknowledge their presence and return their words with smooth wordplay and more cheeky grins. This + Lack ...   \n",
       "2  'Good one  _____    Of course, to which I say I know; that's my blessing and my curse. Does being absolutely positive that you and your best friend could be an amazing couple count? If so, than yes.   Or it's more I could be madly in love in case I reconciled my feelings (which at... No, I didn't; thank you for a link! So-called Ti-Si loop (and it can stem from any current topic/obsession) can be deadly. It's like when you're stuck in your own thoughts, and your mind just wanders in circles....   \n",
       "3  'Dear INTP,   I enjoyed our conversation the other day.  Esoteric gabbing about the nature of the universe and the idea that every rule and social code being arbitrary constructs created... Dear ENTJ sub,   Long time no see.  Sincerely, Alpha None of them. All other types hurt in deep existential ways that I want no part of. Probably a sliding scale that depends on individual preferences, like everything in humanity. Draco Malfoy also. I'd say he's either 358 or 368. I'm either 358 or 385, t...   \n",
       "4  'You're fired. That's another silly misconception. That approaching is logically is going to be the key to unlocking whatever it is you think you are entitled to.   Nobody wants to be approached with BS... But guys... he REALLY wants to go on a super-duper-long-ass vacation. C'mon guys. His boss just doesn't listen or get it. He even approached him logically and everything. Never mind. Just go on permanent vacation. Two months? I wouldn't be crazy about the idea. If you are really his best e...   \n",
       "\n",
       "                                                                                                                                                                                                                                                                                                                                                                                                                                                                                                      Posts_Punctuated  \\\n",
       "0    enfp and intj moments    sportscenter not top ten plays    pranks What has been the most lifechanging experience in your life      On repeat for most of today May the PerC Experience immerse you The last thing my INFJ friend posted on his facebook before committing suicide the next day Rest in peace    Hello ENFJ7 Sorry to hear of your distress Its only natural for a relationship to not be perfection all the time in every moment of existence Try to figure the hard times as times of growth ...   \n",
       "1  Im finding the lack of me in these posts very alarming Sex can be boring if its in the same position often For example me and my girlfriend are currently in an environment where we have to creatively use cowgirl and missionary There isnt enough Giving new meaning to Game theory Hello ENTP Grin  Thats all it takes Than we converse and they do most of the flirting while I acknowledge their presence and return their words with smooth wordplay and more cheeky grins This  Lack of Balance and Hand...   \n",
       "2  Good one      Of course to which I say I know thats my blessing and my curse Does being absolutely positive that you and your best friend could be an amazing couple count If so than yes   Or its more I could be madly in love in case I reconciled my feelings which at No I didnt thank you for a link Socalled TiSi loop and it can stem from any current topicobsession can be deadly Its like when youre stuck in your own thoughts and your mind just wanders in circles Feels truly terrible  Have you ...   \n",
       "3  Dear INTP   I enjoyed our conversation the other day  Esoteric gabbing about the nature of the universe and the idea that every rule and social code being arbitrary constructs created Dear ENTJ sub   Long time no see  Sincerely Alpha None of them All other types hurt in deep existential ways that I want no part of Probably a sliding scale that depends on individual preferences like everything in humanity Draco Malfoy also Id say hes either 358 or 368 Im either 358 or 385 though in which stac...   \n",
       "4  Youre fired Thats another silly misconception That approaching is logically is going to be the key to unlocking whatever it is you think you are entitled to   Nobody wants to be approached with BS But guys he REALLY wants to go on a superduperlongass vacation Cmon guys His boss just doesnt listen or get it He even approached him logically and everything Never mind Just go on permanent vacation Two months I wouldnt be crazy about the idea If you are really his best employee then thats what ma...   \n",
       "\n",
       "                                                                                                                                                                                                                                                                                                                                                                                                                                                                                                       Posts_Tokenized  \n",
       "0  [, enfp, and, intj, moments, sportscenter, not, top, ten, plays, pranks, what, has, been, the, most, lifechanging, experience, in, your, life, on, repeat, for, most, of, today, may, the, perc, experience, immerse, you, the, last, thing, my, infj, friend, posted, on, his, facebook, before, committing, suicide, the, next, day, rest, in, peace, hello, enfj7, sorry, to, hear, of, your, distress, its, only, natural, for, a, relationship, to, not, be, perfection, all, the, time, in, every, moment,...  \n",
       "1  [im, finding, the, lack, of, me, in, these, posts, very, alarming, sex, can, be, boring, if, its, in, the, same, position, often, for, example, me, and, my, girlfriend, are, currently, in, an, environment, where, we, have, to, creatively, use, cowgirl, and, missionary, there, isnt, enough, giving, new, meaning, to, game, theory, hello, entp, grin, thats, all, it, takes, than, we, converse, and, they, do, most, of, the, flirting, while, i, acknowledge, their, presence, and, return, their, wor...  \n",
       "2  [good, one, of, course, to, which, i, say, i, know, thats, my, blessing, and, my, curse, does, being, absolutely, positive, that, you, and, your, best, friend, could, be, an, amazing, couple, count, if, so, than, yes, or, its, more, i, could, be, madly, in, love, in, case, i, reconciled, my, feelings, which, at, no, i, didnt, thank, you, for, a, link, socalled, tisi, loop, and, it, can, stem, from, any, current, topicobsession, can, be, deadly, its, like, when, youre, stuck, in, your, own, t...  \n",
       "3  [dear, intp, i, enjoyed, our, conversation, the, other, day, esoteric, gabbing, about, the, nature, of, the, universe, and, the, idea, that, every, rule, and, social, code, being, arbitrary, constructs, created, dear, entj, sub, long, time, no, see, sincerely, alpha, none, of, them, all, other, types, hurt, in, deep, existential, ways, that, i, want, no, part, of, probably, a, sliding, scale, that, depends, on, individual, preferences, like, everything, in, humanity, draco, malfoy, also, id,...  \n",
       "4  [youre, fired, thats, another, silly, misconception, that, approaching, is, logically, is, going, to, be, the, key, to, unlocking, whatever, it, is, you, think, you, are, entitled, to, nobody, wants, to, be, approached, with, bs, but, guys, he, really, wants, to, go, on, a, superduperlongass, vacation, cmon, guys, his, boss, just, doesnt, listen, or, get, it, he, even, approached, him, logically, and, everything, never, mind, just, go, on, permanent, vacation, two, months, i, wouldnt, be, cr...  "
      ],
      "text/html": "<div>\n<style scoped>\n    .dataframe tbody tr th:only-of-type {\n        vertical-align: middle;\n    }\n\n    .dataframe tbody tr th {\n        vertical-align: top;\n    }\n\n    .dataframe thead th {\n        text-align: right;\n    }\n</style>\n<table border=\"1\" class=\"dataframe\">\n  <thead>\n    <tr style=\"text-align: right;\">\n      <th></th>\n      <th>Type</th>\n      <th>Posts</th>\n      <th>Posts_Punctuated</th>\n      <th>Posts_Tokenized</th>\n    </tr>\n  </thead>\n  <tbody>\n    <tr>\n      <th>0</th>\n      <td>INFJ</td>\n      <td>'  enfp and intj moments    sportscenter not top ten plays    pranks What has been the most life-changing experience in your life?      On repeat for most of today. May the PerC Experience immerse you. The last thing my INFJ friend posted on his facebook before committing suicide the next day. Rest in peace~    Hello ENFJ7. Sorry to hear of your distress. It's only natural for a relationship to not be perfection all the time in every moment of existence. Try to figure the hard times as times...</td>\n      <td>enfp and intj moments    sportscenter not top ten plays    pranks What has been the most lifechanging experience in your life      On repeat for most of today May the PerC Experience immerse you The last thing my INFJ friend posted on his facebook before committing suicide the next day Rest in peace    Hello ENFJ7 Sorry to hear of your distress Its only natural for a relationship to not be perfection all the time in every moment of existence Try to figure the hard times as times of growth ...</td>\n      <td>[, enfp, and, intj, moments, sportscenter, not, top, ten, plays, pranks, what, has, been, the, most, lifechanging, experience, in, your, life, on, repeat, for, most, of, today, may, the, perc, experience, immerse, you, the, last, thing, my, infj, friend, posted, on, his, facebook, before, committing, suicide, the, next, day, rest, in, peace, hello, enfj7, sorry, to, hear, of, your, distress, its, only, natural, for, a, relationship, to, not, be, perfection, all, the, time, in, every, moment,...</td>\n    </tr>\n    <tr>\n      <th>1</th>\n      <td>ENTP</td>\n      <td>'I'm finding the lack of me in these posts very alarming. Sex can be boring if it's in the same position often. For example me and my girlfriend are currently in an environment where we have to creatively use cowgirl and missionary. There isn't enough... Giving new meaning to 'Game' theory. Hello *ENTP Grin*  That's all it takes. Than we converse and they do most of the flirting while I acknowledge their presence and return their words with smooth wordplay and more cheeky grins. This + Lack ...</td>\n      <td>Im finding the lack of me in these posts very alarming Sex can be boring if its in the same position often For example me and my girlfriend are currently in an environment where we have to creatively use cowgirl and missionary There isnt enough Giving new meaning to Game theory Hello ENTP Grin  Thats all it takes Than we converse and they do most of the flirting while I acknowledge their presence and return their words with smooth wordplay and more cheeky grins This  Lack of Balance and Hand...</td>\n      <td>[im, finding, the, lack, of, me, in, these, posts, very, alarming, sex, can, be, boring, if, its, in, the, same, position, often, for, example, me, and, my, girlfriend, are, currently, in, an, environment, where, we, have, to, creatively, use, cowgirl, and, missionary, there, isnt, enough, giving, new, meaning, to, game, theory, hello, entp, grin, thats, all, it, takes, than, we, converse, and, they, do, most, of, the, flirting, while, i, acknowledge, their, presence, and, return, their, wor...</td>\n    </tr>\n    <tr>\n      <th>2</th>\n      <td>INTP</td>\n      <td>'Good one  _____    Of course, to which I say I know; that's my blessing and my curse. Does being absolutely positive that you and your best friend could be an amazing couple count? If so, than yes.   Or it's more I could be madly in love in case I reconciled my feelings (which at... No, I didn't; thank you for a link! So-called Ti-Si loop (and it can stem from any current topic/obsession) can be deadly. It's like when you're stuck in your own thoughts, and your mind just wanders in circles....</td>\n      <td>Good one      Of course to which I say I know thats my blessing and my curse Does being absolutely positive that you and your best friend could be an amazing couple count If so than yes   Or its more I could be madly in love in case I reconciled my feelings which at No I didnt thank you for a link Socalled TiSi loop and it can stem from any current topicobsession can be deadly Its like when youre stuck in your own thoughts and your mind just wanders in circles Feels truly terrible  Have you ...</td>\n      <td>[good, one, of, course, to, which, i, say, i, know, thats, my, blessing, and, my, curse, does, being, absolutely, positive, that, you, and, your, best, friend, could, be, an, amazing, couple, count, if, so, than, yes, or, its, more, i, could, be, madly, in, love, in, case, i, reconciled, my, feelings, which, at, no, i, didnt, thank, you, for, a, link, socalled, tisi, loop, and, it, can, stem, from, any, current, topicobsession, can, be, deadly, its, like, when, youre, stuck, in, your, own, t...</td>\n    </tr>\n    <tr>\n      <th>3</th>\n      <td>INTJ</td>\n      <td>'Dear INTP,   I enjoyed our conversation the other day.  Esoteric gabbing about the nature of the universe and the idea that every rule and social code being arbitrary constructs created... Dear ENTJ sub,   Long time no see.  Sincerely, Alpha None of them. All other types hurt in deep existential ways that I want no part of. Probably a sliding scale that depends on individual preferences, like everything in humanity. Draco Malfoy also. I'd say he's either 358 or 368. I'm either 358 or 385, t...</td>\n      <td>Dear INTP   I enjoyed our conversation the other day  Esoteric gabbing about the nature of the universe and the idea that every rule and social code being arbitrary constructs created Dear ENTJ sub   Long time no see  Sincerely Alpha None of them All other types hurt in deep existential ways that I want no part of Probably a sliding scale that depends on individual preferences like everything in humanity Draco Malfoy also Id say hes either 358 or 368 Im either 358 or 385 though in which stac...</td>\n      <td>[dear, intp, i, enjoyed, our, conversation, the, other, day, esoteric, gabbing, about, the, nature, of, the, universe, and, the, idea, that, every, rule, and, social, code, being, arbitrary, constructs, created, dear, entj, sub, long, time, no, see, sincerely, alpha, none, of, them, all, other, types, hurt, in, deep, existential, ways, that, i, want, no, part, of, probably, a, sliding, scale, that, depends, on, individual, preferences, like, everything, in, humanity, draco, malfoy, also, id,...</td>\n    </tr>\n    <tr>\n      <th>4</th>\n      <td>ENTJ</td>\n      <td>'You're fired. That's another silly misconception. That approaching is logically is going to be the key to unlocking whatever it is you think you are entitled to.   Nobody wants to be approached with BS... But guys... he REALLY wants to go on a super-duper-long-ass vacation. C'mon guys. His boss just doesn't listen or get it. He even approached him logically and everything. Never mind. Just go on permanent vacation. Two months? I wouldn't be crazy about the idea. If you are really his best e...</td>\n      <td>Youre fired Thats another silly misconception That approaching is logically is going to be the key to unlocking whatever it is you think you are entitled to   Nobody wants to be approached with BS But guys he REALLY wants to go on a superduperlongass vacation Cmon guys His boss just doesnt listen or get it He even approached him logically and everything Never mind Just go on permanent vacation Two months I wouldnt be crazy about the idea If you are really his best employee then thats what ma...</td>\n      <td>[youre, fired, thats, another, silly, misconception, that, approaching, is, logically, is, going, to, be, the, key, to, unlocking, whatever, it, is, you, think, you, are, entitled, to, nobody, wants, to, be, approached, with, bs, but, guys, he, really, wants, to, go, on, a, superduperlongass, vacation, cmon, guys, his, boss, just, doesnt, listen, or, get, it, he, even, approached, him, logically, and, everything, never, mind, just, go, on, permanent, vacation, two, months, i, wouldnt, be, cr...</td>\n    </tr>\n  </tbody>\n</table>\n</div>"
     },
     "metadata": {},
     "execution_count": 52
    }
   ],
   "source": [
    "def tokenize_data(text):\n",
    "    tokens = re.split('\\W+', text.lower())\n",
    "    return tokens\n",
    "\n",
    "mbti_Dataset['Posts_Tokenized'] = mbti_Dataset['Posts_Punctuated'].apply(lambda x: tokenize_data(x))\n",
    "mbti_Dataset.head()"
   ]
  }
 ]
}