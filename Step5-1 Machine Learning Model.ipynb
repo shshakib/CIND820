{
 "cells": [
  {
   "cell_type": "markdown",
   "source": [
    "# Setep 5: Machine Learning Model\r\n",
    "\r\n",
    "<br>\r\n",
    "In this step our Machine learning model will be created and its performance and accuracy will be evaluated using different parameters. Random Forest and Gradient-boosting were chosen to be used in the project"
   ],
   "metadata": {}
  },
  {
   "cell_type": "code",
   "execution_count": 1,
   "source": [
    "#Clean up any values left from any previous steps\r\n",
    "def cleanup():\r\n",
    "    for name in dir():\r\n",
    "        if not name.startswith('_'):\r\n",
    "            del globals()[name]\r\n",
    "cleanup()"
   ],
   "outputs": [],
   "metadata": {}
  },
  {
   "cell_type": "code",
   "execution_count": 3,
   "source": [
    "#Load Lemmatized Dataset from prevous steps\r\n",
    "import pandas as pd\r\n",
    "\r\n",
    "fields = ['Type', 'IE', 'NS', 'FT', 'PJ', 'Posts_Lemmatized']\r\n",
    "mbti_Dataset = pd.read_pickle('mbti_Dataset2.pkl')\r\n",
    "mbti_Dataset = mbti_Dataset.filter(fields)\r\n",
    "mbti_Dataset.head()"
   ],
   "outputs": [
    {
     "output_type": "execute_result",
     "data": {
      "text/plain": [
       "   Type IE NS FT PJ                                   Posts_Lemmatized\n",
       "0  INFJ  I  N  F  J  [, moment, sportscenter, top, ten, play, prank...\n",
       "1  ENTP  E  N  T  P  [finding, lack, post, alarming, sex, boring, p...\n",
       "2  INTP  I  N  T  P  [good, one, course, say, know, blessing, curse...\n",
       "3  INTJ  I  N  T  J  [dear, enjoyed, conversation, day, esoteric, g...\n",
       "4  ENTJ  E  N  T  J  [fired, another, silly, misconception, approac..."
      ],
      "text/html": [
       "<div>\n",
       "<style scoped>\n",
       "    .dataframe tbody tr th:only-of-type {\n",
       "        vertical-align: middle;\n",
       "    }\n",
       "\n",
       "    .dataframe tbody tr th {\n",
       "        vertical-align: top;\n",
       "    }\n",
       "\n",
       "    .dataframe thead th {\n",
       "        text-align: right;\n",
       "    }\n",
       "</style>\n",
       "<table border=\"1\" class=\"dataframe\">\n",
       "  <thead>\n",
       "    <tr style=\"text-align: right;\">\n",
       "      <th></th>\n",
       "      <th>Type</th>\n",
       "      <th>IE</th>\n",
       "      <th>NS</th>\n",
       "      <th>FT</th>\n",
       "      <th>PJ</th>\n",
       "      <th>Posts_Lemmatized</th>\n",
       "    </tr>\n",
       "  </thead>\n",
       "  <tbody>\n",
       "    <tr>\n",
       "      <th>0</th>\n",
       "      <td>INFJ</td>\n",
       "      <td>I</td>\n",
       "      <td>N</td>\n",
       "      <td>F</td>\n",
       "      <td>J</td>\n",
       "      <td>[, moment, sportscenter, top, ten, play, prank...</td>\n",
       "    </tr>\n",
       "    <tr>\n",
       "      <th>1</th>\n",
       "      <td>ENTP</td>\n",
       "      <td>E</td>\n",
       "      <td>N</td>\n",
       "      <td>T</td>\n",
       "      <td>P</td>\n",
       "      <td>[finding, lack, post, alarming, sex, boring, p...</td>\n",
       "    </tr>\n",
       "    <tr>\n",
       "      <th>2</th>\n",
       "      <td>INTP</td>\n",
       "      <td>I</td>\n",
       "      <td>N</td>\n",
       "      <td>T</td>\n",
       "      <td>P</td>\n",
       "      <td>[good, one, course, say, know, blessing, curse...</td>\n",
       "    </tr>\n",
       "    <tr>\n",
       "      <th>3</th>\n",
       "      <td>INTJ</td>\n",
       "      <td>I</td>\n",
       "      <td>N</td>\n",
       "      <td>T</td>\n",
       "      <td>J</td>\n",
       "      <td>[dear, enjoyed, conversation, day, esoteric, g...</td>\n",
       "    </tr>\n",
       "    <tr>\n",
       "      <th>4</th>\n",
       "      <td>ENTJ</td>\n",
       "      <td>E</td>\n",
       "      <td>N</td>\n",
       "      <td>T</td>\n",
       "      <td>J</td>\n",
       "      <td>[fired, another, silly, misconception, approac...</td>\n",
       "    </tr>\n",
       "  </tbody>\n",
       "</table>\n",
       "</div>"
      ]
     },
     "metadata": {},
     "execution_count": 3
    }
   ],
   "metadata": {}
  },
  {
   "cell_type": "markdown",
   "source": [
    "## 5-1: Split our data into training and test\r\n",
    "\r\n",
    "In this part we are splitting our Dataset into Training and Test dataset. Test size is 20%."
   ],
   "metadata": {}
  },
  {
   "cell_type": "code",
   "execution_count": 4,
   "source": [
    "from sklearn.model_selection import train_test_split\r\n",
    "\r\n",
    "X_train, X_test, Y_train, Y_test = train_test_split(mbti_Dataset['Posts_Lemmatized'], mbti_Dataset[['IE' , 'NS', 'FT', 'PJ']], test_size=0.2)#20% of dataset is test set    \r\n",
    "\r\n",
    "#Save Training and Test dataset in Picklet format.\r\n",
    "X_train.to_pickle('X_train.pkl')\r\n",
    "X_test.to_pickle('X_test.pkl')\r\n",
    "Y_train.to_pickle('Y_train.pkl')\r\n",
    "Y_test.to_pickle('Y_test.pkl')"
   ],
   "outputs": [],
   "metadata": {}
  },
  {
   "cell_type": "markdown",
   "source": [
    "Now training and test dataset will be converted to TFIDF, CountVectorizer and N-Grams(Same approad as step3 was used here). The result will be saved so it can be used in later steps. "
   ],
   "metadata": {}
  },
  {
   "cell_type": "code",
   "execution_count": 5,
   "source": [
    "#Converting data to TFIDF, CountVectorizer and N-Grams. The result will be saved so it can be used in later steps. \r\n",
    "import nltk\r\n",
    "from sklearn.feature_extraction.text import TfidfVectorizer\r\n",
    "from sklearn.feature_extraction.text import CountVectorizer\r\n",
    "import numpy as np\r\n",
    "from scipy import sparse\r\n",
    "import pandas as pd\r\n",
    "\r\n",
    "def lemmatizing(text):\r\n",
    "    \"\"\"Lemmatizing the input text using WordNet and NLTK package\"\"\"\r\n",
    "    NLTK_WNL = nltk.WordNetLemmatizer()\r\n",
    "    text_Lem = [NLTK_WNL.lemmatize(word) for word in text]\r\n",
    "    return(text_Lem)\r\n",
    "\r\n",
    "\r\n",
    "def clean_and_load():\r\n",
    "    \"\"\"Delete all variables inside memory and load training and test dataset\"\"\"\r\n",
    "    for name in dir():\r\n",
    "        if not name.startswith('_'):\r\n",
    "            del globals()[name]\r\n",
    "    global X_train, X_test, Y_train, Y_test\r\n",
    "    X_train = pd.read_pickle('X_train.pkl')\r\n",
    "    X_test = pd.read_pickle('X_test.pkl')\r\n",
    "    Y_train = pd.read_pickle('Y_train.pkl')\r\n",
    "    Y_test = pd.read_pickle('Y_test.pkl')\r\n",
    "\r\n",
    "\r\n",
    "#TFIDF\r\n",
    "clean_and_load()\r\n",
    "tfidf_vect = TfidfVectorizer(analyzer=lemmatizing)\r\n",
    "tfidf_vect_fit = tfidf_vect.fit(X_train)\r\n",
    "\r\n",
    "tfidf_train = tfidf_vect_fit.transform(X_train)\r\n",
    "tfidf_test = tfidf_vect_fit.transform(X_test)\r\n",
    "\r\n",
    "X_train_tfidf = pd.DataFrame(tfidf_train.toarray())\r\n",
    "X_test_tfidf = pd.DataFrame(tfidf_test.toarray())\r\n",
    "\r\n",
    "np.save('X_train_tfidf', X_train_tfidf)#Saving results\r\n",
    "np.save('X_test_tfidf', X_test_tfidf)#Saving results\r\n",
    "\r\n",
    "\r\n",
    "\r\n",
    "#CountVectorizer\r\n",
    "clean_and_load()\r\n",
    "count_vect = CountVectorizer(analyzer=lemmatizing)\r\n",
    "count_vect_fit = count_vect.fit(X_train)\r\n",
    "\r\n",
    "count_train = count_vect_fit.transform(X_train)\r\n",
    "count_test = count_vect_fit.transform(X_test)\r\n",
    "\r\n",
    "X_train_count = pd.DataFrame(count_train.toarray())\r\n",
    "X_test_count = pd.DataFrame(count_test.toarray())\r\n",
    "\r\n",
    "np.save('X_train_count', X_train_count)#Saving results\r\n",
    "np.save('X_test_count', X_test_count)#Saving results\r\n",
    "\r\n",
    "\r\n",
    "#N-gram\r\n",
    "#clean_and_load()\r\n",
    "#ngram_vect = CountVectorizer(ngram_range=(1,3)) #Running N-Gram on full dataset (Max = 3)\r\n",
    "#X_train = X_train.apply(lambda x: ' '.join(map(str,x)))\r\n",
    "#X_test = X_test.apply(lambda x: ' '.join(map(str,x)))\r\n",
    "#ngram_vect_fit = ngram_vect.fit(X_train)\r\n",
    "\r\n",
    "#ngram_train = ngram_vect_fit.transform(X_train)\r\n",
    "#ngram_test = ngram_vect_fit.transform(X_test)\r\n",
    "\r\n",
    "#X_train_ngram = pd.DataFrame(ngram_train.toarray())\r\n",
    "#X_test_ngram = pd.DataFrame(ngram_test.toarray())\r\n",
    "\r\n",
    "#np.save('X_train_ngram', X_train_ngram)#Saving results\r\n",
    "#np.save('D:\\X_test_ngram', X_test_ngram)#Saving results\r\n"
   ],
   "outputs": [],
   "metadata": {}
  },
  {
   "cell_type": "markdown",
   "source": [
    "Since the result for N-Grams(3-Grams) was over 300GB, we are tuning our parameters on CountVectorizer and TFIDF."
   ],
   "metadata": {}
  },
  {
   "cell_type": "markdown",
   "source": [
    "## 5-1: Random Forest Model\r\n",
    "### 5-1-1: Explorering Random Forest with Holdout test set + grid-search\r\n",
    "In this step, various parameters are being used on our train dataset to find the best parameter for our Random Forest model. (Number of estimator, Maximum depth)"
   ],
   "metadata": {}
  },
  {
   "cell_type": "code",
   "execution_count": null,
   "source": [
    "from sklearn.metrics import precision_recall_fscore_support as score\r\n",
    "from sklearn.ensemble import RandomForestClassifier\r\n",
    "import pandas as pd\r\n",
    "import numpy as np\r\n",
    "\r\n",
    "pd.set_option('display.max_rows', None, 'display.max_colwidth', 500)\r\n",
    "\r\n",
    "\r\n",
    "def rfClassifier_GridSearch(X_test_set, X_train_set, Lable, n_est, depth, feature_type, is_print = True):\r\n",
    "    \"\"\"This function will get number of estimators and depth as input return  Precision, recall and Accuracy for a given dataset and lable\"\"\"\r\n",
    "    if Lable == 'IE':\r\n",
    "        s_Lable = 'I'\r\n",
    "        predict_Lable = 'Introverts'\r\n",
    "    elif Lable == 'NS':\r\n",
    "        s_Lable = 'N'\r\n",
    "        predict_Lable = 'Intuitives'\r\n",
    "    elif Lable == 'FT':\r\n",
    "        s_Lable = 'F'\r\n",
    "        predict_Lable = 'Feelers'\r\n",
    "    elif Lable == 'PJ':\r\n",
    "        s_Lable = 'P'\r\n",
    "        predict_Lable = 'Perceivers'\r\n",
    "\r\n",
    "    rf = RandomForestClassifier(n_estimators=n_est, max_depth=depth ,n_jobs=-1)#Max depth of tree is 20\r\n",
    "    rf_model = rf.fit(X_train_set, Y_train[Lable])\r\n",
    "    Y_pred = rf_model.predict(X_test_set)\r\n",
    "\r\n",
    "    precision, recall, fscore, support = score(Y_test[Lable], Y_pred, pos_label=s_Lable, average='binary')\r\n",
    "    if is_print:\r\n",
    "        print('Being ' + predict_Lable + ' using ' + feature_type + ':'  ,\r\n",
    "        'Estimators: {} / Max_Depth: {} --> Precision: {} / Recall: {} / Accuracy: {}'.format(\r\n",
    "                                                        n_est,\r\n",
    "                                                        depth,\r\n",
    "                                                        round(precision, 3),\r\n",
    "                                                        round(recall, 3), \r\n",
    "                                                        round((Y_pred==Y_test[Lable]).sum() / len(Y_pred),3)))\r\n",
    "    return([predict_Lable, feature_type, n_est, depth, precision, recall, round((Y_pred==Y_test[Lable]).sum() / len(Y_pred),3)])\r\n",
    "\r\n",
    "\r\n",
    "classes = ['IE' , 'NS', 'FT', 'PJ']\r\n",
    "rf_result = []\r\n",
    "\r\n",
    "Y_train = pd.read_pickle('Y_train.pkl')\r\n",
    "Y_test = pd.read_pickle('Y_test.pkl')\r\n",
    "\r\n",
    "#Nested loop to check different values on different features/classes to find the best parameters\r\n",
    "for feature_type in ['TFIDF', 'CountVectorizer']:\r\n",
    "    if feature_type == 'TFIDF':\r\n",
    "        X_test_set = np.load('X_test_tfidf.npy')\r\n",
    "        X_train_set = np.load('X_train_tfidf.npy')\r\n",
    "    elif feature_type == 'CountVectorizer':\r\n",
    "        X_test_set = np.load('X_test_count.npy')\r\n",
    "        X_train_set = np.load('X_train_count.npy')\r\n",
    "    #elif feature_type == 'N-gram':\r\n",
    "        #X_test_set = np.load('X_test_ngram.npy')\r\n",
    "        #X_train_set = np.load('X_train_ngram.npy')\r\n",
    "    for item in classes:\r\n",
    "        for n_est in [10, 50, 100, 200, 500]:\r\n",
    "            for depth in [5, 10, 20, 30, None]:\r\n",
    "                rf_result.append(rfClassifier_GridSearch(X_test_set = X_test_set, X_train_set = X_train_set, Lable = item, n_est=n_est, depth=depth, feature_type=feature_type,is_print = False))\r\n",
    "\r\n",
    "\r\n",
    "pd.DataFrame(rf_result, columns= ['Type', 'Method', 'Estimators', 'Max_Depth', 'Precision', 'Recall', 'Accuracy']).to_csv('RF_Holdout_Result.csv')"
   ],
   "outputs": [],
   "metadata": {}
  },
  {
   "cell_type": "markdown",
   "source": [
    "Checking the result to find best parameters for our Grid Search:"
   ],
   "metadata": {}
  },
  {
   "cell_type": "code",
   "execution_count": 10,
   "source": [
    "from tabulate import tabulate\r\n",
    "\r\n",
    "df = pd.read_csv('RF_Holdout_Result.csv')[['Type', 'Method', 'Estimators', 'Max_Depth', 'Precision', 'Recall', 'Accuracy']]\r\n",
    "print(df[df['Method'] == 'TFIDF'].sort_values(['Accuracy', 'Type'], ascending = False).groupby(['Type']).head(1).to_markdown(), '\\n')\r\n",
    "print(df[df['Method'] == 'CountVectorizer'].sort_values(['Accuracy', 'Type'], ascending = False).groupby(['Type']).head(1).to_markdown())"
   ],
   "outputs": [
    {
     "output_type": "stream",
     "name": "stdout",
     "text": [
      "|    | Type       | Method   |   Estimators |   Max_Depth |   Precision |   Recall |   Accuracy |\n",
      "|---:|:-----------|:---------|-------------:|------------:|------------:|---------:|-----------:|\n",
      "| 25 | Intuitives | TFIDF    |           10 |           5 |    0.855331 | 1        |      0.855 |\n",
      "| 74 | Feelers    | TFIDF    |          500 |         nan |    0.726962 | 0.890282 |      0.755 |\n",
      "|  3 | Introverts | TFIDF    |           10 |          30 |    0.75522  | 0.996937 |      0.754 |\n",
      "| 89 | Perceivers | TFIDF    |          100 |         nan |    0.649166 | 0.974954 |      0.657 | \n",
      "\n",
      "|     | Type       | Method          |   Estimators |   Max_Depth |   Precision |   Recall |   Accuracy |\n",
      "|----:|:-----------|:----------------|-------------:|------------:|------------:|---------:|-----------:|\n",
      "| 129 | Intuitives | CountVectorizer |           10 |         nan |    0.856647 | 0.998652 |      0.856 |\n",
      "| 104 | Introverts | CountVectorizer |           10 |         nan |    0.760355 | 0.98392  |      0.754 |\n",
      "| 168 | Feelers    | CountVectorizer |          200 |          30 |    0.712171 | 0.904911 |      0.746 |\n",
      "| 184 | Perceivers | CountVectorizer |           50 |         nan |    0.659091 | 0.941558 |      0.661 |\n"
     ]
    }
   ],
   "metadata": {}
  },
  {
   "cell_type": "code",
   "execution_count": 9,
   "source": [
    "import seaborn as sns\r\n",
    "from pandas import DataFrame\r\n",
    "\r\n",
    "df = pd.read_csv('RF_Holdout_Result.csv')\r\n",
    "\r\n",
    "sns.lmplot(x='Estimators', y='Accuracy', data=df, hue='Type', fit_reg=False, aspect=1.2, height = 8, scatter_kws={\"s\": 100}, col = 'Method')\r\n",
    "sns.lmplot(x='Max_Depth', y='Accuracy', data=df, hue='Type', fit_reg=False, aspect=1.2, height = 8, scatter_kws={\"s\": 100}, col = 'Method')"
   ],
   "outputs": [
    {
     "output_type": "execute_result",
     "data": {
      "text/plain": [
       "<seaborn.axisgrid.FacetGrid at 0x1e39fa5cc10>"
      ]
     },
     "metadata": {},
     "execution_count": 9
    },
    {
     "output_type": "display_data",
     "data": {
      "text/plain": [
       "<Figure size 1469.9x576 with 2 Axes>"
      ],
      "image/png": "[encoded data removed]"
     },
     "metadata": {
      "needs_background": "light"
     }
    },
    {
     "output_type": "display_data",
     "data": {
      "text/plain": [
       "<Figure size 1469.9x576 with 2 Axes>"
      ],
      "image/png": "[encoded data removed]"
     },
     "metadata": {
      "needs_background": "light"
     }
    }
   ],
   "metadata": {}
  },
  {
   "cell_type": "markdown",
   "source": [
    "#### Based on the results , Max_Depth increases accuracy specially for Feelers and Perceivers groups. In general TFID is slightly bettrer. Therefor evaluation Random forest model using TFIDF and  Max_Depth as 5 and 30 and Non and also Number of estimators 500, 100 and 10."
   ],
   "metadata": {}
  },
  {
   "cell_type": "markdown",
   "source": [
    "### 5-1-2 : Train vectorizes on training set and use that to transform test set.\r\n",
    "\r\n",
    "5 fold validation is being used here:"
   ],
   "metadata": {}
  },
  {
   "cell_type": "code",
   "execution_count": 55,
   "source": [
    "from sklearn.ensemble import RandomForestClassifier\r\n",
    "from sklearn.model_selection import GridSearchCV\r\n",
    "import pandas as pd\r\n",
    "#from scipy import sparse\r\n",
    "import numpy as np\r\n",
    "\r\n",
    "pd.set_option('display.max_colwidth', 500)\r\n",
    "\r\n",
    "def RF_Evaluation(param, Lable, is_print = True):\r\n",
    "    rf = RandomForestClassifier()\r\n",
    "    gs = GridSearchCV(rf, param, cv=5)#cv=5 means 5 folde validation\r\n",
    "    gs_fit = gs.fit(X_train_set, Y_train[Lable])\r\n",
    "    \r\n",
    "    if is_print:\r\n",
    "        print(pd.DataFrame(gs_fit.cv_results_).sort_values('mean_test_score', ascending = False)[['param_max_depth',\r\n",
    "        'param_n_estimators', 'std_test_score', 'mean_test_score', 'rank_test_score']][0:5])\r\n",
    "\r\n",
    "    return(pd.DataFrame(gs_fit.cv_results_))\r\n",
    "\r\n",
    "\r\n",
    "\r\n",
    "#Base on the results from previous steps\r\n",
    "param = {'n_estimators' : [10, 100, 500],\r\n",
    "        'max_depth' : [30, None]}\r\n",
    "\r\n",
    "classes = ['IE' , 'NS', 'FT', 'PJ']\r\n",
    "Y_train = pd.read_pickle('Y_train.pkl')\r\n",
    "rf_parm_result = []\r\n",
    "\r\n",
    "\r\n",
    "for feature_type in ['TFIDF']:#Only using TFID based on the result from previous steps\r\n",
    "    #if feature_type == 'TFIDF':\r\n",
    "    X_train_set = np.load('X_train_tfidf.npy')\r\n",
    "    #elif feature_type == 'CountVectorizer':\r\n",
    "    #    X_train_set = np.load('X_train_count.npy')\r\n",
    "    #elif feature_type == 'N-gram':\r\n",
    "    #    X_train_set = np.load('X_train_ngram.npy')\r\n",
    "    for item in classes:\r\n",
    "        temp_DF = RF_Evaluation(param, Lable = item, is_print = False)\r\n",
    "        temp_DF.insert(0, 'Feature', feature_type)\r\n",
    "        temp_DF.insert(1, 'Class', item)\r\n",
    "        rf_parm_result.append(temp_DF)\r\n",
    "        pd.concat(rf_parm_result).to_csv('RF_Parm_Result.csv')\r\n",
    "\r\n",
    "pd.concat(rf_parm_result).to_csv('RF_Parm_Result.csv')\r\n"
   ],
   "outputs": [],
   "metadata": {}
  },
  {
   "cell_type": "code",
   "execution_count": 63,
   "source": [
    "df = pd.read_csv('RF_Parm_Result.csv')\r\n",
    "print(df[['Feature', 'Class', 'param_max_depth', 'param_n_estimators', 'mean_test_score', 'rank_test_score']].sort_values(['rank_test_score'], ascending = True).groupby(['Class']).head(1).to_markdown(), '\\n')"
   ],
   "outputs": [
    {
     "output_type": "stream",
     "name": "stdout",
     "text": [
      "|    | Feature   | Class   |   param_max_depth |   param_n_estimators |   mean_test_score |   rank_test_score |\n",
      "|---:|:----------|:--------|------------------:|---------------------:|------------------:|------------------:|\n",
      "|  0 | TFIDF     | IE      |                30 |                   10 |          0.774207 |                 1 |\n",
      "| 17 | TFIDF     | FT      |               nan |                  500 |          0.752594 |                 1 |\n",
      "| 22 | TFIDF     | PJ      |               nan |                  100 |          0.629827 |                 1 |\n",
      "|  9 | TFIDF     | NS      |               nan |                   10 |          0.863833 |                 1 | \n",
      "\n"
     ]
    }
   ],
   "metadata": {}
  },
  {
   "cell_type": "markdown",
   "source": [
    "## 5-2: Gradient Boosting Model\n",
    "### 5-2-1: Gradient Boosting with Holdout test set"
   ],
   "metadata": {}
  },
  {
   "cell_type": "code",
   "execution_count": null,
   "source": [
    "from sklearn.metrics import precision_recall_fscore_support as score\r\n",
    "#from sklearn.model_selection import train_test_split\r\n",
    "from sklearn.ensemble import GradientBoostingClassifier\r\n",
    "import pandas as pd\r\n",
    "import numpy as np\r\n",
    "from datetime import datetime\r\n",
    "\r\n",
    "\r\n",
    "pd.set_option('display.max_rows', None, 'display.max_colwidth', 500)\r\n",
    "\r\n",
    "\r\n",
    "def GBoosting_GridSearch(Lable, n_est, depth, lr, feature_type, is_print = True):\r\n",
    "    if Lable == 'IE':\r\n",
    "        s_Lable = 'I'\r\n",
    "        predict_Lable = 'Introverts'\r\n",
    "    elif Lable == 'NS':\r\n",
    "        s_Lable = 'N'\r\n",
    "        predict_Lable = 'Intuitives'\r\n",
    "    elif Lable == 'FT':\r\n",
    "        s_Lable = 'F'\r\n",
    "        predict_Lable = 'Feelers'\r\n",
    "    elif Lable == 'PJ':\r\n",
    "        s_Lable = 'P'\r\n",
    "        predict_Lable = 'Perceivers'\r\n",
    "\r\n",
    "    gb = GradientBoostingClassifier(n_estimators=n_est, max_depth=depth , learning_rate=lr)\r\n",
    "    gb_model = gb.fit(X_train_set, Y_train[Lable])\r\n",
    "    Y_pred = gb_model.predict(X_test_set)\r\n",
    "\r\n",
    "    precision, recall, fscore, support = score(Y_test[Lable], Y_pred, pos_label=s_Lable, average='binary')\r\n",
    "    if is_print:\r\n",
    "        print('Being ' + predict_Lable + ' using ' + feature_type + ': '  ,'Estimators: {} / Max_Depth: {} / Learning_Rate: {} --> Precision: {} / Recall: {} / Accuracy: {}'.format(\r\n",
    "                                                        n_est,\r\n",
    "                                                        depth,\r\n",
    "                                                        lr,\r\n",
    "                                                        round(precision, 3),\r\n",
    "                                                        round(recall, 3), \r\n",
    "                                                        round((Y_pred==Y_test[Lable]).sum() / len(Y_pred),3)))\r\n",
    "    return([predict_Lable, feature_type, n_est, depth, lr, precision, recall, round((Y_pred==Y_test[Lable]).sum() / len(Y_pred),3)])\r\n",
    "\r\n",
    "\r\n",
    "\r\n",
    "#classes = ['IE' , 'NS', 'FT', 'PJ']\r\n",
    "classes = ['IE']#Only IE was calculated due to expensive computation\r\n",
    "gb_result = []\r\n",
    "\r\n",
    "Y_train = pd.read_pickle('Y_train.pkl')\r\n",
    "Y_test = pd.read_pickle('Y_test.pkl')\r\n",
    "\r\n",
    "\r\n",
    "\r\n",
    "#for feature_type in ['TFIDF', 'CountVectorizer']:\r\n",
    "for feature_type in ['TFIDF']:\r\n",
    "    if feature_type == 'TFIDF':\r\n",
    "        X_test_set = np.load('X_test_tfidf.npy')\r\n",
    "        X_train_set = np.load('X_train_tfidf.npy')\r\n",
    "    elif feature_type == 'CountVectorizer':\r\n",
    "        X_test_set = np.load('X_test_count.npy')\r\n",
    "        X_train_set = np.load('X_train_count.npy')\r\n",
    "    #elif feature_type == 'N-gram':\r\n",
    "        #X_test_set = np.load('X_test_ngram.npy')\r\n",
    "        #X_train_set = np.load('X_train_ngram.npy')\r\n",
    "        #print()\r\n",
    "    for item in classes:\r\n",
    "        for n_est in [50, 100, 150]:\r\n",
    "            for depth in [3, 7, 11, 15]:\r\n",
    "                for lr in [0.01, 0.10, 1.00]:\r\n",
    "                    gb_result.append(GBoosting_GridSearch(Lable = item, n_est=n_est, depth=depth, lr = lr, feature_type=feature_type))\r\n",
    "                    pd.DataFrame(gb_result, columns= ['Type', 'Method', 'Estimators', 'Max_Depth', 'Learning_Rate','Precision', 'Recall', 'Accuracy']).to_csv('GB_Holdout_Result-IE2.csv')\r\n",
    "\r\n",
    "pd.DataFrame(gb_result, columns= ['Type', 'Method', 'Estimators', 'Max_Depth', 'Learning_Rate','Precision', 'Recall', 'Accuracy']).to_csv('GB_Holdout_Result-IE2.csv')\r\n"
   ],
   "outputs": [],
   "metadata": {
    "tags": [
     "outputPrepend"
    ]
   }
  },
  {
   "cell_type": "markdown",
   "source": [
    "#### **Note:** The above function calculation needs a lot of time. The Parameter tunning was calculated for TFIDF and only for IE type:"
   ],
   "metadata": {}
  },
  {
   "cell_type": "code",
   "execution_count": 16,
   "source": [
    "from tabulate import tabulate\r\n",
    "\r\n",
    "df = pd.read_csv('GB_Holdout_Result.csv')\r\n",
    "print(df[df['Type'] == 'Introverts'].sort_values(['Accuracy', 'Type'], ascending = False).head(1).to_markdown(), '\\n')\r\n",
    "#print(df[df['Method'] == 'CountVectorizer'].sort_values(['Accuracy', 'Type'], ascending = False).groupby(['Type']).head(1).to_markdown())"
   ],
   "outputs": [
    {
     "output_type": "stream",
     "name": "stdout",
     "text": [
      "|    |   Column1 | Type       | Method   |   Estimators |   Max_Depth |   Learning_Rate |   Precision |   Recall |   Accuracy |\n",
      "|---:|----------:|:-----------|:---------|-------------:|------------:|----------------:|------------:|---------:|-----------:|\n",
      "| 11 |        13 | Introverts | TFIDF    |          100 |           3 |             0.1 |    0.814406 | 0.960949 |      0.806 | \n",
      "\n"
     ]
    }
   ],
   "metadata": {}
  },
  {
   "cell_type": "code",
   "execution_count": 20,
   "source": [
    "import seaborn as sns\r\n",
    "from pandas import DataFrame\r\n",
    "\r\n",
    "df = pd.read_csv('GB_Holdout_Result.csv')\r\n",
    "\r\n",
    "sns.lmplot(x='Estimators', y='Accuracy', data=df, hue='Type', fit_reg=False, aspect=1.2, height = 5, scatter_kws={\"s\": 100}, col = 'Type')\r\n",
    "sns.lmplot(x='Max_Depth', y='Accuracy', data=df, hue='Type', fit_reg=False, aspect=1.2, height = 5, scatter_kws={\"s\": 100}, col = 'Type')\r\n",
    "sns.lmplot(x='Learning_Rate', y='Accuracy', data=df, hue='Type', fit_reg=False, aspect=1.2, height = 5, scatter_kws={\"s\": 100}, col = 'Type')"
   ],
   "outputs": [
    {
     "output_type": "execute_result",
     "data": {
      "text/plain": [
       "<seaborn.axisgrid.FacetGrid at 0x1e3a062b910>"
      ]
     },
     "metadata": {},
     "execution_count": 20
    },
    {
     "output_type": "display_data",
     "data": {
      "text/plain": [
       "<Figure size 864x360 with 2 Axes>"
      ],
      "image/png": "[encoded data removed]"
     },
     "metadata": {
      "needs_background": "light"
     }
    },
    {
     "output_type": "display_data",
     "data": {
      "text/plain": [
       "<Figure size 864x360 with 2 Axes>"
      ],
      "image/png": "[encoded data removed]"
     },
     "metadata": {
      "needs_background": "light"
     }
    },
    {
     "output_type": "display_data",
     "data": {
      "text/plain": [
       "<Figure size 864x360 with 2 Axes>"
      ],
      "image/png": "[encoded data removed]"
     },
     "metadata": {
      "needs_background": "light"
     }
    }
   ],
   "metadata": {}
  },
  {
   "cell_type": "markdown",
   "source": [
    "### 5-2-2: Evaluation Gradient Boosting Model"
   ],
   "metadata": {}
  },
  {
   "cell_type": "code",
   "execution_count": 9,
   "source": [
    "from sklearn.ensemble import GradientBoostingClassifier\r\n",
    "from sklearn.model_selection import GridSearchCV\r\n",
    "import pandas as pd\r\n",
    "import numpy as np\r\n",
    "\r\n",
    "pd.set_option('display.max_colwidth', 500)\r\n",
    "\r\n",
    "\r\n",
    "def GB_Evaluation(param, Lable, is_print = True):\r\n",
    "    gb = GradientBoostingClassifier()\r\n",
    "    gs = GridSearchCV(gb, param, cv=5)#cv=5 meand 5 folde validation\r\n",
    "    gs_fit = gs.fit(X_train_set, Y_train[Lable])\r\n",
    "\r\n",
    "    if is_print:\r\n",
    "        print(pd.DataFrame(gs_fit.cv_results_).sort_values('mean_test_score', ascending = False)[['param_max_depth', \r\n",
    "        'param_n_estimators', 'param_learning_rate','std_test_score', 'mean_test_score', 'rank_test_score']][0:5])\r\n",
    "\r\n",
    "    return(pd.DataFrame(gs_fit.cv_results_))\r\n",
    "  \r\n",
    "param = {'n_estimators' : [100],\r\n",
    "                'max_depth' : [3],\r\n",
    "                'learning_rate' : [0.1]}\r\n",
    "\r\n",
    "classes = ['IE' , 'NS', 'FT', 'PJ']\r\n",
    "Y_train = pd.read_pickle('Y_train.pkl')\r\n",
    "gb_parm_result = []\r\n",
    "\r\n",
    "\r\n",
    "for feature_type in ['TFIDF']::#Only using TFID based on the result from previous steps\r\n",
    "    #if feature_type == 'TFIDF':\r\n",
    "    X_train_set = np.load('X_train_tfidf.npy')\r\n",
    "    #elif feature_type == 'CountVectorizer':\r\n",
    "    #    X_train_set = np.load('X_train_count.npy')\r\n",
    "    #elif feature_type == 'N-gram':\r\n",
    "        #X_train_set = np.load('X_train_ngram.npy')\r\n",
    "    for item in classes:\r\n",
    "        temp_DF = GB_Evaluation(param, Lable = item, is_print = False)\r\n",
    "        temp_DF.insert(0, 'Feature', feature_type)\r\n",
    "        temp_DF.insert(1, 'Class', item)\r\n",
    "        gb_parm_result.append(temp_DF)\r\n",
    "        pd.concat(gb_parm_result).to_csv('GB_Parm_Result.csv')\r\n",
    "\r\n",
    "pd.concat(gb_parm_result).to_csv('GB_Parm_Result.csv')"
   ],
   "outputs": [],
   "metadata": {}
  },
  {
   "cell_type": "code",
   "execution_count": 14,
   "source": [
    "df = pd.read_csv('GB_Parm_Result.csv')\r\n",
    "print(df[['Feature', 'Class', 'param_max_depth', 'param_n_estimators', 'param_learning_rate', 'mean_test_score', 'rank_test_score']]\r\n",
    "    .sort_values(['rank_test_score'], ascending = True)\r\n",
    "    .groupby(['Class']).head(1).to_markdown(), '\\n')"
   ],
   "outputs": [
    {
     "output_type": "stream",
     "name": "stdout",
     "text": [
      "|    | Feature   | Class   |   param_max_depth |   param_n_estimators |   param_learning_rate |   mean_test_score |   rank_test_score |\n",
      "|---:|:----------|:--------|------------------:|---------------------:|----------------------:|------------------:|------------------:|\n",
      "|  0 | TFIDF     | IE      |                 3 |                  100 |                   0.1 |          0.774207 |                 1 |\n",
      "|  1 | TFIDF     | NS      |                 3 |                  100 |                   0.1 |          0.863689 |                 1 |\n",
      "|  2 | TFIDF     | FT      |                 3 |                  100 |                   0.1 |          0.630403 |                 1 |\n",
      "|  3 | TFIDF     | PJ      |                 3 |                  100 |                   0.1 |          0.590202 |                 1 | \n",
      "\n"
     ]
    }
   ],
   "metadata": {}
  },
  {
   "cell_type": "markdown",
   "source": [
    "## Final evaluation of models"
   ],
   "metadata": {}
  },
  {
   "cell_type": "code",
   "execution_count": 24,
   "source": [
    "import pandas as pd\r\n",
    "import numpy as np\r\n",
    "from sklearn.ensemble import RandomForestClassifier\r\n",
    "from sklearn.metrics import precision_recall_fscore_support as score\r\n",
    "import time\r\n",
    "import math\r\n",
    "\r\n",
    "Y_train = pd.read_pickle('Y_train.pkl')\r\n",
    "Y_test = pd.read_pickle('Y_test.pkl')\r\n",
    "X_train_tfidf = np.load('X_train_tfidf.npy')\r\n",
    "X_test_tfidf = np.load('X_test_tfidf.npy')\r\n",
    "\r\n",
    "df = pd.read_csv('RF_Parm_Result.csv')\r\n",
    "df = df.sort_values(['rank_test_score'], ascending = True).groupby(['Class']).head(1)\r\n",
    "\r\n",
    "def RF_Final_Eval(item):\r\n",
    "    if item['Class'] == 'IE':\r\n",
    "        Lable, s_Lable, predict_Lable = 'IE', 'I', 'Introverts'\r\n",
    " \r\n",
    "    elif item['Class'] == 'NS':\r\n",
    "        Lable, s_Lable, predict_Lable = 'NS', 'N', 'Intuitives'\r\n",
    "\r\n",
    "    elif item['Class'] == 'FT':\r\n",
    "        Lable, s_Lable, predict_Lable = 'FT','F', 'Feelers'\r\n",
    "\r\n",
    "    elif item['Class'] == 'PJ':\r\n",
    "        Lable, s_Lable, predict_Lable = 'PJ','P', 'Perceivers'\r\n",
    "    \r\n",
    "    if math.isnan(item['param_max_depth']):\r\n",
    "        item['param_max_depth'] = None\r\n",
    "\r\n",
    "    rf = RandomForestClassifier(n_estimators=item['param_n_estimators'], max_depth=item['param_max_depth'], n_jobs=-1)\r\n",
    "\r\n",
    "    start = time.time()\r\n",
    "    rf_model = rf.fit(X_train_tfidf, Y_train[Lable])\r\n",
    "    end = time.time()\r\n",
    "    fit_time = (end - start)\r\n",
    "\r\n",
    "    start = time.time()\r\n",
    "    Y_pred = rf_model.predict(X_test_tfidf)\r\n",
    "    end = time.time()\r\n",
    "    pred_time = (end - start)\r\n",
    "\r\n",
    "    precision, recall, fscore, train_support = score(Y_test[Lable], Y_pred, pos_label=s_Lable, average='binary')\r\n",
    "\r\n",
    "    print('{} --> Fit time: {} / Predict time: {} --> Estimator {} / Max_Depth {} --> Precision: {} / Recall: {} / Accuracy: {}'.format(\r\n",
    "                                                    predict_Lable,\r\n",
    "                                                    round(fit_time, 3),\r\n",
    "                                                    round(pred_time, 3),\r\n",
    "                                                    item['param_n_estimators'],\r\n",
    "                                                    item['param_max_depth'],\r\n",
    "                                                    round(precision, 3),\r\n",
    "                                                    round(recall, 3), \r\n",
    "                                                    round((Y_pred==Y_test[Lable]).sum() / len(Y_pred),3)))\r\n",
    "\r\n",
    "\r\n",
    "for index, item in df.iterrows():\r\n",
    "    RF_Final_Eval(item)\r\n"
   ],
   "outputs": [
    {
     "output_type": "stream",
     "name": "stdout",
     "text": [
      "Introverts --> Fit time: 15.922 / Predict time: 0.686 --> Estimator 10 / Max_Depth 30.0 --> Precision: 0.755 / Recall: 0.997 / Accuracy: 0.754\n",
      "Feelers --> Fit time: 293.472 / Predict time: 1.353 --> Estimator 500 / Max_Depth None --> Precision: 0.731 / Recall: 0.896 / Accuracy: 0.761\n",
      "Perceivers --> Fit time: 90.712 / Predict time: 1.005 --> Estimator 100 / Max_Depth None --> Precision: 0.644 / Recall: 0.964 / Accuracy: 0.646\n",
      "Intuitives --> Fit time: 38.441 / Predict time: 0.698 --> Estimator 10 / Max_Depth None --> Precision: 0.856 / Recall: 0.999 / Accuracy: 0.855\n"
     ]
    }
   ],
   "metadata": {}
  },
  {
   "cell_type": "code",
   "execution_count": 8,
   "source": [
    "from sklearn.ensemble import GradientBoostingClassifier\r\n",
    "from sklearn.metrics import precision_recall_fscore_support as score\r\n",
    "import time\r\n",
    "import pandas as pd\r\n",
    "import numpy as np\r\n",
    "import math\r\n",
    "\r\n",
    "classes = ['IE' , 'NS', 'FT', 'PJ']\r\n",
    "Y_train = pd.read_pickle('Y_train.pkl')\r\n",
    "Y_test = pd.read_pickle('Y_test.pkl')\r\n",
    "X_train_tfidf = np.load('X_train_tfidf.npy')\r\n",
    "X_test_tfidf = np.load('X_test_tfidf.npy')\r\n",
    "\r\n",
    "df = pd.read_csv('GB_Parm_Result.csv')\r\n",
    "df = df.sort_values(['rank_test_score'], ascending = True).groupby(['Class']).head(1)\r\n",
    "\r\n",
    "def GB_Final_Eval(item):\r\n",
    "    if item['Class'] == 'IE':\r\n",
    "        Lable, s_Lable, predict_Lable = 'IE', 'I', 'Introverts'\r\n",
    " \r\n",
    "    elif item['Class'] == 'NS':\r\n",
    "        Lable, s_Lable, predict_Lable = 'NS', 'N', 'Intuitives'\r\n",
    "\r\n",
    "    elif item['Class'] == 'FT':\r\n",
    "        Lable, s_Lable, predict_Lable = 'FT','F', 'Feelers'\r\n",
    "\r\n",
    "    elif item['Class'] == 'PJ':\r\n",
    "        Lable, s_Lable, predict_Lable = 'PJ','P', 'Perceivers'\r\n",
    "    \r\n",
    "    if math.isnan(item['param_max_depth']):\r\n",
    "        item['param_max_depth'] = None\r\n",
    "\r\n",
    "    gb = GradientBoostingClassifier(n_estimators=item['param_n_estimators'], max_depth=item['param_max_depth'], learning_rate=item['param_learning_rate'])\r\n",
    "\r\n",
    "    start = time.time()\r\n",
    "    gb_model = gb.fit(X_train_tfidf,Y_train[Lable])\r\n",
    "    end = time.time()\r\n",
    "    fit_time = (end - start)\r\n",
    "\r\n",
    "    start = time.time()\r\n",
    "    Y_pred = gb_model.predict(X_test_tfidf)\r\n",
    "    end = time.time()\r\n",
    "    pred_time = (end - start)\r\n",
    "\r\n",
    "\r\n",
    "    precision, recall, fscore, train_support = score(Y_test[Lable], Y_pred, pos_label=s_Lable, average='binary')\r\n",
    "\r\n",
    "    print('{} --> Fit time: {} / Predict time: {} --> Estimator {} / Max_Depth {} Learning_Rate {} --> Precision: {} / Recall: {} / Accuracy: {}'.format(\r\n",
    "                                                    predict_Lable,\r\n",
    "                                                    round(fit_time, 3),\r\n",
    "                                                    round(pred_time, 3),\r\n",
    "                                                    item['param_n_estimators'],\r\n",
    "                                                    item['param_max_depth'],\r\n",
    "                                                    item['param_learning_rate'],\r\n",
    "                                                    round(precision, 3),\r\n",
    "                                                    round(recall, 3), \r\n",
    "                                                    round((Y_pred==Y_test[Lable]).sum() / len(Y_pred),3)))\r\n",
    "    \r\n",
    "for index, item in df.iterrows():\r\n",
    "    GB_Final_Eval(item)\r\n",
    "                                                        "
   ],
   "outputs": [
    {
     "output_type": "stream",
     "name": "stdout",
     "text": [
      "Introverts --> Fit time: 9622.716 / Predict time: 1.512 --> Estimator 100 / Max_Depth 3 Learning_Rate 0.1 --> Precision: 0.811 / Recall: 0.963 / Accuracy: 0.803\n",
      "Intuitives --> Fit time: 9203.561 / Predict time: 1.477 --> Estimator 100 / Max_Depth 3 Learning_Rate 0.1 --> Precision: 0.879 / Recall: 0.987 / Accuracy: 0.872\n",
      "Feelers --> Fit time: 8404.493 / Predict time: 1.491 --> Estimator 100 / Max_Depth 3 Learning_Rate 0.1 --> Precision: 0.802 / Recall: 0.796 / Accuracy: 0.779\n",
      "Perceivers --> Fit time: 8788.094 / Predict time: 1.502 --> Estimator 100 / Max_Depth 3 Learning_Rate 0.1 --> Precision: 0.752 / Recall: 0.903 / Accuracy: 0.754\n"
     ]
    }
   ],
   "metadata": {}
  },
  {
   "cell_type": "markdown",
   "source": [
    "Results for each model and type without adding any new features from step 4 to our model.\r\n",
    "\r\n",
    "| Model             | Type         | Fit_Time | Predict_Time | Percision | Recall | Accuracy |\r\n",
    "|-------------------|--------------|----------|--------------|-----------|--------|----------|\r\n",
    "| decision_tree     | Introversion | 15.922   | 0.686        | 0.755     | 0.997  | 0.754    |\r\n",
    "| gradient_boosting | Introversion | 9622.716 | 1.512        | 0.811     | 0.963  | 0.803    |\r\n",
    "| decision_tree     | Feeling      | 293.472  | 1.353        | 0.731     | 0.896  | 0.761    |\r\n",
    "| gradient_boosting | Feeling      | 8404.493 | 1.491        | 0.802     | 0.796  | 0.779    |\r\n",
    "| decision_tree     | Intuition    | 38.441   | 0.698        | 0.856     | 0.999  | 0.855    |\r\n",
    "| gradient_boosting | Intuition    | 9203.561 | 1.477        | 0.879     | 0.987  | 0.872    |\r\n",
    "| decision_tree     | Perceiving   | 90.712   | 1.005        | 0.644     | 0.964  | 0.646    |\r\n",
    "| gradient_boosting | Perceiving   | 8788.094 | 1.502        | 0.752     | 0.903  | 0.754    |\r\n",
    "\r\n",
    "\r\n",
    "\r\n",
    "GBoosting has a higher accuracy and significantly higher fitting time, whereas Decision Tree fitting time is lower.  Predicting time for GBoosting is slightly higher, but not significantly different."
   ],
   "metadata": {}
  }
 ],
 "metadata": {
  "interpreter": {
   "hash": "b3ba2566441a7c06988d0923437866b63cedc61552a5af99d1f4fb67d367b25f"
  },
  "kernelspec": {
   "display_name": "Python 3.8.5 64-bit ('base': conda)",
   "name": "python3"
  },
  "language_info": {
   "name": "python",
   "version": ""
  },
  "metadata": {
   "interpreter": {
    "hash": "6bd3622f6f3f8bb6e8b4643a72dc4bf7a75a1467dea0f2ef918aabb1c737dfb1"
   }
  },
  "orig_nbformat": 2
 },
 "nbformat": 4,
 "nbformat_minor": 2
}