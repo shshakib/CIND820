{
 "cells": [
  {
   "cell_type": "markdown",
   "source": [
    "# Setep 5: Machine Learning Model\r\n",
    "\r\n",
    "<br>\r\n",
    "In this step our Machine learning model will be created and its performance and accuracy will be evaluated using different parameters. Random Forest and Gradient-boosting were chosen to be used in the project"
   ],
   "metadata": {}
  },
  {
   "cell_type": "code",
   "execution_count": 19,
   "source": [
    "#Load Lemmatized Dataset from prevous steps\r\n",
    "import pandas as pd\r\n",
    "\r\n",
    "pd.set_option('display.max_rows', None, 'display.max_colwidth', 50)\r\n",
    "\r\n",
    "fields = ['IE', 'NS', 'FT', 'PJ', 'Posts','Posts_Lemmatized', 'No_Words-Capital', 'No_WordsInQuotes', 'Avg_WordLength', 'UniqueWrd_vs_NoWrd', 'Sentiment_Score']\r\n",
    "\r\n",
    "mbti_Dataset = pd.read_pickle('mbti_FE.pkl')\r\n",
    "mbti_Dataset = mbti_Dataset.filter(fields)\r\n",
    "mbti_Dataset.head()"
   ],
   "outputs": [
    {
     "output_type": "execute_result",
     "data": {
      "text/plain": [
       "  IE NS FT PJ                                              Posts  \\\n",
       "0  I  N  F  J  'http://www.youtube.com/watch?v=qsXHcwe3krw|||...   \n",
       "1  E  N  T  P  'I'm finding the lack of me in these posts ver...   \n",
       "2  I  N  T  P  'Good one  _____   https://www.youtube.com/wat...   \n",
       "3  I  N  T  J  'Dear INTP,   I enjoyed our conversation the o...   \n",
       "4  E  N  T  J  'You're fired.|||That's another silly misconce...   \n",
       "\n",
       "                                    Posts_Lemmatized  No_Words-Capital  \\\n",
       "0  [, moment, sportscenter, top, ten, play, prank...               0.0   \n",
       "1  [finding, lack, post, alarming, sex, boring, p...               1.0   \n",
       "2  [good, one, course, say, know, blessing, curse...               2.0   \n",
       "3  [dear, enjoyed, conversation, day, esoteric, g...               3.0   \n",
       "4  [fired, another, silly, misconception, approac...               5.0   \n",
       "\n",
       "   No_WordsInQuotes  Avg_WordLength  UniqueWrd_vs_NoWrd  Sentiment_Score  \n",
       "0               9.0        5.036496            0.647810           0.9805  \n",
       "1              26.0        4.494854            0.467410           0.9993  \n",
       "2              15.0        5.003601            0.555822           0.9983  \n",
       "3              28.0        4.774953            0.487759           0.9974  \n",
       "4              14.0        4.888083            0.518135           0.9396  "
      ],
      "text/html": [
       "<div>\n",
       "<style scoped>\n",
       "    .dataframe tbody tr th:only-of-type {\n",
       "        vertical-align: middle;\n",
       "    }\n",
       "\n",
       "    .dataframe tbody tr th {\n",
       "        vertical-align: top;\n",
       "    }\n",
       "\n",
       "    .dataframe thead th {\n",
       "        text-align: right;\n",
       "    }\n",
       "</style>\n",
       "<table border=\"1\" class=\"dataframe\">\n",
       "  <thead>\n",
       "    <tr style=\"text-align: right;\">\n",
       "      <th></th>\n",
       "      <th>IE</th>\n",
       "      <th>NS</th>\n",
       "      <th>FT</th>\n",
       "      <th>PJ</th>\n",
       "      <th>Posts</th>\n",
       "      <th>Posts_Lemmatized</th>\n",
       "      <th>No_Words-Capital</th>\n",
       "      <th>No_WordsInQuotes</th>\n",
       "      <th>Avg_WordLength</th>\n",
       "      <th>UniqueWrd_vs_NoWrd</th>\n",
       "      <th>Sentiment_Score</th>\n",
       "    </tr>\n",
       "  </thead>\n",
       "  <tbody>\n",
       "    <tr>\n",
       "      <th>0</th>\n",
       "      <td>I</td>\n",
       "      <td>N</td>\n",
       "      <td>F</td>\n",
       "      <td>J</td>\n",
       "      <td>'http://www.youtube.com/watch?v=qsXHcwe3krw|||...</td>\n",
       "      <td>[, moment, sportscenter, top, ten, play, prank...</td>\n",
       "      <td>0.0</td>\n",
       "      <td>9.0</td>\n",
       "      <td>5.036496</td>\n",
       "      <td>0.647810</td>\n",
       "      <td>0.9805</td>\n",
       "    </tr>\n",
       "    <tr>\n",
       "      <th>1</th>\n",
       "      <td>E</td>\n",
       "      <td>N</td>\n",
       "      <td>T</td>\n",
       "      <td>P</td>\n",
       "      <td>'I'm finding the lack of me in these posts ver...</td>\n",
       "      <td>[finding, lack, post, alarming, sex, boring, p...</td>\n",
       "      <td>1.0</td>\n",
       "      <td>26.0</td>\n",
       "      <td>4.494854</td>\n",
       "      <td>0.467410</td>\n",
       "      <td>0.9993</td>\n",
       "    </tr>\n",
       "    <tr>\n",
       "      <th>2</th>\n",
       "      <td>I</td>\n",
       "      <td>N</td>\n",
       "      <td>T</td>\n",
       "      <td>P</td>\n",
       "      <td>'Good one  _____   https://www.youtube.com/wat...</td>\n",
       "      <td>[good, one, course, say, know, blessing, curse...</td>\n",
       "      <td>2.0</td>\n",
       "      <td>15.0</td>\n",
       "      <td>5.003601</td>\n",
       "      <td>0.555822</td>\n",
       "      <td>0.9983</td>\n",
       "    </tr>\n",
       "    <tr>\n",
       "      <th>3</th>\n",
       "      <td>I</td>\n",
       "      <td>N</td>\n",
       "      <td>T</td>\n",
       "      <td>J</td>\n",
       "      <td>'Dear INTP,   I enjoyed our conversation the o...</td>\n",
       "      <td>[dear, enjoyed, conversation, day, esoteric, g...</td>\n",
       "      <td>3.0</td>\n",
       "      <td>28.0</td>\n",
       "      <td>4.774953</td>\n",
       "      <td>0.487759</td>\n",
       "      <td>0.9974</td>\n",
       "    </tr>\n",
       "    <tr>\n",
       "      <th>4</th>\n",
       "      <td>E</td>\n",
       "      <td>N</td>\n",
       "      <td>T</td>\n",
       "      <td>J</td>\n",
       "      <td>'You're fired.|||That's another silly misconce...</td>\n",
       "      <td>[fired, another, silly, misconception, approac...</td>\n",
       "      <td>5.0</td>\n",
       "      <td>14.0</td>\n",
       "      <td>4.888083</td>\n",
       "      <td>0.518135</td>\n",
       "      <td>0.9396</td>\n",
       "    </tr>\n",
       "  </tbody>\n",
       "</table>\n",
       "</div>"
      ]
     },
     "metadata": {},
     "execution_count": 19
    }
   ],
   "metadata": {}
  },
  {
   "cell_type": "markdown",
   "source": [
    "## 5-1: Split our data into training and test\r\n",
    "\r\n",
    "In this part we are splitting our Dataset into Training and Test dataset. Test size is 20%."
   ],
   "metadata": {}
  },
  {
   "cell_type": "code",
   "execution_count": 20,
   "source": [
    "from sklearn.model_selection import train_test_split\r\n",
    "\r\n",
    "fields = ['Posts_Lemmatized', 'No_Words-Capital', 'No_WordsInQuotes', 'Avg_WordLength', 'UniqueWrd_vs_NoWrd', 'Sentiment_Score']\r\n",
    "X_train, X_test, Y_train, Y_test = train_test_split(mbti_Dataset[fields], mbti_Dataset[['IE' , 'NS', 'FT', 'PJ']], random_state=42, test_size=0.2)#20% of dataset is test set    \r\n",
    "\r\n",
    "#Save Training and Test dataset in Picklet format.\r\n",
    "X_train.to_pickle('X_train_fe.pkl')\r\n",
    "X_test.to_pickle('X_test_fe.pkl')\r\n",
    "Y_train.to_pickle('Y_train_fe.pkl')\r\n",
    "Y_test.to_pickle('Y_test_fe.pkl')"
   ],
   "outputs": [],
   "metadata": {}
  },
  {
   "cell_type": "markdown",
   "source": [
    "Now training and test dataset will be converted to TFIDF, CountVectorizer and N-Grams(Same approad as step3 was used here). The result will be saved so it can be used in later steps. "
   ],
   "metadata": {}
  },
  {
   "cell_type": "code",
   "execution_count": 2,
   "source": [
    "#Converting data to TFIDF and CountVectorizer. The result will be saved so it can be used in later steps. \r\n",
    "import nltk\r\n",
    "from sklearn.feature_extraction.text import TfidfVectorizer\r\n",
    "from sklearn.feature_extraction.text import CountVectorizer\r\n",
    "import numpy as np\r\n",
    "from scipy import sparse\r\n",
    "import pandas as pd\r\n",
    "\r\n",
    "\r\n",
    "fields = ['No_Words-Capital', 'No_WordsInQuotes', 'Avg_WordLength', 'UniqueWrd_vs_NoWrd', 'Sentiment_Score']\r\n",
    "\r\n",
    "def lemmatizing(text):\r\n",
    "    \"\"\"Lemmatizing the input text using WordNet and NLTK package\"\"\"\r\n",
    "    NLTK_WNL = nltk.WordNetLemmatizer()\r\n",
    "    text_Lem = [NLTK_WNL.lemmatize(word) for word in text]\r\n",
    "    return(text_Lem)\r\n",
    "\r\n",
    "\r\n",
    "def clean_and_load():\r\n",
    "    \"\"\"Delete all variables inside memory and load training and test dataset\"\"\"\r\n",
    "    for name in dir():\r\n",
    "        if not name.startswith('_'):\r\n",
    "            del globals()[name]\r\n",
    "    global X_train, X_test, Y_train, Y_test\r\n",
    "    X_train = pd.read_pickle('X_train_fe.pkl')\r\n",
    "    X_test = pd.read_pickle('X_test_fe.pkl')\r\n",
    "    Y_train = pd.read_pickle('Y_train_fe.pkl')\r\n",
    "    Y_test = pd.read_pickle('Y_test_fe.pkl')\r\n",
    "\r\n",
    "\r\n",
    "##TFIDF\r\n",
    "clean_and_load()\r\n",
    "tfidf_vect = TfidfVectorizer(analyzer=lemmatizing)\r\n",
    "tfidf_vect_fit = tfidf_vect.fit(X_train['Posts_Lemmatized'])\r\n",
    "\r\n",
    "tfidf_train = tfidf_vect_fit.transform(X_train['Posts_Lemmatized'])\r\n",
    "tfidf_test = tfidf_vect_fit.transform(X_test['Posts_Lemmatized'])\r\n",
    "\r\n",
    "\r\n",
    "X_train_vec = pd.concat([X_train[fields].reset_index(drop=True),\r\n",
    "                        pd.DataFrame(tfidf_train.toarray())], axis = 1)\r\n",
    "X_train_vec.to_pickle('X_train_tfidf_fe.pkl')#Saving results\r\n",
    "\r\n",
    "X_test_vec = pd.concat([X_test[fields].reset_index(drop=True),\r\n",
    "                        pd.DataFrame(tfidf_test.toarray())], axis = 1)\r\n",
    "X_test_vec.to_pickle('X_test_tfidf_fe.pkl')#Saving results\r\n",
    "\r\n",
    "\r\n",
    "#CountVectorizer\r\n",
    "clean_and_load()\r\n",
    "count_vect = CountVectorizer(analyzer=lemmatizing)\r\n",
    "count_vect_fit = count_vect.fit(X_train['Posts_Lemmatized'])\r\n",
    "\r\n",
    "count_train = count_vect_fit.transform(X_train['Posts_Lemmatized'])\r\n",
    "count_test = count_vect_fit.transform(X_test['Posts_Lemmatized'])\r\n",
    "\r\n",
    "X_train_count = pd.concat([X_train[fields].reset_index(drop=True),\r\n",
    "                  pd.DataFrame(count_train.toarray())], axis = 1)\r\n",
    "X_train_count.to_pickle('X_train_count_fe.pkl')#Saving results\r\n",
    "\r\n",
    "X_test_count = pd.concat([X_test[fields].reset_index(drop=True),\r\n",
    "                  pd.DataFrame(count_test.toarray())], axis = 1)\r\n",
    "X_test_count.to_pickle('X_test_count_fe.pkl')#Saving results\r\n"
   ],
   "outputs": [],
   "metadata": {}
  },
  {
   "cell_type": "markdown",
   "source": [
    "## 5-1: Random Forest Model\r\n",
    "### 5-1-1: Explorering Random Forest with Holdout test set + grid-search\r\n",
    "In this step, various parameters are being used on our train dataset to find the best parameter for our Random Forest model. (Number of estimator, Maximum depth)"
   ],
   "metadata": {}
  },
  {
   "cell_type": "code",
   "execution_count": null,
   "source": [
    "from sklearn.metrics import precision_recall_fscore_support as score\r\n",
    "from sklearn.ensemble import RandomForestClassifier\r\n",
    "import pandas as pd\r\n",
    "import numpy as np\r\n",
    "\r\n",
    "pd.set_option('display.max_rows', None, 'display.max_colwidth', 500)\r\n",
    "\r\n",
    "\r\n",
    "def rfClassifier_GridSearch(X_test_set, X_train_set, Lable, n_est, depth, feature_type, is_print = True):\r\n",
    "    \"\"\"This function will get number of estimators and depth as input return  Precision, recall and Accuracy for a given dataset and lable\"\"\"\r\n",
    "    if Lable == 'IE':\r\n",
    "        s_Lable = 'I'\r\n",
    "        predict_Lable = 'Introverts'\r\n",
    "    elif Lable == 'NS':\r\n",
    "        s_Lable = 'N'\r\n",
    "        predict_Lable = 'Intuitives'\r\n",
    "    elif Lable == 'FT':\r\n",
    "        s_Lable = 'F'\r\n",
    "        predict_Lable = 'Feelers'\r\n",
    "    elif Lable == 'PJ':\r\n",
    "        s_Lable = 'P'\r\n",
    "        predict_Lable = 'Perceivers'\r\n",
    "\r\n",
    "    rf = RandomForestClassifier(n_estimators=n_est, max_depth=depth ,n_jobs=-1)\r\n",
    "    rf_model = rf.fit(X_train_set, Y_train[Lable])\r\n",
    "    Y_pred = rf_model.predict(X_test_set)\r\n",
    "\r\n",
    "    precision, recall, fscore, support = score(Y_test[Lable], Y_pred, pos_label=s_Lable, average='binary')\r\n",
    "    if is_print:\r\n",
    "        print('Being ' + predict_Lable + ' using ' + feature_type + ':'  ,\r\n",
    "        'Estimators: {} / Max_Depth: {} --> Precision: {} / Recall: {} / Accuracy: {}'.format(\r\n",
    "                                                        n_est,\r\n",
    "                                                        depth,\r\n",
    "                                                        round(precision, 3),\r\n",
    "                                                        round(recall, 3), \r\n",
    "                                                        round((Y_pred==Y_test[Lable]).sum() / len(Y_pred),3)))\r\n",
    "    return([predict_Lable, feature_type, n_est, depth, precision, recall, round((Y_pred==Y_test[Lable]).sum() / len(Y_pred),3)])\r\n",
    "\r\n",
    "\r\n",
    "classes = ['IE' , 'NS', 'FT', 'PJ']\r\n",
    "rf_result = []\r\n",
    "\r\n",
    "Y_train = pd.read_pickle('Y_train_fe.pkl')\r\n",
    "Y_test = pd.read_pickle('Y_test_fe.pkl')\r\n",
    "\r\n",
    "#Nested loop to check different values on different features/classes to find the best parameters\r\n",
    "for feature_type in ['TFIDF', 'CountVectorizer']:\r\n",
    "    if feature_type == 'TFIDF':\r\n",
    "        X_test_set = pd.read_pickle('X_test_tfidf_fe.pkl')\r\n",
    "        X_train_set = pd.read_pickle('X_train_tfidf_fe.pkl')\r\n",
    "    elif feature_type == 'CountVectorizer':\r\n",
    "        X_test_set = pd.read_pickle('X_test_count_fe.pkl')\r\n",
    "        X_train_set = pd.read_pickle('X_train_count_fe.pkl')\r\n",
    "    for item in classes:\r\n",
    "        for n_est in [10, 50, 100, 200, 500]:\r\n",
    "            for depth in [5, 10, 20, 30, None]:\r\n",
    "                rf_result.append(rfClassifier_GridSearch(X_test_set = X_test_set, X_train_set = X_train_set, Lable = item, n_est=n_est, depth=depth, feature_type=feature_type,is_print = False))\r\n",
    "                pd.DataFrame(rf_result, columns= ['Type', 'Method', 'Estimators', 'Max_Depth', 'Precision', 'Recall', 'Accuracy']).to_csv('RF_Holdout_Result_fe.csv')"
   ],
   "outputs": [],
   "metadata": {}
  },
  {
   "cell_type": "code",
   "execution_count": 5,
   "source": [
    "pd.DataFrame(rf_result, columns= ['Type', 'Method', 'Estimators', 'Max_Depth', 'Precision', 'Recall', 'Accuracy']).sort_values(['Accuracy'], ascending=False).groupby(['Method', 'Type']).head(1)"
   ],
   "outputs": [
    {
     "output_type": "execute_result",
     "data": {
      "text/plain": [
       "           Type           Method  Estimators  Max_Depth  Precision    Recall  \\\n",
       "29   Intuitives            TFIDF          10        NaN   0.859204  1.000000   \n",
       "127  Intuitives  CountVectorizer          10       20.0   0.858213  1.000000   \n",
       "104  Introverts  CountVectorizer          10        NaN   0.789192  0.982262   \n",
       "9    Introverts            TFIDF          50        NaN   0.780727  1.000000   \n",
       "174     Feelers  CountVectorizer         500        NaN   0.704202  0.894344   \n",
       "74      Feelers            TFIDF         500        NaN   0.703925  0.880470   \n",
       "84   Perceivers            TFIDF          50        NaN   0.649169  0.916510   \n",
       "189  Perceivers  CountVectorizer         100        NaN   0.632149  0.984991   \n",
       "\n",
       "     Accuracy  \n",
       "29      0.859  \n",
       "127     0.858  \n",
       "104     0.782  \n",
       "9       0.781  \n",
       "174     0.740  \n",
       "74      0.735  \n",
       "84      0.644  \n",
       "189     0.639  "
      ],
      "text/html": [
       "<div>\n",
       "<style scoped>\n",
       "    .dataframe tbody tr th:only-of-type {\n",
       "        vertical-align: middle;\n",
       "    }\n",
       "\n",
       "    .dataframe tbody tr th {\n",
       "        vertical-align: top;\n",
       "    }\n",
       "\n",
       "    .dataframe thead th {\n",
       "        text-align: right;\n",
       "    }\n",
       "</style>\n",
       "<table border=\"1\" class=\"dataframe\">\n",
       "  <thead>\n",
       "    <tr style=\"text-align: right;\">\n",
       "      <th></th>\n",
       "      <th>Type</th>\n",
       "      <th>Method</th>\n",
       "      <th>Estimators</th>\n",
       "      <th>Max_Depth</th>\n",
       "      <th>Precision</th>\n",
       "      <th>Recall</th>\n",
       "      <th>Accuracy</th>\n",
       "    </tr>\n",
       "  </thead>\n",
       "  <tbody>\n",
       "    <tr>\n",
       "      <th>29</th>\n",
       "      <td>Intuitives</td>\n",
       "      <td>TFIDF</td>\n",
       "      <td>10</td>\n",
       "      <td>NaN</td>\n",
       "      <td>0.859204</td>\n",
       "      <td>1.000000</td>\n",
       "      <td>0.859</td>\n",
       "    </tr>\n",
       "    <tr>\n",
       "      <th>127</th>\n",
       "      <td>Intuitives</td>\n",
       "      <td>CountVectorizer</td>\n",
       "      <td>10</td>\n",
       "      <td>20.0</td>\n",
       "      <td>0.858213</td>\n",
       "      <td>1.000000</td>\n",
       "      <td>0.858</td>\n",
       "    </tr>\n",
       "    <tr>\n",
       "      <th>104</th>\n",
       "      <td>Introverts</td>\n",
       "      <td>CountVectorizer</td>\n",
       "      <td>10</td>\n",
       "      <td>NaN</td>\n",
       "      <td>0.789192</td>\n",
       "      <td>0.982262</td>\n",
       "      <td>0.782</td>\n",
       "    </tr>\n",
       "    <tr>\n",
       "      <th>9</th>\n",
       "      <td>Introverts</td>\n",
       "      <td>TFIDF</td>\n",
       "      <td>50</td>\n",
       "      <td>NaN</td>\n",
       "      <td>0.780727</td>\n",
       "      <td>1.000000</td>\n",
       "      <td>0.781</td>\n",
       "    </tr>\n",
       "    <tr>\n",
       "      <th>174</th>\n",
       "      <td>Feelers</td>\n",
       "      <td>CountVectorizer</td>\n",
       "      <td>500</td>\n",
       "      <td>NaN</td>\n",
       "      <td>0.704202</td>\n",
       "      <td>0.894344</td>\n",
       "      <td>0.740</td>\n",
       "    </tr>\n",
       "    <tr>\n",
       "      <th>74</th>\n",
       "      <td>Feelers</td>\n",
       "      <td>TFIDF</td>\n",
       "      <td>500</td>\n",
       "      <td>NaN</td>\n",
       "      <td>0.703925</td>\n",
       "      <td>0.880470</td>\n",
       "      <td>0.735</td>\n",
       "    </tr>\n",
       "    <tr>\n",
       "      <th>84</th>\n",
       "      <td>Perceivers</td>\n",
       "      <td>TFIDF</td>\n",
       "      <td>50</td>\n",
       "      <td>NaN</td>\n",
       "      <td>0.649169</td>\n",
       "      <td>0.916510</td>\n",
       "      <td>0.644</td>\n",
       "    </tr>\n",
       "    <tr>\n",
       "      <th>189</th>\n",
       "      <td>Perceivers</td>\n",
       "      <td>CountVectorizer</td>\n",
       "      <td>100</td>\n",
       "      <td>NaN</td>\n",
       "      <td>0.632149</td>\n",
       "      <td>0.984991</td>\n",
       "      <td>0.639</td>\n",
       "    </tr>\n",
       "  </tbody>\n",
       "</table>\n",
       "</div>"
      ]
     },
     "metadata": {},
     "execution_count": 5
    }
   ],
   "metadata": {}
  },
  {
   "cell_type": "markdown",
   "source": [
    "Checking the result to find best parameters for our Grid Search:"
   ],
   "metadata": {}
  },
  {
   "cell_type": "code",
   "execution_count": 6,
   "source": [
    "from tabulate import tabulate\r\n",
    "\r\n",
    "df = pd.read_csv('RF_Holdout_Result_fe.csv')[['Type', 'Method', 'Estimators', 'Max_Depth', 'Precision', 'Recall', 'Accuracy']]\r\n",
    "print(df[df['Method'] == 'TFIDF'].sort_values(['Accuracy', 'Type'], ascending = False).groupby(['Type']).head(1).to_markdown(), '\\n')\r\n",
    "print(df[df['Method'] == 'CountVectorizer'].sort_values(['Accuracy', 'Type'], ascending = False).groupby(['Type']).head(1).to_markdown())"
   ],
   "outputs": [
    {
     "output_type": "stream",
     "name": "stdout",
     "text": [
      "|    | Type       | Method   |   Estimators |   Max_Depth |   Precision |   Recall |   Accuracy |\n",
      "|---:|:-----------|:---------|-------------:|------------:|------------:|---------:|-----------:|\n",
      "| 29 | Intuitives | TFIDF    |           10 |         nan |    0.859204 | 1        |      0.859 |\n",
      "|  9 | Introverts | TFIDF    |           50 |         nan |    0.780727 | 1        |      0.781 |\n",
      "| 73 | Feelers    | TFIDF    |          500 |          30 |    0.701266 | 0.886873 |      0.735 |\n",
      "| 84 | Perceivers | TFIDF    |           50 |         nan |    0.649169 | 0.91651  |      0.644 | \n",
      "\n",
      "|     | Type       | Method          |   Estimators |   Max_Depth |   Precision |   Recall |   Accuracy |\n",
      "|----:|:-----------|:----------------|-------------:|------------:|------------:|---------:|-----------:|\n",
      "| 125 | Intuitives | CountVectorizer |           10 |           5 |    0.858213 | 1        |      0.858 |\n",
      "| 104 | Introverts | CountVectorizer |           10 |         nan |    0.789192 | 0.982262 |      0.782 |\n",
      "| 174 | Feelers    | CountVectorizer |          500 |         nan |    0.704202 | 0.894344 |      0.74  |\n",
      "| 189 | Perceivers | CountVectorizer |          100 |         nan |    0.632149 | 0.984991 |      0.639 |\n"
     ]
    }
   ],
   "metadata": {}
  },
  {
   "cell_type": "code",
   "execution_count": 7,
   "source": [
    "import seaborn as sns\r\n",
    "from pandas import DataFrame\r\n",
    "\r\n",
    "df = pd.read_csv('RF_Holdout_Result_fe.csv')\r\n",
    "\r\n",
    "sns.lmplot(x='Estimators', y='Accuracy', data=df, hue='Type', fit_reg=False, aspect=1.2, height = 8, scatter_kws={\"s\": 100}, col = 'Method')\r\n",
    "sns.lmplot(x='Max_Depth', y='Accuracy', data=df, hue='Type', fit_reg=False, aspect=1.2, height = 8, scatter_kws={\"s\": 100}, col = 'Method')"
   ],
   "outputs": [
    {
     "output_type": "execute_result",
     "data": {
      "text/plain": [
       "<seaborn.axisgrid.FacetGrid at 0x1b05536c340>"
      ]
     },
     "metadata": {},
     "execution_count": 7
    },
    {
     "output_type": "display_data",
     "data": {
      "text/plain": [
       "<Figure size 1469.9x576 with 2 Axes>"
      ],
      "image/png": "[encoded data removed]"
     },
     "metadata": {
      "needs_background": "light"
     }
    },
    {
     "output_type": "display_data",
     "data": {
      "text/plain": [
       "<Figure size 1469.9x576 with 2 Axes>"
      ],
      "image/png": "[encoded data removed]"
     },
     "metadata": {
      "needs_background": "light"
     }
    }
   ],
   "metadata": {}
  },
  {
   "cell_type": "markdown",
   "source": [
    "#### Based on the results , Max_Depth increases accuracy specially for Feelers and Perceivers groups. In general TFID is slightly bettrer. Therefor evaluation Random forest model using TFIDF and  Max_Depth as 5 and 30 and Non and also Number of estimators 500, 100 and 10."
   ],
   "metadata": {}
  },
  {
   "cell_type": "markdown",
   "source": [
    "### 5-1-2 : Train vectorizes on training set and use that to transform test set.\r\n",
    "\r\n",
    "5 fold validation is being used here:"
   ],
   "metadata": {}
  },
  {
   "cell_type": "code",
   "execution_count": 1,
   "source": [
    "from sklearn.ensemble import RandomForestClassifier\r\n",
    "from sklearn.model_selection import GridSearchCV\r\n",
    "import pandas as pd\r\n",
    "#from scipy import sparse\r\n",
    "import numpy as np\r\n",
    "\r\n",
    "pd.set_option('display.max_colwidth', 500)\r\n",
    "\r\n",
    "\r\n",
    "def RF_Evaluation(param, Lable, is_print = True):\r\n",
    "    rf = RandomForestClassifier()\r\n",
    "    gs = GridSearchCV(rf, param, cv=5, n_jobs = 2)#cv=5 means 5 folde validation\r\n",
    "    gs_fit = gs.fit(X_train_set, Y_train[Lable])\r\n",
    "    \r\n",
    "    if is_print:\r\n",
    "        print(pd.DataFrame(gs_fit.cv_results_).sort_values('mean_test_score', ascending = False)[['param_max_depth',\r\n",
    "        'param_n_estimators', 'std_test_score', 'mean_test_score', 'rank_test_score']][0:5])\r\n",
    "\r\n",
    "    return(pd.DataFrame(gs_fit.cv_results_))\r\n",
    "\r\n",
    "\r\n",
    "\r\n",
    "#Base on the results from previous steps\r\n",
    "param = {'n_estimators' : [10, 50, 100, 500],\r\n",
    "        'max_depth' : [5, 30, None]}\r\n",
    "\r\n",
    "classes = ['IE' , 'NS', 'FT', 'PJ']\r\n",
    "Y_train = pd.read_pickle('Y_train_fe.pkl')\r\n",
    "rf_parm_result = []\r\n",
    "\r\n",
    "\r\n",
    "for feature_type in ['CountVectorizer', 'TFIDF']:\r\n",
    "    if feature_type == 'TFIDF':\r\n",
    "        X_train_set = pd.read_pickle('X_train_tfidf_fe.pkl')\r\n",
    "    elif feature_type == 'CountVectorizer':\r\n",
    "        X_train_set = pd.read_pickle('X_train_count_fe.pkl')\r\n",
    "    for item in classes:\r\n",
    "        temp_DF = RF_Evaluation(param, Lable = item, is_print = False)\r\n",
    "        temp_DF.insert(0, 'Feature', feature_type)\r\n",
    "        temp_DF.insert(1, 'Class', item)\r\n",
    "        rf_parm_result.append(temp_DF)\r\n",
    "        pd.concat(rf_parm_result).to_csv('RF_Parm_Result_fe.csv')\r\n",
    "\r\n",
    "pd.concat(rf_parm_result).to_csv('RF_Parm_Result_fe.csv')\r\n"
   ],
   "outputs": [],
   "metadata": {}
  },
  {
   "cell_type": "code",
   "execution_count": 26,
   "source": [
    "df = pd.read_csv('RF_Parm_Result_fe.csv')\r\n",
    "df = df[df['rank_test_score'] == 1]\r\n",
    "print(df[['Feature', 'Class', 'param_max_depth', 'param_n_estimators', 'mean_test_score', 'rank_test_score']].sort_values(['mean_test_score', 'Class'], ascending = False).to_markdown(), '\\n')"
   ],
   "outputs": [
    {
     "output_type": "stream",
     "name": "stdout",
     "text": [
      "|    | Feature         | Class   |   param_max_depth |   param_n_estimators |   mean_test_score |   rank_test_score |\n",
      "|---:|:----------------|:--------|------------------:|---------------------:|------------------:|------------------:|\n",
      "| 68 | CountVectorizer | NS      |               nan |                   10 |          0.863256 |                 1 |\n",
      "| 16 | TFIDF           | NS      |                30 |                   10 |          0.863112 |                 1 |\n",
      "| 20 | TFIDF           | NS      |               nan |                   10 |          0.863112 |                 1 |\n",
      "|  4 | TFIDF           | IE      |                30 |                   10 |          0.767867 |                 1 |\n",
      "| 52 | CountVectorizer | IE      |                30 |                   10 |          0.767579 |                 1 |\n",
      "| 83 | CountVectorizer | FT      |               nan |                  500 |          0.753746 |                 1 |\n",
      "| 35 | TFIDF           | FT      |               nan |                  500 |          0.75     |                 1 |\n",
      "| 93 | CountVectorizer | PJ      |               nan |                   50 |          0.633429 |                 1 |\n",
      "| 46 | TFIDF           | PJ      |               nan |                  100 |          0.629251 |                 1 | \n",
      "\n"
     ]
    }
   ],
   "metadata": {}
  },
  {
   "cell_type": "markdown",
   "source": [
    "## 5-2: Gradient Boosting Model\r\n",
    "### 5-2-1: Gradient Boosting with Holdout test set"
   ],
   "metadata": {}
  },
  {
   "cell_type": "code",
   "execution_count": 21,
   "source": [
    "from sklearn.metrics import precision_recall_fscore_support as score\r\n",
    "from sklearn.ensemble import GradientBoostingClassifier\r\n",
    "import pandas as pd\r\n",
    "import numpy as np\r\n",
    "from datetime import datetime\r\n",
    "\r\n",
    "\r\n",
    "pd.set_option('display.max_rows', None, 'display.max_colwidth', 500)\r\n",
    "\r\n",
    "\r\n",
    "def GBoosting_GridSearch(Lable, n_est, depth, lr, feature_type, is_print = True):\r\n",
    "    if Lable == 'IE':\r\n",
    "        s_Lable = 'I'\r\n",
    "        predict_Lable = 'Introverts'\r\n",
    "    elif Lable == 'NS':\r\n",
    "        s_Lable = 'N'\r\n",
    "        predict_Lable = 'Intuitives'\r\n",
    "    elif Lable == 'FT':\r\n",
    "        s_Lable = 'F'\r\n",
    "        predict_Lable = 'Feelers'\r\n",
    "    elif Lable == 'PJ':\r\n",
    "        s_Lable = 'P'\r\n",
    "        predict_Lable = 'Perceivers'\r\n",
    "\r\n",
    "    gb = GradientBoostingClassifier(n_estimators=n_est, max_depth=depth , learning_rate=lr)\r\n",
    "    gb_model = gb.fit(X_train_set, Y_train[Lable])\r\n",
    "    Y_pred = gb_model.predict(X_test_set)\r\n",
    "\r\n",
    "    precision, recall, fscore, support = score(Y_test[Lable], Y_pred, pos_label=s_Lable, average='binary')\r\n",
    "    if is_print:\r\n",
    "        print('Being ' + predict_Lable + ' using ' + feature_type + ': '  ,'Estimators: {} / Max_Depth: {} / Learning_Rate: {} --> Precision: {} / Recall: {} / Accuracy: {}'.format(\r\n",
    "                                                        n_est,\r\n",
    "                                                        depth,\r\n",
    "                                                        lr,\r\n",
    "                                                        round(precision, 3),\r\n",
    "                                                        round(recall, 3), \r\n",
    "                                                        round((Y_pred==Y_test[Lable]).sum() / len(Y_pred),3)))\r\n",
    "    return([predict_Lable, feature_type, n_est, depth, lr, precision, recall, round((Y_pred==Y_test[Lable]).sum() / len(Y_pred),3)])\r\n",
    "\r\n",
    "\r\n",
    "\r\n",
    "classes = ['IE' , 'NS', 'FT', 'PJ']\r\n",
    "gb_result = []\r\n",
    "\r\n",
    "Y_train = pd.read_pickle('Y_train_fe.pkl')\r\n",
    "Y_test = pd.read_pickle('Y_test_fe.pkl')\r\n",
    "\r\n",
    "\r\n",
    "\r\n",
    "for feature_type in ['TFIDF', 'CountVectorizer']:\r\n",
    "    if feature_type == 'TFIDF':\r\n",
    "        X_test_set = pd.read_pickle('X_test_tfidf_fe.pkl')\r\n",
    "        X_train_set = pd.read_pickle('X_train_tfidf_fe.pkl')\r\n",
    "    elif feature_type == 'CountVectorizer':\r\n",
    "        X_test_set = pd.read_pickle('X_test_count_fe.pkl')\r\n",
    "        X_train_set = pd.read_pickle('X_train_count_fe.pkl')\r\n",
    "    for item in classes:\r\n",
    "        for n_est in [100, 150]:\r\n",
    "            for depth in [3, 7]:\r\n",
    "                for lr in [0.10]:\r\n",
    "                    gb_result.append(GBoosting_GridSearch(Lable = item, n_est=n_est, depth=depth, lr = lr, feature_type=feature_type, is_print = False))\r\n",
    "                    pd.DataFrame(gb_result, columns= ['Type', 'Method', 'Estimators', 'Max_Depth', 'Learning_Rate','Precision', 'Recall', 'Accuracy']).to_csv('GB_Holdout_Result-fe.csv')\r\n"
   ],
   "outputs": [],
   "metadata": {
    "tags": [
     "outputPrepend"
    ]
   }
  },
  {
   "cell_type": "code",
   "execution_count": 22,
   "source": [
    "from tabulate import tabulate\r\n",
    "\r\n",
    "df = pd.read_csv('GB_Holdout_Result-fe.csv')\r\n",
    "df = df.loc[:, ~df.columns.str.contains('^Unnamed')]\r\n",
    "print(df.sort_values(['Accuracy', 'Type'], ascending = False).groupby(['Type']).head(3).to_markdown(), '\\n')\r\n",
    "#print(df[df['Method'] == 'CountVectorizer'].sort_values(['Accuracy', 'Type'], ascending = False).groupby(['Type']).head(1).to_markdown())"
   ],
   "outputs": [
    {
     "output_type": "stream",
     "name": "stdout",
     "text": [
      "|    | Type       | Method          |   Estimators |   Max_Depth |   Learning_Rate |   Precision |   Recall |   Accuracy |\n",
      "|---:|:-----------|:----------------|-------------:|------------:|----------------:|------------:|---------:|-----------:|\n",
      "|  7 | Intuitives | TFIDF           |          150 |           7 |             0.1 |    0.882388 | 0.982539 |      0.873 |\n",
      "| 20 | Intuitives | CountVectorizer |          100 |           3 |             0.1 |    0.876786 | 0.989255 |      0.871 |\n",
      "|  6 | Intuitives | TFIDF           |          150 |           3 |             0.1 |    0.879735 | 0.982539 |      0.87  |\n",
      "| 18 | Introverts | CountVectorizer |          150 |           3 |             0.1 |    0.845659 | 0.971914 |      0.84  |\n",
      "| 16 | Introverts | CountVectorizer |          100 |           3 |             0.1 |    0.840282 | 0.968219 |      0.832 |\n",
      "| 17 | Introverts | CountVectorizer |          100 |           7 |             0.1 |    0.837075 | 0.964523 |      0.826 |\n",
      "| 27 | Feelers    | CountVectorizer |          150 |           7 |             0.1 |    0.801433 | 0.835646 |      0.799 |\n",
      "| 14 | Feelers    | TFIDF           |          150 |           3 |             0.1 |    0.805263 | 0.816435 |      0.794 |\n",
      "| 26 | Feelers    | CountVectorizer |          150 |           3 |             0.1 |    0.793878 | 0.830309 |      0.792 |\n",
      "| 31 | Perceivers | CountVectorizer |          150 |           7 |             0.1 |    0.773213 | 0.882739 |      0.769 |\n",
      "|  9 | Perceivers | TFIDF           |          100 |           7 |             0.1 |    0.760835 | 0.889306 |      0.76  |\n",
      "| 29 | Perceivers | CountVectorizer |          100 |           7 |             0.1 |    0.761866 | 0.873358 |      0.754 | \n",
      "\n"
     ]
    }
   ],
   "metadata": {}
  },
  {
   "cell_type": "code",
   "execution_count": 23,
   "source": [
    "import seaborn as sns\r\n",
    "from pandas import DataFrame\r\n",
    "\r\n",
    "df = pd.read_csv('GB_Holdout_Result-fe.csv')\r\n",
    "\r\n",
    "sns.lmplot(x='Estimators', y='Accuracy', data=df, hue='Type', fit_reg=False, aspect=1.2, height = 5, scatter_kws={\"s\": 100}, col = 'Type')\r\n",
    "sns.lmplot(x='Max_Depth', y='Accuracy', data=df, hue='Type', fit_reg=False, aspect=1.2, height = 5, scatter_kws={\"s\": 100}, col = 'Type')\r\n",
    "sns.lmplot(x='Learning_Rate', y='Accuracy', data=df, hue='Type', fit_reg=False, aspect=1.2, height = 5, scatter_kws={\"s\": 100}, col = 'Type')"
   ],
   "outputs": [
    {
     "output_type": "execute_result",
     "data": {
      "text/plain": [
       "<seaborn.axisgrid.FacetGrid at 0x15a2310a6d0>"
      ]
     },
     "metadata": {},
     "execution_count": 23
    },
    {
     "output_type": "display_data",
     "data": {
      "text/plain": [
       "<Figure size 1728x360 with 4 Axes>"
      ],
      "image/png": "[encoded data removed]"
     },
     "metadata": {
      "needs_background": "light"
     }
    },
    {
     "output_type": "display_data",
     "data": {
      "text/plain": [
       "<Figure size 1728x360 with 4 Axes>"
      ],
      "image/png": "[encoded data removed]"
     },
     "metadata": {
      "needs_background": "light"
     }
    },
    {
     "output_type": "display_data",
     "data": {
      "text/plain": [
       "<Figure size 1728x360 with 4 Axes>"
      ],
      "image/png": "[encoded data removed]"
     },
     "metadata": {
      "needs_background": "light"
     }
    }
   ],
   "metadata": {}
  },
  {
   "cell_type": "markdown",
   "source": [
    "### 5-2-2: Evaluation Gradient Boosting Model"
   ],
   "metadata": {}
  },
  {
   "cell_type": "code",
   "execution_count": 29,
   "source": [
    "from sklearn.ensemble import GradientBoostingClassifier\r\n",
    "from sklearn.model_selection import GridSearchCV\r\n",
    "import pandas as pd\r\n",
    "import numpy as np\r\n",
    "\r\n",
    "pd.set_option('display.max_colwidth', 500)\r\n",
    "\r\n",
    "\r\n",
    "def GB_Evaluation(param, Lable, is_print = True):\r\n",
    "    gb = GradientBoostingClassifier()\r\n",
    "    gs = GridSearchCV(gb, param, cv=5)#cv=5 meand 5 folde validation\r\n",
    "    gs_fit = gs.fit(X_train_set, Y_train[Lable])\r\n",
    "\r\n",
    "    if is_print:\r\n",
    "        print(pd.DataFrame(gs_fit.cv_results_).sort_values('mean_test_score', ascending = False)[['param_max_depth', \r\n",
    "        'param_n_estimators', 'param_learning_rate','std_test_score', 'mean_test_score', 'rank_test_score']][0:5])\r\n",
    "\r\n",
    "    return(pd.DataFrame(gs_fit.cv_results_))\r\n",
    "  \r\n",
    "param = {'n_estimators' : [150],\r\n",
    "                'max_depth' : [7, 3],\r\n",
    "                'learning_rate' : [0.1]}\r\n",
    "\r\n",
    "classes = ['IE' , 'NS', 'FT', 'PJ']\r\n",
    "Y_train = pd.read_pickle('Y_train_fe.pkl')\r\n",
    "gb_parm_result = []\r\n",
    "\r\n",
    "\r\n",
    "for feature_type in ['CountVectorizer']:#Only using CountVectorizer based on the result from previous steps\r\n",
    "    X_train_set = pd.read_pickle('X_train_count_fe.pkl')\r\n",
    "    for item in classes:\r\n",
    "        temp_DF = GB_Evaluation(param, Lable = item, is_print = False)\r\n",
    "        temp_DF.insert(0, 'Feature', feature_type)\r\n",
    "        temp_DF.insert(1, 'Class', item)\r\n",
    "        gb_parm_result.append(temp_DF)\r\n",
    "        pd.concat(gb_parm_result).to_csv('GB_Parm_Result_fe-IE.csv')"
   ],
   "outputs": [],
   "metadata": {}
  },
  {
   "cell_type": "code",
   "execution_count": 30,
   "source": [
    "import pandas as pd\r\n",
    "\r\n",
    "df = pd.read_csv('GB_Parm_Result_fe.csv')\r\n",
    "print(df[['Feature', 'Class', 'param_max_depth', 'param_n_estimators', 'param_learning_rate', 'mean_test_score', 'rank_test_score']]\r\n",
    "    .sort_values(['rank_test_score'], ascending = True)\r\n",
    "    .groupby(['Class']).head(1).to_markdown(), '\\n')"
   ],
   "outputs": [
    {
     "output_type": "stream",
     "name": "stdout",
     "text": [
      "|    | Feature         | Class   |   param_max_depth |   param_n_estimators |   param_learning_rate |   mean_test_score |   rank_test_score |\n",
      "|---:|:----------------|:--------|------------------:|---------------------:|----------------------:|------------------:|------------------:|\n",
      "|  0 | CountVectorizer | IE      |                 7 |                  150 |                   0.1 |          0.816859 |                 1 |\n",
      "|  3 | CountVectorizer | NS      |                 3 |                  150 |                   0.1 |          0.878674 |                 1 |\n",
      "|  5 | CountVectorizer | PJ      |                 3 |                  150 |                   0.1 |          0.748991 |                 1 |\n",
      "|  7 | CountVectorizer | FT      |                 3 |                  150 |                   0.1 |          0.793516 |                 1 | \n",
      "\n"
     ]
    }
   ],
   "metadata": {}
  },
  {
   "cell_type": "markdown",
   "source": [
    "## 5-3: Naive Bayes classifier\r\n",
    "### 5-3-1: Gradient Boosting with Holdout test set"
   ],
   "metadata": {}
  },
  {
   "cell_type": "code",
   "execution_count": 31,
   "source": [
    "from sklearn.metrics import precision_recall_fscore_support as score\r\n",
    "from sklearn.naive_bayes import MultinomialNB\r\n",
    "import pandas as pd\r\n",
    "import numpy as np\r\n",
    "\r\n",
    "pd.set_option('display.max_rows', None, 'display.max_colwidth', 500)\r\n",
    "\r\n",
    "def rfClassifier_GridSearch(X_test_set, X_train_set, Lable, feature_type, is_print = True):\r\n",
    "    \"\"\"This function will get number of estimators and depth as input return  Precision, recall and Accuracy for a given dataset and lable\"\"\"\r\n",
    "    if Lable == 'IE':\r\n",
    "        s_Lable = 'I'\r\n",
    "        predict_Lable = 'Introverts'\r\n",
    "    elif Lable == 'NS':\r\n",
    "        s_Lable = 'N'\r\n",
    "        predict_Lable = 'Intuitives'\r\n",
    "    elif Lable == 'FT':\r\n",
    "        s_Lable = 'F'\r\n",
    "        predict_Lable = 'Feelers'\r\n",
    "    elif Lable == 'PJ':\r\n",
    "        s_Lable = 'P'\r\n",
    "        predict_Lable = 'Perceivers'\r\n",
    "\r\n",
    "    X_train_set = X_train_set.drop(['Sentiment_Score'], axis=1)\r\n",
    "    X_test_set = X_test_set.drop(['Sentiment_Score'], axis=1)\r\n",
    "    \r\n",
    "    nb = MultinomialNB()\r\n",
    "    nb_model = nb.fit(X_train_set, Y_train[Lable])\r\n",
    "    Y_pred = nb_model.predict(X_test_set)\r\n",
    "    \r\n",
    "    precision, recall, fscore, support = score(Y_test[Lable], Y_pred, pos_label=s_Lable, average='binary')\r\n",
    "    if is_print:\r\n",
    "        print('Being ' + predict_Lable + ' using ' + feature_type + ':'  ,\r\n",
    "        ' --> Precision: {} / Recall: {} / Accuracy: {}'.format(\r\n",
    "                                                        round(precision, 3),\r\n",
    "                                                        round(recall, 3), \r\n",
    "                                                        round((Y_pred==Y_test[Lable]).sum() / len(Y_pred),3)))\r\n",
    "    return([predict_Lable, feature_type, precision, recall, round((Y_pred==Y_test[Lable]).sum() / len(Y_pred),3)])\r\n",
    "\r\n",
    "\r\n",
    "classes = ['IE' , 'NS', 'FT', 'PJ']\r\n",
    "rf_result = []\r\n",
    "\r\n",
    "Y_train = pd.read_pickle('Y_train_fe.pkl')\r\n",
    "Y_test = pd.read_pickle('Y_test_fe.pkl')\r\n",
    "\r\n",
    "#Nested loop to check different values on different features/classes to find the best parameters\r\n",
    "for feature_type in ['TFIDF', 'CountVectorizer']:\r\n",
    "    if feature_type == 'TFIDF':\r\n",
    "        X_test_set = pd.read_pickle('X_test_tfidf_fe.pkl')\r\n",
    "        X_train_set = pd.read_pickle('X_train_tfidf_fe.pkl')\r\n",
    "    elif feature_type == 'CountVectorizer':\r\n",
    "        X_test_set = pd.read_pickle('X_test_count_fe.pkl')\r\n",
    "        X_train_set = pd.read_pickle('X_train_count_fe.pkl')\r\n",
    "    for item in classes:\r\n",
    "        rf_result.append(rfClassifier_GridSearch(X_test_set = X_test_set, X_train_set = X_train_set, Lable = item, feature_type=feature_type, is_print = True))\r\n",
    "        pd.DataFrame(rf_result, columns= ['Type', 'Method', 'Precision', 'Recall', 'Accuracy']).to_csv('NB_Holdout_Result_fe.csv')"
   ],
   "outputs": [
    {
     "output_type": "stream",
     "name": "stdout",
     "text": [
      "Being Introverts using TFIDF:  --> Precision: 0.78 / Recall: 1.0 / Accuracy: 0.78\n",
      "Being Intuitives using TFIDF:  --> Precision: 0.858 / Recall: 1.0 / Accuracy: 0.858\n",
      "Being Feelers using TFIDF:  --> Precision: 0.542 / Recall: 0.999 / Accuracy: 0.543\n",
      "Being Perceivers using TFIDF:  --> Precision: 0.614 / Recall: 1.0 / Accuracy: 0.614\n",
      "Being Introverts using CountVectorizer:  --> Precision: 0.784 / Recall: 0.993 / Accuracy: 0.781\n",
      "Being Intuitives using CountVectorizer:  --> Precision: 0.859 / Recall: 0.999 / Accuracy: 0.859\n",
      "Being Feelers using CountVectorizer:  --> Precision: 0.765 / Recall: 0.866 / Accuracy: 0.784\n",
      "Being Perceivers using CountVectorizer:  --> Precision: 0.685 / Recall: 0.91 / Accuracy: 0.687\n"
     ]
    }
   ],
   "metadata": {}
  },
  {
   "cell_type": "markdown",
   "source": [
    "## Final evaluation of models\r\n",
    "### 1- Random Forest Classifier"
   ],
   "metadata": {}
  },
  {
   "cell_type": "code",
   "execution_count": 1,
   "source": [
    "import pandas as pd\r\n",
    "import numpy as np\r\n",
    "from sklearn.ensemble import RandomForestClassifier\r\n",
    "from sklearn.metrics import precision_recall_fscore_support as score\r\n",
    "import time\r\n",
    "import math\r\n",
    "\r\n",
    "Y_train = pd.read_pickle('Y_train_fe.pkl')\r\n",
    "Y_test = pd.read_pickle('Y_test_fe.pkl')\r\n",
    "X_train_count = pd.read_pickle('X_train_count_fe.pkl')\r\n",
    "X_test_count = pd.read_pickle('X_test_count_fe.pkl')\r\n",
    "\r\n",
    "df = pd.read_csv('RF_Parm_Result_fe.csv')\r\n",
    "df = df.sort_values(['rank_test_score'], ascending = True).groupby(['Class']).head(1)\r\n",
    "\r\n",
    "def RF_Final_Eval(item):\r\n",
    "    if item['Class'] == 'IE':\r\n",
    "        Lable, s_Lable, predict_Lable = 'IE', 'I', 'Introverts'\r\n",
    " \r\n",
    "    elif item['Class'] == 'NS':\r\n",
    "        Lable, s_Lable, predict_Lable = 'NS', 'N', 'Intuitives'\r\n",
    "\r\n",
    "    elif item['Class'] == 'FT':\r\n",
    "        Lable, s_Lable, predict_Lable = 'FT','F', 'Feelers'\r\n",
    "\r\n",
    "    elif item['Class'] == 'PJ':\r\n",
    "        Lable, s_Lable, predict_Lable = 'PJ','P', 'Perceivers'\r\n",
    "    \r\n",
    "    if math.isnan(item['param_max_depth']):\r\n",
    "        item['param_max_depth'] = None\r\n",
    "\r\n",
    "    rf = RandomForestClassifier(n_estimators=item['param_n_estimators'], max_depth=item['param_max_depth'], n_jobs=-1)\r\n",
    "\r\n",
    "    start = time.time()\r\n",
    "    rf_model = rf.fit(X_train_count, Y_train[Lable])\r\n",
    "    end = time.time()\r\n",
    "    fit_time = (end - start)\r\n",
    "\r\n",
    "    start = time.time()\r\n",
    "    Y_pred = rf_model.predict(X_test_count)\r\n",
    "    end = time.time()\r\n",
    "    pred_time = (end - start)\r\n",
    "\r\n",
    "    precision, recall, fscore, train_support = score(Y_test[Lable], Y_pred, pos_label=s_Lable, average='binary')\r\n",
    "\r\n",
    "    print('{} --> Fit time: {} / Predict time: {} --> Estimator {} / Max_Depth {} --> Precision: {} / Recall: {} / Accuracy: {}'.format(\r\n",
    "                                                    predict_Lable,\r\n",
    "                                                    round(fit_time, 3),\r\n",
    "                                                    round(pred_time, 3),\r\n",
    "                                                    item['param_n_estimators'],\r\n",
    "                                                    item['param_max_depth'],\r\n",
    "                                                    round(precision, 3),\r\n",
    "                                                    round(recall, 3), \r\n",
    "                                                    round((Y_pred==Y_test[Lable]).sum() / len(Y_pred),3)))\r\n",
    "\r\n",
    "\r\n",
    "for index, item in df.iterrows():\r\n",
    "    RF_Final_Eval(item)\r\n"
   ],
   "outputs": [
    {
     "output_type": "stream",
     "name": "stdout",
     "text": [
      "Intuitives --> Fit time: 22.561 / Predict time: 2.122 --> Estimator 10 / Max_Depth None --> Precision: 0.858 / Recall: 1.0 / Accuracy: 0.858\n",
      "Introverts --> Fit time: 28.255 / Predict time: 2.002 --> Estimator 10 / Max_Depth 30.0 --> Precision: 0.782 / Recall: 0.997 / Accuracy: 0.78\n",
      "Feelers --> Fit time: 149.833 / Predict time: 2.779 --> Estimator 500 / Max_Depth None --> Precision: 0.709 / Recall: 0.89 / Accuracy: 0.743\n",
      "Perceivers --> Fit time: 47.474 / Predict time: 2.642 --> Estimator 100 / Max_Depth None --> Precision: 0.634 / Recall: 0.979 / Accuracy: 0.64\n"
     ]
    }
   ],
   "metadata": {}
  },
  {
   "cell_type": "markdown",
   "source": [
    "### 2- Gradient Boosting Classifier"
   ],
   "metadata": {}
  },
  {
   "cell_type": "code",
   "execution_count": 2,
   "source": [
    "from sklearn.ensemble import GradientBoostingClassifier\r\n",
    "from sklearn.metrics import precision_recall_fscore_support as score\r\n",
    "import time\r\n",
    "import pandas as pd\r\n",
    "import numpy as np\r\n",
    "import math\r\n",
    "\r\n",
    "classes = ['IE' , 'NS', 'FT', 'PJ']\r\n",
    "Y_train = pd.read_pickle('Y_train_fe.pkl')\r\n",
    "Y_test = pd.read_pickle('Y_test_fe.pkl')\r\n",
    "X_train_count = pd.read_pickle('X_train_count_fe.pkl')\r\n",
    "X_test_count = pd.read_pickle('X_test_count_fe.pkl')\r\n",
    "\r\n",
    "df = pd.read_csv('GB_Parm_Result_fe.csv')\r\n",
    "df = df.sort_values(['rank_test_score'], ascending = True).groupby(['Class']).head(1)\r\n",
    "\r\n",
    "def GB_Final_Eval(item):\r\n",
    "    if item['Class'] == 'IE':\r\n",
    "        Lable, s_Lable, predict_Lable = 'IE', 'I', 'Introverts'\r\n",
    " \r\n",
    "    elif item['Class'] == 'NS':\r\n",
    "        Lable, s_Lable, predict_Lable = 'NS', 'N', 'Intuitives'\r\n",
    "\r\n",
    "    elif item['Class'] == 'FT':\r\n",
    "        Lable, s_Lable, predict_Lable = 'FT','F', 'Feelers'\r\n",
    "\r\n",
    "    elif item['Class'] == 'PJ':\r\n",
    "        Lable, s_Lable, predict_Lable = 'PJ','P', 'Perceivers'\r\n",
    "    \r\n",
    "    if math.isnan(item['param_max_depth']):\r\n",
    "        item['param_max_depth'] = None\r\n",
    "\r\n",
    "    gb = GradientBoostingClassifier(n_estimators=item['param_n_estimators'], max_depth=item['param_max_depth'], learning_rate=item['param_learning_rate'])\r\n",
    "\r\n",
    "    start = time.time()\r\n",
    "    gb_model = gb.fit(X_train_count,Y_train[Lable])\r\n",
    "    end = time.time()\r\n",
    "    fit_time = (end - start)\r\n",
    "\r\n",
    "    start = time.time()\r\n",
    "    Y_pred = gb_model.predict(X_test_count)\r\n",
    "    end = time.time()\r\n",
    "    pred_time = (end - start)\r\n",
    "\r\n",
    "\r\n",
    "    precision, recall, fscore, train_support = score(Y_test[Lable], Y_pred, pos_label=s_Lable, average='binary')\r\n",
    "\r\n",
    "    print('{} --> Fit time: {} / Predict time: {} --> Estimator {} / Max_Depth {} Learning_Rate {} --> Precision: {} / Recall: {} / Accuracy: {}'.format(\r\n",
    "                                                    predict_Lable,\r\n",
    "                                                    round(fit_time, 3),\r\n",
    "                                                    round(pred_time, 3),\r\n",
    "                                                    item['param_n_estimators'],\r\n",
    "                                                    item['param_max_depth'],\r\n",
    "                                                    item['param_learning_rate'],\r\n",
    "                                                    round(precision, 3),\r\n",
    "                                                    round(recall, 3), \r\n",
    "                                                    round((Y_pred==Y_test[Lable]).sum() / len(Y_pred),3)))\r\n",
    "    \r\n",
    "for index, item in df.iterrows():\r\n",
    "    GB_Final_Eval(item)\r\n",
    "                                                        "
   ],
   "outputs": [
    {
     "output_type": "stream",
     "name": "stdout",
     "text": [
      "Introverts --> Fit time: 3988.485 / Predict time: 5.663 --> Estimator 150 / Max_Depth 7 Learning_Rate 0.1 --> Precision: 0.839 / Recall: 0.964 / Accuracy: 0.827\n",
      "Intuitives --> Fit time: 1812.338 / Predict time: 5.804 --> Estimator 150 / Max_Depth 3 Learning_Rate 0.1 --> Precision: 0.877 / Recall: 0.989 / Accuracy: 0.871\n",
      "Perceivers --> Fit time: 1826.955 / Predict time: 5.721 --> Estimator 150 / Max_Depth 3 Learning_Rate 0.1 --> Precision: 0.75 / Recall: 0.893 / Accuracy: 0.751\n",
      "Feelers --> Fit time: 1863.441 / Predict time: 5.766 --> Estimator 150 / Max_Depth 3 Learning_Rate 0.1 --> Precision: 0.794 / Recall: 0.832 / Accuracy: 0.793\n"
     ]
    }
   ],
   "metadata": {}
  },
  {
   "cell_type": "markdown",
   "source": [
    "### 3- Naive Bayes classifier"
   ],
   "metadata": {}
  },
  {
   "cell_type": "code",
   "execution_count": 5,
   "source": [
    "from sklearn.ensemble import GradientBoostingClassifier\r\n",
    "from sklearn.metrics import precision_recall_fscore_support as score\r\n",
    "import time\r\n",
    "import pandas as pd\r\n",
    "import numpy as np\r\n",
    "import math\r\n",
    "from sklearn.naive_bayes import MultinomialNB\r\n",
    "\r\n",
    "classes = ['IE' , 'NS', 'FT', 'PJ']\r\n",
    "Y_train = pd.read_pickle('Y_train_fe.pkl')\r\n",
    "Y_test = pd.read_pickle('Y_test_fe.pkl')\r\n",
    "X_train_count = pd.read_pickle('X_train_count_fe.pkl')\r\n",
    "X_test_count = pd.read_pickle('X_test_count_fe.pkl')\r\n",
    "X_train_count = X_train_count.drop(['Sentiment_Score'], axis=1)\r\n",
    "X_test_count = X_test_count.drop(['Sentiment_Score'], axis=1)\r\n",
    "\r\n",
    "def NB_Final_Eval(lable):\r\n",
    "    if lable == 'IE':\r\n",
    "        s_Lable, predict_Lable = 'I', 'Introverts'\r\n",
    " \r\n",
    "    elif lable == 'NS':\r\n",
    "        s_Lable, predict_Lable = 'N', 'Intuitives'\r\n",
    "\r\n",
    "    elif lable == 'FT':\r\n",
    "        s_Lable, predict_Lable = 'F', 'Feelers'\r\n",
    "\r\n",
    "    elif lable == 'PJ':\r\n",
    "        s_Lable, predict_Lable = 'P', 'Perceivers'\r\n",
    "\r\n",
    "    nb = MultinomialNB()\r\n",
    "\r\n",
    "    start = time.time()\r\n",
    "    nb_model = nb.fit(X_train_count, Y_train[lable])\r\n",
    "    end = time.time()\r\n",
    "    fit_time = (end - start)\r\n",
    "\r\n",
    "    start = time.time()\r\n",
    "    Y_pred = nb_model.predict(X_test_count)\r\n",
    "    end = time.time()\r\n",
    "    pred_time = (end - start)\r\n",
    "\r\n",
    "\r\n",
    "    precision, recall, fscore, train_support = score(Y_test[lable], Y_pred, pos_label=s_Lable, average='binary')\r\n",
    "\r\n",
    "    print('{} --> Fit time: {} / Predict time: {} --> Precision: {} / Recall: {} / Accuracy: {}'.format(\r\n",
    "                                                    predict_Lable,\r\n",
    "                                                    round(fit_time, 3),\r\n",
    "                                                    round(pred_time, 3),\r\n",
    "                                                    round(precision, 3),\r\n",
    "                                                    round(recall, 3), \r\n",
    "                                                    round((Y_pred==Y_test[lable]).sum() / len(Y_pred),3)))\r\n",
    "    \r\n",
    "for lable in classes:\r\n",
    "    NB_Final_Eval(lable)\r\n",
    "                                                        "
   ],
   "outputs": [
    {
     "output_type": "stream",
     "name": "stdout",
     "text": [
      "Introverts --> Fit time: 10.008 / Predict time: 2.31 --> Precision: 0.784 / Recall: 0.993 / Accuracy: 0.781\n",
      "Intuitives --> Fit time: 18.62 / Predict time: 1.949 --> Precision: 0.859 / Recall: 0.999 / Accuracy: 0.859\n",
      "Feelers --> Fit time: 9.331 / Predict time: 1.809 --> Precision: 0.765 / Recall: 0.866 / Accuracy: 0.784\n",
      "Perceivers --> Fit time: 12.976 / Predict time: 1.792 --> Precision: 0.685 / Recall: 0.91 / Accuracy: 0.687\n"
     ]
    }
   ],
   "metadata": {}
  },
  {
   "cell_type": "markdown",
   "source": [
    "## Final table to compair Random Forest, Gradient Boosting and Naive Bayes models\r\n",
    "\r\n",
    "| Model             | Type         | Fit_Time | Predict_Time | Percision | Recall | Accuracy |\r\n",
    "|-------------------|--------------|----------|--------------|-----------|--------|----------|\r\n",
    "| Random Forest     | Intuitives   | 22.561   | 2.122        | 0.858     | 1.0    | 0.858    |\r\n",
    "| Gradient Boosting | Intuitives   | 1812.338 | 5.804        | 0.877     | 0.989  | 0.871    |\r\n",
    "| Naive Bayes       | Intuitives   | 18.62    | 1.949        | 0.859     | 0.999  | 0.859    |\r\n",
    "|-------------------|--------------|----------|--------------|-----------|--------|----------|\r\n",
    "| Random Forest     | Introverts   | 28.255   | 2.002        | 0.782     | 0.997  | 0.78     |\r\n",
    "| Gradient Boosting | Introverts   | 3988.485 | 5.663        | 0.839     | 0.964  | 0.827    |\r\n",
    "| Naive Bayes       | Introverts   | 10.008   | 2.31         | 0.784     | 0.993  | 0.781    |\r\n",
    "|-------------------|--------------|----------|--------------|-----------|--------|----------|\r\n",
    "| Random Forest     | Feelers      | 149.833  | 2.779        | 0.709     | 0.89   | 0.743    |\r\n",
    "| Gradient Boosting | Feelers      | 1863.441 | 5.766        | 0.794     | 0.832  | 0.793    |\r\n",
    "| Naive Bayes       | Feelers      | 9.331    | 1.809        | 0.765     | 0.866  | 0.784    |\r\n",
    "|-------------------|--------------|----------|--------------|-----------|--------|----------|\r\n",
    "| Random Forest     | Perceivers   | 47.474   | 2.642        | 0.634     | 0.979  | 0.64     |\r\n",
    "| Gradient Boosting | Perceivers   | 1826.955 | 5.721        | 0.75      | 0.893  | 0.751    |\r\n",
    "| Naive Bayes       | Perceivers   | 12.976   | 1.792        | 0.685     | 0.91   | 0.687    |\r\n",
    "\r\n",
    "GBoosting has a higher accuracy and significantly higher fitting time in comparison to Random Forest and Naive Bayes. Since the predicted time for GBoosting is slightly higher, but not significantly different, we are going to build our model once for this project. This model will be used to predict Twitter users' personality types."
   ],
   "metadata": {}
  }
 ],
 "metadata": {
  "interpreter": {
   "hash": "b3ba2566441a7c06988d0923437866b63cedc61552a5af99d1f4fb67d367b25f"
  },
  "kernelspec": {
   "name": "python3",
   "display_name": "Python 3.8.5 64-bit ('base': conda)"
  },
  "language_info": {
   "name": "python",
   "version": "3.8.5",
   "mimetype": "text/x-python",
   "codemirror_mode": {
    "name": "ipython",
    "version": 3
   },
   "pygments_lexer": "ipython3",
   "nbconvert_exporter": "python",
   "file_extension": ".py"
  },
  "metadata": {
   "interpreter": {
    "hash": "6bd3622f6f3f8bb6e8b4643a72dc4bf7a75a1467dea0f2ef918aabb1c737dfb1"
   }
  },
  "orig_nbformat": 2
 },
 "nbformat": 4,
 "nbformat_minor": 2
}